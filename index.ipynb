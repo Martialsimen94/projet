{
 "cells": [
  {
   "cell_type": "markdown",
   "metadata": {},
   "source": [
    "![img](../projet/image.png)\n",
    "<H1>Projet Analyse de Données<H1>"
   ]
  },
  {
   "cell_type": "code",
   "execution_count": 86,
   "metadata": {},
   "outputs": [],
   "source": [
    "import pandas as pd\n",
    "import numpy as np\n",
    "import plotly as plot\n",
    "import matplotlib.pyplot as plt\n",
    "import seaborn as sn\n",
    "import plotly.express as px"
   ]
  },
  {
   "cell_type": "markdown",
   "metadata": {},
   "source": [
    "### Chargement de données \n",
    "Les données sont dans un tableau au format CSV(Comma Separeted Values) :"
   ]
  },
  {
   "cell_type": "code",
   "execution_count": 42,
   "metadata": {},
   "outputs": [],
   "source": [
    "gp = pd.read_csv('../projet/data/riders-info.csv')"
   ]
  },
  {
   "cell_type": "markdown",
   "metadata": {},
   "source": [
    "*Observons les résultats que l'on obtient*"
   ]
  },
  {
   "cell_type": "code",
   "execution_count": 44,
   "metadata": {},
   "outputs": [
    {
     "data": {
      "text/html": [
       "<div>\n",
       "<style scoped>\n",
       "    .dataframe tbody tr th:only-of-type {\n",
       "        vertical-align: middle;\n",
       "    }\n",
       "\n",
       "    .dataframe tbody tr th {\n",
       "        vertical-align: top;\n",
       "    }\n",
       "\n",
       "    .dataframe thead th {\n",
       "        text-align: right;\n",
       "    }\n",
       "</style>\n",
       "<table border=\"1\" class=\"dataframe\">\n",
       "  <thead>\n",
       "    <tr style=\"text-align: right;\">\n",
       "      <th></th>\n",
       "      <th>Riders All Time in All Classes</th>\n",
       "      <th>Victories</th>\n",
       "      <th>2nd places</th>\n",
       "      <th>3rd places</th>\n",
       "      <th>Pole positions from '74 to 2022</th>\n",
       "      <th>Race fastest lap to 2022</th>\n",
       "      <th>World Championships</th>\n",
       "    </tr>\n",
       "  </thead>\n",
       "  <tbody>\n",
       "    <tr>\n",
       "      <th>363</th>\n",
       "      <td>ROSSI Louis</td>\n",
       "      <td>1</td>\n",
       "      <td>NaN</td>\n",
       "      <td>NaN</td>\n",
       "      <td>NaN</td>\n",
       "      <td>NaN</td>\n",
       "      <td>NaN</td>\n",
       "    </tr>\n",
       "    <tr>\n",
       "      <th>364</th>\n",
       "      <td>LEONI Guido</td>\n",
       "      <td>1</td>\n",
       "      <td>NaN</td>\n",
       "      <td>NaN</td>\n",
       "      <td>NaN</td>\n",
       "      <td>NaN</td>\n",
       "      <td>NaN</td>\n",
       "    </tr>\n",
       "    <tr>\n",
       "      <th>365</th>\n",
       "      <td>FELGENHEIER Roland</td>\n",
       "      <td>1</td>\n",
       "      <td>NaN</td>\n",
       "      <td>NaN</td>\n",
       "      <td>NaN</td>\n",
       "      <td>NaN</td>\n",
       "      <td>NaN</td>\n",
       "    </tr>\n",
       "    <tr>\n",
       "      <th>366</th>\n",
       "      <td>AUREAL Jean</td>\n",
       "      <td>1</td>\n",
       "      <td>NaN</td>\n",
       "      <td>NaN</td>\n",
       "      <td>NaN</td>\n",
       "      <td>NaN</td>\n",
       "      <td>NaN</td>\n",
       "    </tr>\n",
       "    <tr>\n",
       "      <th>367</th>\n",
       "      <td>CARPENTER Phil</td>\n",
       "      <td>1</td>\n",
       "      <td>NaN</td>\n",
       "      <td>NaN</td>\n",
       "      <td>NaN</td>\n",
       "      <td>NaN</td>\n",
       "      <td>NaN</td>\n",
       "    </tr>\n",
       "  </tbody>\n",
       "</table>\n",
       "</div>"
      ],
      "text/plain": [
       "    Riders All Time in All Classes  Victories  2nd places  3rd places  \\\n",
       "363                    ROSSI Louis          1         NaN         NaN   \n",
       "364                    LEONI Guido          1         NaN         NaN   \n",
       "365             FELGENHEIER Roland          1         NaN         NaN   \n",
       "366                    AUREAL Jean          1         NaN         NaN   \n",
       "367                 CARPENTER Phil          1         NaN         NaN   \n",
       "\n",
       "     Pole positions from '74 to 2022  Race fastest lap to 2022  \\\n",
       "363                              NaN                       NaN   \n",
       "364                              NaN                       NaN   \n",
       "365                              NaN                       NaN   \n",
       "366                              NaN                       NaN   \n",
       "367                              NaN                       NaN   \n",
       "\n",
       "     World Championships  \n",
       "363                  NaN  \n",
       "364                  NaN  \n",
       "365                  NaN  \n",
       "366                  NaN  \n",
       "367                  NaN  "
      ]
     },
     "execution_count": 44,
     "metadata": {},
     "output_type": "execute_result"
    }
   ],
   "source": [
    "gp.tail()"
   ]
  },
  {
   "cell_type": "code",
   "execution_count": 45,
   "metadata": {},
   "outputs": [
    {
     "data": {
      "text/plain": [
       "(368, 7)"
      ]
     },
     "execution_count": 45,
     "metadata": {},
     "output_type": "execute_result"
    }
   ],
   "source": [
    "gp.shape"
   ]
  },
  {
   "cell_type": "code",
   "execution_count": 46,
   "metadata": {},
   "outputs": [
    {
     "name": "stdout",
     "output_type": "stream",
     "text": [
      "<class 'pandas.core.frame.DataFrame'>\n",
      "RangeIndex: 368 entries, 0 to 367\n",
      "Data columns (total 7 columns):\n",
      " #   Column                           Non-Null Count  Dtype  \n",
      "---  ------                           --------------  -----  \n",
      " 0   Riders All Time in All Classes   368 non-null    object \n",
      " 1   Victories                        368 non-null    int64  \n",
      " 2   2nd places                       339 non-null    float64\n",
      " 3   3rd places                       320 non-null    float64\n",
      " 4   Pole positions from '74 to 2022  226 non-null    float64\n",
      " 5   Race fastest lap to 2022         295 non-null    float64\n",
      " 6   World Championships              114 non-null    float64\n",
      "dtypes: float64(5), int64(1), object(1)\n",
      "memory usage: 20.2+ KB\n"
     ]
    }
   ],
   "source": [
    "gp.info()"
   ]
  },
  {
   "cell_type": "markdown",
   "metadata": {},
   "source": [
    "Les colonnes sont:\n",
    "*   Riders All Time in All Classes : Pilotes de tous les temps dans toutes les catégories\n",
    "*   Victories : nombre de victoire\n",
    "*   2nd places : deuxième places\n",
    "*   3rd places : troisièmes places\n",
    "*   Pole position from '74 to 2022' : Pole position de '74 à 2022'\n",
    "*   Race fastest lap to 2022 : Tour le plus rapide de la course jusqu’en 2022\n",
    "*   World Championships : Championts du monde"
   ]
  },
  {
   "cell_type": "markdown",
   "metadata": {},
   "source": [
    "### Nombre de valeurs NaN du tableau"
   ]
  },
  {
   "cell_type": "code",
   "execution_count": 47,
   "metadata": {},
   "outputs": [
    {
     "data": {
      "text/plain": [
       "Riders All Time in All Classes       0\n",
       "Victories                            0\n",
       "2nd places                          29\n",
       "3rd places                          48\n",
       "Pole positions from '74 to 2022    142\n",
       "Race fastest lap to 2022            73\n",
       "World Championships                254\n",
       "dtype: int64"
      ]
     },
     "execution_count": 47,
     "metadata": {},
     "output_type": "execute_result"
    }
   ],
   "source": [
    "gp.isnull().sum()"
   ]
  },
  {
   "cell_type": "code",
   "execution_count": 48,
   "metadata": {},
   "outputs": [
    {
     "name": "stdout",
     "output_type": "stream",
     "text": [
      "<class 'pandas.core.frame.DataFrame'>\n",
      "RangeIndex: 368 entries, 0 to 367\n",
      "Data columns (total 7 columns):\n",
      " #   Column                           Non-Null Count  Dtype  \n",
      "---  ------                           --------------  -----  \n",
      " 0   Noms                             368 non-null    object \n",
      " 1   Victories                        368 non-null    int64  \n",
      " 2   2nd places                       339 non-null    float64\n",
      " 3   3rd places                       320 non-null    float64\n",
      " 4   Pole positions from '74 to 2022  226 non-null    float64\n",
      " 5   Race fastest lap to 2022         295 non-null    float64\n",
      " 6   World Championships              114 non-null    float64\n",
      "dtypes: float64(5), int64(1), object(1)\n",
      "memory usage: 20.2+ KB\n"
     ]
    }
   ],
   "source": [
    "gp.rename(columns={\"Riders All Time in All Classes\":\"Noms\"}, inplace=True)\n",
    "gp.info()"
   ]
  },
  {
   "cell_type": "markdown",
   "metadata": {},
   "source": [
    "Plusieurs champs ont des valeurs manquantes;\n",
    "### nous allons les remplacer par 0 étant donné que ce sont des valeurs numériques"
   ]
  },
  {
   "cell_type": "code",
   "execution_count": 49,
   "metadata": {},
   "outputs": [],
   "source": [
    "gp1 = gp.fillna(0)"
   ]
  },
  {
   "cell_type": "code",
   "execution_count": 50,
   "metadata": {},
   "outputs": [
    {
     "data": {
      "text/html": [
       "<div>\n",
       "<style scoped>\n",
       "    .dataframe tbody tr th:only-of-type {\n",
       "        vertical-align: middle;\n",
       "    }\n",
       "\n",
       "    .dataframe tbody tr th {\n",
       "        vertical-align: top;\n",
       "    }\n",
       "\n",
       "    .dataframe thead th {\n",
       "        text-align: right;\n",
       "    }\n",
       "</style>\n",
       "<table border=\"1\" class=\"dataframe\">\n",
       "  <thead>\n",
       "    <tr style=\"text-align: right;\">\n",
       "      <th></th>\n",
       "      <th>count</th>\n",
       "      <th>mean</th>\n",
       "      <th>std</th>\n",
       "      <th>min</th>\n",
       "      <th>25%</th>\n",
       "      <th>50%</th>\n",
       "      <th>75%</th>\n",
       "      <th>max</th>\n",
       "    </tr>\n",
       "  </thead>\n",
       "  <tbody>\n",
       "    <tr>\n",
       "      <th>Victories</th>\n",
       "      <td>368.0</td>\n",
       "      <td>8.679348</td>\n",
       "      <td>14.460711</td>\n",
       "      <td>1.0</td>\n",
       "      <td>1.0</td>\n",
       "      <td>4.0</td>\n",
       "      <td>9.25</td>\n",
       "      <td>122.0</td>\n",
       "    </tr>\n",
       "    <tr>\n",
       "      <th>2nd places</th>\n",
       "      <td>368.0</td>\n",
       "      <td>7.826087</td>\n",
       "      <td>9.022054</td>\n",
       "      <td>0.0</td>\n",
       "      <td>2.0</td>\n",
       "      <td>5.0</td>\n",
       "      <td>10.00</td>\n",
       "      <td>67.0</td>\n",
       "    </tr>\n",
       "    <tr>\n",
       "      <th>3rd places</th>\n",
       "      <td>368.0</td>\n",
       "      <td>7.016304</td>\n",
       "      <td>7.071820</td>\n",
       "      <td>0.0</td>\n",
       "      <td>2.0</td>\n",
       "      <td>5.0</td>\n",
       "      <td>10.00</td>\n",
       "      <td>53.0</td>\n",
       "    </tr>\n",
       "    <tr>\n",
       "      <th>Pole positions from '74 to 2022</th>\n",
       "      <td>368.0</td>\n",
       "      <td>6.000000</td>\n",
       "      <td>11.095572</td>\n",
       "      <td>0.0</td>\n",
       "      <td>0.0</td>\n",
       "      <td>1.0</td>\n",
       "      <td>7.00</td>\n",
       "      <td>90.0</td>\n",
       "    </tr>\n",
       "    <tr>\n",
       "      <th>Race fastest lap to 2022</th>\n",
       "      <td>368.0</td>\n",
       "      <td>7.649457</td>\n",
       "      <td>13.038800</td>\n",
       "      <td>0.0</td>\n",
       "      <td>1.0</td>\n",
       "      <td>3.0</td>\n",
       "      <td>9.00</td>\n",
       "      <td>117.0</td>\n",
       "    </tr>\n",
       "    <tr>\n",
       "      <th>World Championships</th>\n",
       "      <td>368.0</td>\n",
       "      <td>0.739130</td>\n",
       "      <td>1.741430</td>\n",
       "      <td>0.0</td>\n",
       "      <td>0.0</td>\n",
       "      <td>0.0</td>\n",
       "      <td>1.00</td>\n",
       "      <td>15.0</td>\n",
       "    </tr>\n",
       "  </tbody>\n",
       "</table>\n",
       "</div>"
      ],
      "text/plain": [
       "                                 count      mean        std  min  25%  50%  \\\n",
       "Victories                        368.0  8.679348  14.460711  1.0  1.0  4.0   \n",
       "2nd places                       368.0  7.826087   9.022054  0.0  2.0  5.0   \n",
       "3rd places                       368.0  7.016304   7.071820  0.0  2.0  5.0   \n",
       "Pole positions from '74 to 2022  368.0  6.000000  11.095572  0.0  0.0  1.0   \n",
       "Race fastest lap to 2022         368.0  7.649457  13.038800  0.0  1.0  3.0   \n",
       "World Championships              368.0  0.739130   1.741430  0.0  0.0  0.0   \n",
       "\n",
       "                                   75%    max  \n",
       "Victories                         9.25  122.0  \n",
       "2nd places                       10.00   67.0  \n",
       "3rd places                       10.00   53.0  \n",
       "Pole positions from '74 to 2022   7.00   90.0  \n",
       "Race fastest lap to 2022          9.00  117.0  \n",
       "World Championships               1.00   15.0  "
      ]
     },
     "execution_count": 50,
     "metadata": {},
     "output_type": "execute_result"
    }
   ],
   "source": [
    "gp1.describe().transpose()"
   ]
  },
  {
   "cell_type": "markdown",
   "metadata": {},
   "source": [
    "Affichons le graphe qui represente les pilotes et leurs victoire:\n",
    "Nous remarquons que le pilote  Valentino Rossi qui aura le code 1 a moins de victoire que le pilote au code 0"
   ]
  },
  {
   "cell_type": "code",
   "execution_count": 64,
   "metadata": {},
   "outputs": [
    {
     "data": {
      "image/png": "[encoded data removed]",
      "text/plain": [
       "<Figure size 640x480 with 1 Axes>"
      ]
     },
     "metadata": {},
     "output_type": "display_data"
    }
   ],
   "source": [
    "gp1.head(25).plot.barh(x=\"Noms\",y=\"Victories\",color=\"red\",alpha=0.80);plt.xlabel(\"victories\");plt.ylabel(\"Name of Players\");\n",
    "plt.title(\"Victories by Players\");plt.show()"
   ]
  },
  {
   "cell_type": "code",
   "execution_count": 52,
   "metadata": {},
   "outputs": [
    {
     "data": {
      "text/plain": [
       "<AxesSubplot:>"
      ]
     },
     "execution_count": 52,
     "metadata": {},
     "output_type": "execute_result"
    },
    {
     "data": {
      "image/png": "[encoded data removed]",
      "text/plain": [
       "<Figure size 640x480 with 1 Axes>"
      ]
     },
     "metadata": {},
     "output_type": "display_data"
    }
   ],
   "source": [
    "gp1.plot.box()"
   ]
  },
  {
   "cell_type": "markdown",
   "metadata": {},
   "source": [
    "### graphe qui montre le nombre de championat du monde remporté"
   ]
  },
  {
   "cell_type": "markdown",
   "metadata": {},
   "source": [
    "Pilotes avec plus de 5 victoires: Giacomo Agostini reste toujours le plus de victoires"
   ]
  },
  {
   "cell_type": "code",
   "execution_count": 67,
   "metadata": {},
   "outputs": [
    {
     "data": {
      "image/png": "[encoded data removed]",
      "text/plain": [
       "<Figure size 640x480 with 1 Axes>"
      ]
     },
     "metadata": {},
     "output_type": "display_data"
    }
   ],
   "source": [
    "gp1[gp1[\"World Championships\"]>5].plot(x=\"Noms\",y=\"World Championships\",kind=\"bar\",color=\"green\")\n",
    "plt.xlabel(\"Nom des pilotes\")\n",
    "plt.ylabel(\"No . of world campionships\")\n",
    "plt.title(\"No. of world title won by players\",fontsize=10,pad=5)\n",
    "plt.show()"
   ]
  },
  {
   "cell_type": "markdown",
   "metadata": {},
   "source": [
    "Les coureurs qui ont plusieurs podiums tels que champion, deuxième et troisième place. Valentino Rossi est le pilote avec le plus grand nombre de podiums par rapport à Giacomo Agostini."
   ]
  },
  {
   "cell_type": "code",
   "execution_count": 62,
   "metadata": {},
   "outputs": [
    {
     "data": {
      "image/png": "[encoded data removed]",
      "text/plain": [
       "<Figure size 640x480 with 1 Axes>"
      ]
     },
     "metadata": {},
     "output_type": "display_data"
    }
   ],
   "source": [
    "df_mt=gp1.drop(columns=[\"Pole positions from '74 to 2022\",\"Race fastest lap to 2022\",\"World Championships\"])\n",
    "\n",
    "df_mt.head(10).plot(x='Noms', kind='bar', stacked=True,\n",
    "        title='Stacked Bar Graph by dataframe')\n",
    "plt.show()"
   ]
  },
  {
   "cell_type": "code",
   "execution_count": 68,
   "metadata": {},
   "outputs": [
    {
     "data": {
      "image/png": "[encoded data removed]",
      "text/plain": [
       "<Figure size 640x480 with 1 Axes>"
      ]
     },
     "metadata": {},
     "output_type": "display_data"
    }
   ],
   "source": [
    "total = sum(gp1[\"Victories\"])\n",
    "data = [sum(gp1[\"Victories\"].head(10)),sum(gp1[\"Victories\"])-sum(gp1[\"Victories\"].head(10))]\n",
    "\n",
    "sizes = data\n",
    "labels = ['top 10 riders victories', 'Other riders victories']\n",
    "colors = ['blue', 'red']\n",
    "\n",
    "explode = (0.05, 0.05)\n",
    "\n",
    "# Pie Chart\n",
    "plt.pie(sizes, colors=colors, labels=labels,autopct='%1.1f%%', pctdistance=0.85,explode=explode)\n",
    "\n",
    "# draw circle\n",
    "centre_circle = plt.Circle((0, 0), 0.60, fc='white')\n",
    "fig = plt.gcf()\n",
    "\n",
    "fig.gca().add_artist(centre_circle)\n",
    "\n",
    "plt.title('Victories of top 10 players vs other Riders')\n",
    "\n",
    "plt.legend(labels, loc=\"upper left\", title=\"Comparision of top players vs others\")\n",
    "\n",
    "plt.show()"
   ]
  },
  {
   "cell_type": "markdown",
   "metadata": {},
   "source": [
    "## Correlation"
   ]
  },
  {
   "cell_type": "code",
   "execution_count": 59,
   "metadata": {},
   "outputs": [
    {
     "data": {
      "text/html": [
       "<style type=\"text/css\">\n",
       "#T_a19f2_row0_col0, #T_a19f2_row1_col1, #T_a19f2_row2_col2, #T_a19f2_row3_col3, #T_a19f2_row4_col4, #T_a19f2_row5_col5 {\n",
       "  background-color: green;\n",
       "}\n",
       "</style>\n",
       "<table id=\"T_a19f2\">\n",
       "  <thead>\n",
       "    <tr>\n",
       "      <th class=\"blank level0\" >&nbsp;</th>\n",
       "      <th id=\"T_a19f2_level0_col0\" class=\"col_heading level0 col0\" >Victories</th>\n",
       "      <th id=\"T_a19f2_level0_col1\" class=\"col_heading level0 col1\" >2nd places</th>\n",
       "      <th id=\"T_a19f2_level0_col2\" class=\"col_heading level0 col2\" >3rd places</th>\n",
       "      <th id=\"T_a19f2_level0_col3\" class=\"col_heading level0 col3\" >Pole positions from '74 to 2022</th>\n",
       "      <th id=\"T_a19f2_level0_col4\" class=\"col_heading level0 col4\" >Race fastest lap to 2022</th>\n",
       "      <th id=\"T_a19f2_level0_col5\" class=\"col_heading level0 col5\" >World Championships</th>\n",
       "    </tr>\n",
       "  </thead>\n",
       "  <tbody>\n",
       "    <tr>\n",
       "      <th id=\"T_a19f2_level0_row0\" class=\"row_heading level0 row0\" >Victories</th>\n",
       "      <td id=\"T_a19f2_row0_col0\" class=\"data row0 col0\" >1.000000</td>\n",
       "      <td id=\"T_a19f2_row0_col1\" class=\"data row0 col1\" >0.800686</td>\n",
       "      <td id=\"T_a19f2_row0_col2\" class=\"data row0 col2\" >0.580136</td>\n",
       "      <td id=\"T_a19f2_row0_col3\" class=\"data row0 col3\" >0.692807</td>\n",
       "      <td id=\"T_a19f2_row0_col4\" class=\"data row0 col4\" >0.958650</td>\n",
       "      <td id=\"T_a19f2_row0_col5\" class=\"data row0 col5\" >0.907953</td>\n",
       "    </tr>\n",
       "    <tr>\n",
       "      <th id=\"T_a19f2_level0_row1\" class=\"row_heading level0 row1\" >2nd places</th>\n",
       "      <td id=\"T_a19f2_row1_col0\" class=\"data row1 col0\" >0.800686</td>\n",
       "      <td id=\"T_a19f2_row1_col1\" class=\"data row1 col1\" >1.000000</td>\n",
       "      <td id=\"T_a19f2_row1_col2\" class=\"data row1 col2\" >0.823005</td>\n",
       "      <td id=\"T_a19f2_row1_col3\" class=\"data row1 col3\" >0.714619</td>\n",
       "      <td id=\"T_a19f2_row1_col4\" class=\"data row1 col4\" >0.777982</td>\n",
       "      <td id=\"T_a19f2_row1_col5\" class=\"data row1 col5\" >0.658043</td>\n",
       "    </tr>\n",
       "    <tr>\n",
       "      <th id=\"T_a19f2_level0_row2\" class=\"row_heading level0 row2\" >3rd places</th>\n",
       "      <td id=\"T_a19f2_row2_col0\" class=\"data row2 col0\" >0.580136</td>\n",
       "      <td id=\"T_a19f2_row2_col1\" class=\"data row2 col1\" >0.823005</td>\n",
       "      <td id=\"T_a19f2_row2_col2\" class=\"data row2 col2\" >1.000000</td>\n",
       "      <td id=\"T_a19f2_row2_col3\" class=\"data row2 col3\" >0.607842</td>\n",
       "      <td id=\"T_a19f2_row2_col4\" class=\"data row2 col4\" >0.573283</td>\n",
       "      <td id=\"T_a19f2_row2_col5\" class=\"data row2 col5\" >0.399272</td>\n",
       "    </tr>\n",
       "    <tr>\n",
       "      <th id=\"T_a19f2_level0_row3\" class=\"row_heading level0 row3\" >Pole positions from '74 to 2022</th>\n",
       "      <td id=\"T_a19f2_row3_col0\" class=\"data row3 col0\" >0.692807</td>\n",
       "      <td id=\"T_a19f2_row3_col1\" class=\"data row3 col1\" >0.714619</td>\n",
       "      <td id=\"T_a19f2_row3_col2\" class=\"data row3 col2\" >0.607842</td>\n",
       "      <td id=\"T_a19f2_row3_col3\" class=\"data row3 col3\" >1.000000</td>\n",
       "      <td id=\"T_a19f2_row3_col4\" class=\"data row3 col4\" >0.636049</td>\n",
       "      <td id=\"T_a19f2_row3_col5\" class=\"data row3 col5\" >0.508092</td>\n",
       "    </tr>\n",
       "    <tr>\n",
       "      <th id=\"T_a19f2_level0_row4\" class=\"row_heading level0 row4\" >Race fastest lap to 2022</th>\n",
       "      <td id=\"T_a19f2_row4_col0\" class=\"data row4 col0\" >0.958650</td>\n",
       "      <td id=\"T_a19f2_row4_col1\" class=\"data row4 col1\" >0.777982</td>\n",
       "      <td id=\"T_a19f2_row4_col2\" class=\"data row4 col2\" >0.573283</td>\n",
       "      <td id=\"T_a19f2_row4_col3\" class=\"data row4 col3\" >0.636049</td>\n",
       "      <td id=\"T_a19f2_row4_col4\" class=\"data row4 col4\" >1.000000</td>\n",
       "      <td id=\"T_a19f2_row4_col5\" class=\"data row4 col5\" >0.867180</td>\n",
       "    </tr>\n",
       "    <tr>\n",
       "      <th id=\"T_a19f2_level0_row5\" class=\"row_heading level0 row5\" >World Championships</th>\n",
       "      <td id=\"T_a19f2_row5_col0\" class=\"data row5 col0\" >0.907953</td>\n",
       "      <td id=\"T_a19f2_row5_col1\" class=\"data row5 col1\" >0.658043</td>\n",
       "      <td id=\"T_a19f2_row5_col2\" class=\"data row5 col2\" >0.399272</td>\n",
       "      <td id=\"T_a19f2_row5_col3\" class=\"data row5 col3\" >0.508092</td>\n",
       "      <td id=\"T_a19f2_row5_col4\" class=\"data row5 col4\" >0.867180</td>\n",
       "      <td id=\"T_a19f2_row5_col5\" class=\"data row5 col5\" >1.000000</td>\n",
       "    </tr>\n",
       "  </tbody>\n",
       "</table>\n"
      ],
      "text/plain": [
       "<pandas.io.formats.style.Styler at 0x28d52e6b6d0>"
      ]
     },
     "execution_count": 59,
     "metadata": {},
     "output_type": "execute_result"
    }
   ],
   "source": [
    "corr=gp1.corr()\n",
    "corr.style.highlight_max(color=\"green\",axis=1)"
   ]
  },
  {
   "cell_type": "markdown",
   "metadata": {},
   "source": [
    "### Heatmap"
   ]
  },
  {
   "cell_type": "code",
   "execution_count": 69,
   "metadata": {},
   "outputs": [
    {
     "data": {
      "text/plain": [
       "<AxesSubplot:>"
      ]
     },
     "execution_count": 69,
     "metadata": {},
     "output_type": "execute_result"
    },
    {
     "data": {
      "image/png": "[encoded data removed]",
      "text/plain": [
       "<Figure size 640x480 with 2 Axes>"
      ]
     },
     "metadata": {},
     "output_type": "display_data"
    }
   ],
   "source": [
    "sn.heatmap(corr)"
   ]
  },
  {
   "cell_type": "code",
   "execution_count": 84,
   "metadata": {},
   "outputs": [
    {
     "data": {
      "text/plain": [
       "<Figure size 640x480 with 0 Axes>"
      ]
     },
     "metadata": {},
     "output_type": "display_data"
    },
    {
     "data": {
      "image/png": "[encoded data removed]",
      "text/plain": [
       "<Figure size 640x480 with 4 Axes>"
      ]
     },
     "metadata": {},
     "output_type": "display_data"
    }
   ],
   "source": [
    "plt.figure(facecolor=\"olive\",edgecolor=\"green\")\n",
    "sn.set_palette( 'inferno_r')\n",
    "sn.set_style(\"darkgrid\")\n",
    "df2=gp1.sort_values(by=\"Victories\",ascending=False).head(10)\n",
    "df3=gp1.sort_values(by=\"2nd places\",ascending=False).head(10)\n",
    "df4=gp1.sort_values(by=\"3rd places\",ascending=False).head(10)\n",
    "df5=gp1.sort_values(by=\"World Championships\",ascending=False).head(10)\n",
    "fig, axes = plt.subplots(4,1)\n",
    "fig.suptitle('Players top in their positions')\n",
    "\n",
    "\n",
    "sn.barplot(ax=axes[0], x=df2.Noms, y=df2.Victories)\n",
    "axes[0].set_title(\"players with highest victories\")\n",
    "\n",
    "\n",
    "sn.barplot(ax=axes[1], x=df3.Noms, y=df3[\"2nd places\"])\n",
    "axes[1].set_title(\"Players with most no. of 2 nd positions\")\n",
    "\n",
    "\n",
    "sn.barplot(ax=axes[2], x=df4.Noms, y=df4[\"3rd places\"])\n",
    "axes[2].set_title(\"Players with most no. of 3rd positions\")\n",
    "\n",
    "sn.barplot(ax=axes[3], x=df5.Noms, y=df5[\"World Championships\"])\n",
    "axes[3].set_title(\"Players with most no. of World Campionships\")\n",
    "\n",
    "plt.xticks(rotation=90)\n",
    "plt.show()"
   ]
  },
  {
   "cell_type": "code",
   "execution_count": 85,
   "metadata": {},
   "outputs": [
    {
     "data": {
      "image/png": "[encoded data removed]",
      "text/plain": [
       "<Figure size 1500x1500 with 27 Axes>"
      ]
     },
     "metadata": {},
     "output_type": "display_data"
    }
   ],
   "source": [
    "\n",
    "sn.pairplot(gp1,palette=\"rainbow\",corner=True,plot_kws=dict(marker=\"+\", linewidth=1),\n",
    "diag_kws=dict(fill=False));plt.show()\n"
   ]
  },
  {
   "cell_type": "code",
   "execution_count": 87,
   "metadata": {},
   "outputs": [
    {
     "data": {
      "application/vnd.plotly.v1+json": {
       "config": {
        "plotlyServerURL": "https://plot.ly"
       },
       "data": [
        {
         "alignmentgroup": "True",
         "boxpoints": "all",
         "hovertemplate": "Race fastest lap to 2022=%{y}<extra></extra>",
         "legendgroup": "",
         "marker": {
          "color": "#636efa"
         },
         "name": "",
         "notched": true,
         "offsetgroup": "",
         "orientation": "v",
         "showlegend": false,
         "type": "box",
         "x0": " ",
         "xaxis": "x",
         "y": [
          117,
          96,
          81,
          75,
          79,
          37,
          64,
          46,
          36,
          35,
          33,
          42,
          26,
          34,
          34,
          11,
          30,
          29,
          21,
          16,
          28,
          32,
          15,
          25,
          24,
          22,
          26,
          25,
          22,
          23,
          27,
          20,
          20,
          16,
          13,
          29,
          20,
          16,
          26,
          13,
          21,
          4,
          0,
          19,
          9,
          21,
          19,
          12,
          12,
          11,
          12,
          19,
          8,
          22,
          12,
          17,
          12,
          16,
          13,
          18,
          10,
          12,
          7,
          13,
          11,
          9,
          9,
          12,
          11,
          15,
          15,
          11,
          17,
          17,
          7,
          7,
          6,
          12,
          19,
          6,
          8,
          11,
          14,
          7,
          9,
          8,
          7,
          5,
          12,
          10,
          12,
          8,
          8,
          10,
          7,
          11,
          9,
          10,
          5,
          9,
          5,
          3,
          14,
          8,
          8,
          12,
          12,
          9,
          5,
          9,
          10,
          14,
          11,
          2,
          0,
          8,
          5,
          1,
          6,
          8,
          10,
          0,
          3,
          3,
          7,
          8,
          10,
          1,
          1,
          7,
          5,
          9,
          9,
          4,
          4,
          9,
          9,
          5,
          8,
          3,
          1,
          5,
          1,
          3,
          2,
          5,
          9,
          4,
          5,
          6,
          4,
          3,
          4,
          5,
          8,
          8,
          7,
          7,
          4,
          3,
          7,
          11,
          5,
          2,
          3,
          2,
          4,
          5,
          18,
          5,
          3,
          3,
          3,
          0,
          4,
          5,
          1,
          8,
          6,
          6,
          1,
          3,
          3,
          3,
          4,
          4,
          4,
          0,
          2,
          2,
          2,
          5,
          3,
          1,
          5,
          2,
          3,
          2,
          3,
          3,
          0,
          2,
          1,
          7,
          1,
          4,
          6,
          8,
          2,
          4,
          8,
          0,
          1,
          11,
          0,
          0,
          3,
          0,
          2,
          4,
          2,
          1,
          0,
          2,
          2,
          6,
          5,
          0,
          3,
          4,
          4,
          1,
          4,
          3,
          2,
          2,
          1,
          1,
          2,
          2,
          1,
          4,
          4,
          2,
          3,
          2,
          2,
          1,
          2,
          1,
          1,
          1,
          2,
          2,
          3,
          1,
          3,
          1,
          1,
          2,
          1,
          2,
          1,
          1,
          1,
          3,
          5,
          0,
          2,
          1,
          4,
          0,
          1,
          1,
          0,
          2,
          1,
          2,
          0,
          5,
          0,
          1,
          6,
          1,
          2,
          0,
          1,
          0,
          0,
          1,
          0,
          0,
          1,
          1,
          1,
          1,
          1,
          1,
          0,
          1,
          0,
          1,
          1,
          5,
          0,
          1,
          0,
          1,
          1,
          2,
          1,
          0,
          0,
          0,
          2,
          2,
          2,
          1,
          1,
          0,
          0,
          0,
          4,
          2,
          2,
          1,
          1,
          0,
          0,
          0,
          0,
          0,
          0,
          0,
          0,
          0,
          0,
          0,
          0,
          0,
          0,
          0,
          0,
          0,
          0,
          0,
          0,
          0,
          0,
          0,
          0,
          0,
          0,
          0,
          0,
          0,
          0,
          0,
          0,
          0,
          0,
          0,
          0,
          0,
          0,
          0,
          0,
          0
         ],
         "y0": " ",
         "yaxis": "y"
        }
       ],
       "layout": {
        "boxmode": "group",
        "legend": {
         "tracegroupgap": 0
        },
        "margin": {
         "t": 60
        },
        "template": {
         "data": {
          "bar": [
           {
            "error_x": {
             "color": "#2a3f5f"
            },
            "error_y": {
             "color": "#2a3f5f"
            },
            "marker": {
             "line": {
              "color": "#E5ECF6",
              "width": 0.5
             },
             "pattern": {
              "fillmode": "overlay",
              "size": 10,
              "solidity": 0.2
             }
            },
            "type": "bar"
           }
          ],
          "barpolar": [
           {
            "marker": {
             "line": {
              "color": "#E5ECF6",
              "width": 0.5
             },
             "pattern": {
              "fillmode": "overlay",
              "size": 10,
              "solidity": 0.2
             }
            },
            "type": "barpolar"
           }
          ],
          "carpet": [
           {
            "aaxis": {
             "endlinecolor": "#2a3f5f",
             "gridcolor": "white",
             "linecolor": "white",
             "minorgridcolor": "white",
             "startlinecolor": "#2a3f5f"
            },
            "baxis": {
             "endlinecolor": "#2a3f5f",
             "gridcolor": "white",
             "linecolor": "white",
             "minorgridcolor": "white",
             "startlinecolor": "#2a3f5f"
            },
            "type": "carpet"
           }
          ],
          "choropleth": [
           {
            "colorbar": {
             "outlinewidth": 0,
             "ticks": ""
            },
            "type": "choropleth"
           }
          ],
          "contour": [
           {
            "colorbar": {
             "outlinewidth": 0,
             "ticks": ""
            },
            "colorscale": [
             [
              0,
              "#0d0887"
             ],
             [
              0.1111111111111111,
              "#46039f"
             ],
             [
              0.2222222222222222,
              "#7201a8"
             ],
             [
              0.3333333333333333,
              "#9c179e"
             ],
             [
              0.4444444444444444,
              "#bd3786"
             ],
             [
              0.5555555555555556,
              "#d8576b"
             ],
             [
              0.6666666666666666,
              "#ed7953"
             ],
             [
              0.7777777777777778,
              "#fb9f3a"
             ],
             [
              0.8888888888888888,
              "#fdca26"
             ],
             [
              1,
              "#f0f921"
             ]
            ],
            "type": "contour"
           }
          ],
          "contourcarpet": [
           {
            "colorbar": {
             "outlinewidth": 0,
             "ticks": ""
            },
            "type": "contourcarpet"
           }
          ],
          "heatmap": [
           {
            "colorbar": {
             "outlinewidth": 0,
             "ticks": ""
            },
            "colorscale": [
             [
              0,
              "#0d0887"
             ],
             [
              0.1111111111111111,
              "#46039f"
             ],
             [
              0.2222222222222222,
              "#7201a8"
             ],
             [
              0.3333333333333333,
              "#9c179e"
             ],
             [
              0.4444444444444444,
              "#bd3786"
             ],
             [
              0.5555555555555556,
              "#d8576b"
             ],
             [
              0.6666666666666666,
              "#ed7953"
             ],
             [
              0.7777777777777778,
              "#fb9f3a"
             ],
             [
              0.8888888888888888,
              "#fdca26"
             ],
             [
              1,
              "#f0f921"
             ]
            ],
            "type": "heatmap"
           }
          ],
          "heatmapgl": [
           {
            "colorbar": {
             "outlinewidth": 0,
             "ticks": ""
            },
            "colorscale": [
             [
              0,
              "#0d0887"
             ],
             [
              0.1111111111111111,
              "#46039f"
             ],
             [
              0.2222222222222222,
              "#7201a8"
             ],
             [
              0.3333333333333333,
              "#9c179e"
             ],
             [
              0.4444444444444444,
              "#bd3786"
             ],
             [
              0.5555555555555556,
              "#d8576b"
             ],
             [
              0.6666666666666666,
              "#ed7953"
             ],
             [
              0.7777777777777778,
              "#fb9f3a"
             ],
             [
              0.8888888888888888,
              "#fdca26"
             ],
             [
              1,
              "#f0f921"
             ]
            ],
            "type": "heatmapgl"
           }
          ],
          "histogram": [
           {
            "marker": {
             "pattern": {
              "fillmode": "overlay",
              "size": 10,
              "solidity": 0.2
             }
            },
            "type": "histogram"
           }
          ],
          "histogram2d": [
           {
            "colorbar": {
             "outlinewidth": 0,
             "ticks": ""
            },
            "colorscale": [
             [
              0,
              "#0d0887"
             ],
             [
              0.1111111111111111,
              "#46039f"
             ],
             [
              0.2222222222222222,
              "#7201a8"
             ],
             [
              0.3333333333333333,
              "#9c179e"
             ],
             [
              0.4444444444444444,
              "#bd3786"
             ],
             [
              0.5555555555555556,
              "#d8576b"
             ],
             [
              0.6666666666666666,
              "#ed7953"
             ],
             [
              0.7777777777777778,
              "#fb9f3a"
             ],
             [
              0.8888888888888888,
              "#fdca26"
             ],
             [
              1,
              "#f0f921"
             ]
            ],
            "type": "histogram2d"
           }
          ],
          "histogram2dcontour": [
           {
            "colorbar": {
             "outlinewidth": 0,
             "ticks": ""
            },
            "colorscale": [
             [
              0,
              "#0d0887"
             ],
             [
              0.1111111111111111,
              "#46039f"
             ],
             [
              0.2222222222222222,
              "#7201a8"
             ],
             [
              0.3333333333333333,
              "#9c179e"
             ],
             [
              0.4444444444444444,
              "#bd3786"
             ],
             [
              0.5555555555555556,
              "#d8576b"
             ],
             [
              0.6666666666666666,
              "#ed7953"
             ],
             [
              0.7777777777777778,
              "#fb9f3a"
             ],
             [
              0.8888888888888888,
              "#fdca26"
             ],
             [
              1,
              "#f0f921"
             ]
            ],
            "type": "histogram2dcontour"
           }
          ],
          "mesh3d": [
           {
            "colorbar": {
             "outlinewidth": 0,
             "ticks": ""
            },
            "type": "mesh3d"
           }
          ],
          "parcoords": [
           {
            "line": {
             "colorbar": {
              "outlinewidth": 0,
              "ticks": ""
             }
            },
            "type": "parcoords"
           }
          ],
          "pie": [
           {
            "automargin": true,
            "type": "pie"
           }
          ],
          "scatter": [
           {
            "fillpattern": {
             "fillmode": "overlay",
             "size": 10,
             "solidity": 0.2
            },
            "type": "scatter"
           }
          ],
          "scatter3d": [
           {
            "line": {
             "colorbar": {
              "outlinewidth": 0,
              "ticks": ""
             }
            },
            "marker": {
             "colorbar": {
              "outlinewidth": 0,
              "ticks": ""
             }
            },
            "type": "scatter3d"
           }
          ],
          "scattercarpet": [
           {
            "marker": {
             "colorbar": {
              "outlinewidth": 0,
              "ticks": ""
             }
            },
            "type": "scattercarpet"
           }
          ],
          "scattergeo": [
           {
            "marker": {
             "colorbar": {
              "outlinewidth": 0,
              "ticks": ""
             }
            },
            "type": "scattergeo"
           }
          ],
          "scattergl": [
           {
            "marker": {
             "colorbar": {
              "outlinewidth": 0,
              "ticks": ""
             }
            },
            "type": "scattergl"
           }
          ],
          "scattermapbox": [
           {
            "marker": {
             "colorbar": {
              "outlinewidth": 0,
              "ticks": ""
             }
            },
            "type": "scattermapbox"
           }
          ],
          "scatterpolar": [
           {
            "marker": {
             "colorbar": {
              "outlinewidth": 0,
              "ticks": ""
             }
            },
            "type": "scatterpolar"
           }
          ],
          "scatterpolargl": [
           {
            "marker": {
             "colorbar": {
              "outlinewidth": 0,
              "ticks": ""
             }
            },
            "type": "scatterpolargl"
           }
          ],
          "scatterternary": [
           {
            "marker": {
             "colorbar": {
              "outlinewidth": 0,
              "ticks": ""
             }
            },
            "type": "scatterternary"
           }
          ],
          "surface": [
           {
            "colorbar": {
             "outlinewidth": 0,
             "ticks": ""
            },
            "colorscale": [
             [
              0,
              "#0d0887"
             ],
             [
              0.1111111111111111,
              "#46039f"
             ],
             [
              0.2222222222222222,
              "#7201a8"
             ],
             [
              0.3333333333333333,
              "#9c179e"
             ],
             [
              0.4444444444444444,
              "#bd3786"
             ],
             [
              0.5555555555555556,
              "#d8576b"
             ],
             [
              0.6666666666666666,
              "#ed7953"
             ],
             [
              0.7777777777777778,
              "#fb9f3a"
             ],
             [
              0.8888888888888888,
              "#fdca26"
             ],
             [
              1,
              "#f0f921"
             ]
            ],
            "type": "surface"
           }
          ],
          "table": [
           {
            "cells": {
             "fill": {
              "color": "#EBF0F8"
             },
             "line": {
              "color": "white"
             }
            },
            "header": {
             "fill": {
              "color": "#C8D4E3"
             },
             "line": {
              "color": "white"
             }
            },
            "type": "table"
           }
          ]
         },
         "layout": {
          "annotationdefaults": {
           "arrowcolor": "#2a3f5f",
           "arrowhead": 0,
           "arrowwidth": 1
          },
          "autotypenumbers": "strict",
          "coloraxis": {
           "colorbar": {
            "outlinewidth": 0,
            "ticks": ""
           }
          },
          "colorscale": {
           "diverging": [
            [
             0,
             "#8e0152"
            ],
            [
             0.1,
             "#c51b7d"
            ],
            [
             0.2,
             "#de77ae"
            ],
            [
             0.3,
             "#f1b6da"
            ],
            [
             0.4,
             "#fde0ef"
            ],
            [
             0.5,
             "#f7f7f7"
            ],
            [
             0.6,
             "#e6f5d0"
            ],
            [
             0.7,
             "#b8e186"
            ],
            [
             0.8,
             "#7fbc41"
            ],
            [
             0.9,
             "#4d9221"
            ],
            [
             1,
             "#276419"
            ]
           ],
           "sequential": [
            [
             0,
             "#0d0887"
            ],
            [
             0.1111111111111111,
             "#46039f"
            ],
            [
             0.2222222222222222,
             "#7201a8"
            ],
            [
             0.3333333333333333,
             "#9c179e"
            ],
            [
             0.4444444444444444,
             "#bd3786"
            ],
            [
             0.5555555555555556,
             "#d8576b"
            ],
            [
             0.6666666666666666,
             "#ed7953"
            ],
            [
             0.7777777777777778,
             "#fb9f3a"
            ],
            [
             0.8888888888888888,
             "#fdca26"
            ],
            [
             1,
             "#f0f921"
            ]
           ],
           "sequentialminus": [
            [
             0,
             "#0d0887"
            ],
            [
             0.1111111111111111,
             "#46039f"
            ],
            [
             0.2222222222222222,
             "#7201a8"
            ],
            [
             0.3333333333333333,
             "#9c179e"
            ],
            [
             0.4444444444444444,
             "#bd3786"
            ],
            [
             0.5555555555555556,
             "#d8576b"
            ],
            [
             0.6666666666666666,
             "#ed7953"
            ],
            [
             0.7777777777777778,
             "#fb9f3a"
            ],
            [
             0.8888888888888888,
             "#fdca26"
            ],
            [
             1,
             "#f0f921"
            ]
           ]
          },
          "colorway": [
           "#636efa",
           "#EF553B",
           "#00cc96",
           "#ab63fa",
           "#FFA15A",
           "#19d3f3",
           "#FF6692",
           "#B6E880",
           "#FF97FF",
           "#FECB52"
          ],
          "font": {
           "color": "#2a3f5f"
          },
          "geo": {
           "bgcolor": "white",
           "lakecolor": "white",
           "landcolor": "#E5ECF6",
           "showlakes": true,
           "showland": true,
           "subunitcolor": "white"
          },
          "hoverlabel": {
           "align": "left"
          },
          "hovermode": "closest",
          "mapbox": {
           "style": "light"
          },
          "paper_bgcolor": "white",
          "plot_bgcolor": "#E5ECF6",
          "polar": {
           "angularaxis": {
            "gridcolor": "white",
            "linecolor": "white",
            "ticks": ""
           },
           "bgcolor": "#E5ECF6",
           "radialaxis": {
            "gridcolor": "white",
            "linecolor": "white",
            "ticks": ""
           }
          },
          "scene": {
           "xaxis": {
            "backgroundcolor": "#E5ECF6",
            "gridcolor": "white",
            "gridwidth": 2,
            "linecolor": "white",
            "showbackground": true,
            "ticks": "",
            "zerolinecolor": "white"
           },
           "yaxis": {
            "backgroundcolor": "#E5ECF6",
            "gridcolor": "white",
            "gridwidth": 2,
            "linecolor": "white",
            "showbackground": true,
            "ticks": "",
            "zerolinecolor": "white"
           },
           "zaxis": {
            "backgroundcolor": "#E5ECF6",
            "gridcolor": "white",
            "gridwidth": 2,
            "linecolor": "white",
            "showbackground": true,
            "ticks": "",
            "zerolinecolor": "white"
           }
          },
          "shapedefaults": {
           "line": {
            "color": "#2a3f5f"
           }
          },
          "ternary": {
           "aaxis": {
            "gridcolor": "white",
            "linecolor": "white",
            "ticks": ""
           },
           "baxis": {
            "gridcolor": "white",
            "linecolor": "white",
            "ticks": ""
           },
           "bgcolor": "#E5ECF6",
           "caxis": {
            "gridcolor": "white",
            "linecolor": "white",
            "ticks": ""
           }
          },
          "title": {
           "x": 0.05
          },
          "xaxis": {
           "automargin": true,
           "gridcolor": "white",
           "linecolor": "white",
           "ticks": "",
           "title": {
            "standoff": 15
           },
           "zerolinecolor": "white",
           "zerolinewidth": 2
          },
          "yaxis": {
           "automargin": true,
           "gridcolor": "white",
           "linecolor": "white",
           "ticks": "",
           "title": {
            "standoff": 15
           },
           "zerolinecolor": "white",
           "zerolinewidth": 2
          }
         }
        },
        "xaxis": {
         "anchor": "y",
         "domain": [
          0,
          1
         ]
        },
        "yaxis": {
         "anchor": "x",
         "domain": [
          0,
          1
         ],
         "title": {
          "text": "Race fastest lap to 2022"
         }
        }
       }
      }
     },
     "metadata": {},
     "output_type": "display_data"
    }
   ],
   "source": [
    "fig = px.box(gp1, y=\"Race fastest lap to 2022\", points=\"all\",notched=True)\n",
    "fig.show()"
   ]
  },
  {
   "cell_type": "code",
   "execution_count": 88,
   "metadata": {},
   "outputs": [
    {
     "data": {
      "text/plain": [
       "<seaborn.axisgrid.FacetGrid at 0x28d5645fd90>"
      ]
     },
     "execution_count": 88,
     "metadata": {},
     "output_type": "execute_result"
    },
    {
     "data": {
      "image/png": "[encoded data removed]",
      "text/plain": [
       "<Figure size 500x500 with 1 Axes>"
      ]
     },
     "metadata": {},
     "output_type": "display_data"
    }
   ],
   "source": [
    "sn.lmplot(data=gp1, x=\"Pole positions from '74 to 2022\", y=\"World Championships\",markers=[\"*\"],palette=\"Set1\")"
   ]
  },
  {
   "cell_type": "code",
   "execution_count": 90,
   "metadata": {},
   "outputs": [
    {
     "data": {
      "application/vnd.plotly.v1+json": {
       "config": {
        "plotlyServerURL": "https://plot.ly"
       },
       "data": [
        {
         "branchvalues": "total",
         "customdata": [
          [
           0,
           0
          ],
          [
           0,
           0
          ],
          [
           0,
           0
          ],
          [
           0,
           0
          ],
          [
           0,
           0
          ],
          [
           0,
           0
          ],
          [
           0,
           0
          ],
          [
           0,
           0
          ],
          [
           0,
           0
          ],
          [
           0,
           0
          ],
          [
           0,
           0
          ],
          [
           0,
           0
          ],
          [
           0,
           0
          ],
          [
           0,
           0
          ],
          [
           0,
           0
          ],
          [
           0,
           0
          ],
          [
           1,
           0
          ],
          [
           1,
           0
          ],
          [
           5,
           1
          ],
          [
           0,
           0
          ],
          [
           0,
           0
          ],
          [
           2,
           0
          ],
          [
           0,
           0
          ],
          [
           0,
           0
          ],
          [
           0,
           0
          ],
          [
           0,
           0
          ],
          [
           0,
           0
          ],
          [
           0,
           0
          ],
          [
           4,
           0
          ],
          [
           0,
           0
          ],
          [
           0,
           0
          ],
          [
           0,
           0
          ],
          [
           0,
           0
          ],
          [
           0,
           0
          ],
          [
           1,
           0
          ],
          [
           0,
           0
          ],
          [
           2,
           0
          ],
          [
           0,
           0
          ],
          [
           1,
           0
          ],
          [
           0,
           0
          ],
          [
           0,
           0
          ],
          [
           0,
           0
          ],
          [
           2,
           0
          ],
          [
           2,
           0
          ],
          [
           2,
           0
          ],
          [
           4,
           0
          ],
          [
           4,
           0
          ],
          [
           11,
           3
          ],
          [
           1,
           0
          ],
          [
           2,
           0
          ],
          [
           2,
           0
          ],
          [
           0,
           0
          ],
          [
           1,
           0
          ],
          [
           2,
           0
          ],
          [
           0,
           0
          ],
          [
           0,
           0
          ],
          [
           2,
           0
          ],
          [
           0,
           0
          ],
          [
           1,
           0
          ],
          [
           2,
           0
          ],
          [
           1,
           0
          ],
          [
           1,
           0
          ],
          [
           3,
           0
          ],
          [
           2,
           0
          ],
          [
           1,
           1
          ],
          [
           1,
           0
          ],
          [
           1,
           0
          ],
          [
           0,
           0
          ],
          [
           1,
           0
          ],
          [
           1,
           0
          ],
          [
           2,
           0
          ],
          [
           6,
           3
          ],
          [
           8,
           0
          ],
          [
           5,
           0
          ],
          [
           0,
           0
          ],
          [
           2,
           0
          ],
          [
           2,
           0
          ],
          [
           0,
           0
          ],
          [
           0,
           0
          ],
          [
           0,
           0
          ],
          [
           0,
           0
          ],
          [
           1,
           0
          ],
          [
           1,
           0
          ],
          [
           3,
           0
          ],
          [
           2,
           0
          ],
          [
           2,
           0
          ],
          [
           1,
           0
          ],
          [
           1,
           0
          ],
          [
           1,
           0
          ],
          [
           1,
           0
          ],
          [
           1,
           0
          ],
          [
           0,
           0
          ],
          [
           1,
           1
          ],
          [
           6,
           0
          ],
          [
           3,
           0
          ],
          [
           3,
           0
          ],
          [
           5,
           0
          ],
          [
           3,
           0
          ],
          [
           4,
           1
          ],
          [
           2,
           0
          ],
          [
           0,
           0
          ],
          [
           3,
           1
          ],
          [
           7,
           1
          ],
          [
           24,
           3
          ],
          [
           21,
           2
          ],
          [
           117,
           15
          ],
          [
           1,
           0
          ],
          [
           0,
           0
          ],
          [
           1,
           0
          ],
          [
           1,
           0
          ],
          [
           1,
           0
          ],
          [
           2,
           0
          ],
          [
           4,
           0
          ],
          [
           2,
           0
          ],
          [
           1,
           0
          ],
          [
           3,
           0
          ],
          [
           8,
           0
          ],
          [
           2,
           0
          ],
          [
           3,
           0
          ],
          [
           34,
           7
          ],
          [
           0,
           0
          ],
          [
           2,
           0
          ],
          [
           6,
           0
          ],
          [
           8,
           0
          ],
          [
           11,
           0
          ],
          [
           1,
           0
          ],
          [
           5,
           0
          ],
          [
           9,
           1
          ],
          [
           3,
           0
          ],
          [
           5,
           1
          ],
          [
           0,
           0
          ],
          [
           0,
           0
          ],
          [
           0,
           0
          ],
          [
           0,
           0
          ],
          [
           0,
           0
          ],
          [
           1,
           0
          ],
          [
           0,
           0
          ],
          [
           1,
           0
          ],
          [
           1,
           0
          ],
          [
           0,
           0
          ],
          [
           0,
           0
          ],
          [
           2,
           0
          ],
          [
           2,
           0
          ],
          [
           1,
           0
          ],
          [
           2,
           0
          ],
          [
           4,
           0
          ],
          [
           0,
           0
          ],
          [
           5,
           0
          ],
          [
           4,
           0
          ],
          [
           2,
           0
          ],
          [
           4,
           0
          ],
          [
           14,
           2
          ],
          [
           2,
           0
          ],
          [
           0,
           0
          ],
          [
           1,
           1
          ],
          [
           2,
           1
          ],
          [
           2,
           0
          ],
          [
           0,
           0
          ],
          [
           3,
           1
          ],
          [
           0,
           0
          ],
          [
           1,
           0
          ],
          [
           9,
           0
          ],
          [
           1,
           0
          ],
          [
           3,
           0
          ],
          [
           5,
           1
          ],
          [
           1,
           1
          ],
          [
           13,
           2
          ],
          [
           1,
           0
          ],
          [
           0,
           0
          ],
          [
           0,
           0
          ],
          [
           1,
           0
          ],
          [
           4,
           1
          ],
          [
           0,
           0
          ],
          [
           2,
           0
          ],
          [
           4,
           0
          ],
          [
           0,
           0
          ],
          [
           2,
           0
          ],
          [
           11,
           1
          ],
          [
           5,
           2
          ],
          [
           7,
           1
          ],
          [
           9,
           0
          ],
          [
           1,
           0
          ],
          [
           10,
           0
          ],
          [
           8,
           0
          ],
          [
           12,
           1
          ],
          [
           15,
           0
          ],
          [
           3,
           0
          ],
          [
           0,
           0
          ],
          [
           5,
           0
          ],
          [
           5,
           0
          ],
          [
           4,
           0
          ],
          [
           0,
           1
          ],
          [
           1,
           0
          ],
          [
           1,
           0
          ],
          [
           0,
           0
          ],
          [
           11,
           0
          ],
          [
           12,
           0
          ],
          [
           3,
           0
          ],
          [
           4,
           0
          ],
          [
           2,
           0
          ],
          [
           0,
           1
          ],
          [
           20,
           4
          ],
          [
           4,
           0
          ],
          [
           9,
           1
          ],
          [
           8,
           0
          ],
          [
           5,
           0
          ],
          [
           1,
           2
          ],
          [
           8,
           1
          ],
          [
           16,
           4
          ],
          [
           3,
           0
          ],
          [
           7,
           0
          ],
          [
           4,
           2
          ],
          [
           9,
           0
          ],
          [
           27,
           3
          ],
          [
           29,
           1
          ],
          [
           8,
           1
          ],
          [
           1,
           0
          ],
          [
           6,
           0
          ],
          [
           0,
           0
          ],
          [
           3,
           0
          ],
          [
           5,
           0
          ],
          [
           12,
           2
          ],
          [
           8,
           0
          ],
          [
           7,
           0
          ],
          [
           2,
           0
          ],
          [
           6,
           1
          ],
          [
           2,
           0
          ],
          [
           12,
           1
          ],
          [
           12,
           3
          ],
          [
           3,
           0
          ],
          [
           8,
           0
          ],
          [
           19,
           2
          ],
          [
           1,
           0
          ],
          [
           1,
           0
          ],
          [
           1,
           0
          ],
          [
           3,
           0
          ],
          [
           7,
           0
          ],
          [
           4,
           0
          ],
          [
           9,
           1
          ],
          [
           9,
           0
          ],
          [
           5,
           0
          ],
          [
           10,
           0
          ],
          [
           6,
           0
          ],
          [
           0,
           1
          ],
          [
           10,
           0
          ],
          [
           12,
           1
          ],
          [
           5,
           0
          ],
          [
           13,
           2
          ],
          [
           8,
           1
          ],
          [
           2,
           0
          ],
          [
           1,
           0
          ],
          [
           8,
           0
          ],
          [
           5,
           0
          ],
          [
           3,
           1
          ],
          [
           6,
           0
          ],
          [
           7,
           0
          ],
          [
           0,
           0
          ],
          [
           10,
           1
          ],
          [
           4,
           0
          ],
          [
           7,
           0
          ],
          [
           9,
           1
          ],
          [
           3,
           0
          ],
          [
           1,
           0
          ],
          [
           0,
           1
          ],
          [
           3,
           0
          ],
          [
           12,
           0
          ],
          [
           26,
           2
          ],
          [
           5,
           0
          ],
          [
           34,
           9
          ],
          [
           12,
           0
          ],
          [
           1,
           0
          ],
          [
           9,
           0
          ],
          [
           4,
           0
          ],
          [
           4,
           0
          ],
          [
           14,
           1
          ],
          [
           18,
           1
          ],
          [
           29,
           6
          ],
          [
           11,
           1
          ],
          [
           6,
           0
          ],
          [
           15,
           1
          ],
          [
           11,
           4
          ],
          [
           12,
           2
          ],
          [
           46,
           5
          ],
          [
           3,
           2
          ],
          [
           4,
           0
          ],
          [
           9,
           1
          ],
          [
           3,
           0
          ],
          [
           3,
           0
          ],
          [
           9,
           0
          ],
          [
           4,
           0
          ],
          [
           11,
           1
          ],
          [
           4,
           0
          ],
          [
           7,
           2
          ],
          [
           25,
           4
          ],
          [
           12,
           0
          ],
          [
           13,
           2
          ],
          [
           79,
           9
          ],
          [
           1,
           0
          ],
          [
           2,
           0
          ],
          [
           8,
           0
          ],
          [
           5,
           0
          ],
          [
           5,
           0
          ],
          [
           11,
           1
          ],
          [
           8,
           1
          ],
          [
           13,
           1
          ],
          [
           17,
           2
          ],
          [
           7,
           0
          ],
          [
           21,
           1
          ],
          [
           3,
           0
          ],
          [
           3,
           0
          ],
          [
           1,
           0
          ],
          [
           2,
           0
          ],
          [
           10,
           0
          ],
          [
           7,
           2
          ],
          [
           11,
           1
          ],
          [
           6,
           1
          ],
          [
           5,
           1
          ],
          [
           12,
           1
          ],
          [
           26,
           1
          ],
          [
           9,
           1
          ],
          [
           0,
           4
          ],
          [
           17,
           0
          ],
          [
           14,
           0
          ],
          [
           11,
           0
          ],
          [
           8,
           0
          ],
          [
           19,
           1
          ],
          [
           81,
           13
          ],
          [
           4,
           0
          ],
          [
           7,
           1
          ],
          [
           16,
           0
          ],
          [
           5,
           0
          ],
          [
           20,
           2
          ],
          [
           19,
           2
          ],
          [
           30,
           3
          ],
          [
           21,
           4
          ],
          [
           1,
           0
          ],
          [
           8,
           1
          ],
          [
           10,
           1
          ],
          [
           5,
           0
          ],
          [
           25,
           3
          ],
          [
           18,
           0
          ],
          [
           17,
           0
          ],
          [
           26,
           5
          ],
          [
           75,
           8
          ],
          [
           2,
           0
          ],
          [
           22,
           1
          ],
          [
           10,
           2
          ],
          [
           7,
           1
          ],
          [
           8,
           0
          ],
          [
           23,
           3
          ],
          [
           12,
           0
          ],
          [
           15,
           3
          ],
          [
           9,
           2
          ],
          [
           16,
           1
          ],
          [
           22,
           1
          ],
          [
           35,
           6
          ],
          [
           16,
           1
          ],
          [
           20,
           2
          ],
          [
           19,
           1
          ],
          [
           36,
           7
          ],
          [
           28,
           3
          ],
          [
           33,
           2
          ],
          [
           42,
           4
          ],
          [
           37,
           5
          ],
          [
           32,
           3
          ],
          [
           22,
           1
          ],
          [
           64,
           3
          ],
          [
           96,
           9
          ],
          [
           0,
           0
          ],
          [
           0,
           0
          ],
          [
           0,
           0
          ],
          [
           0,
           0
          ],
          [
           0,
           0
          ],
          [
           0,
           0
          ],
          [
           0,
           0
          ],
          [
           0,
           0
          ],
          [
           0,
           0
          ],
          [
           0,
           0
          ],
          [
           0,
           0
          ],
          [
           0,
           0
          ],
          [
           0,
           0
          ],
          [
           0,
           0
          ],
          [
           0,
           0
          ],
          [
           0,
           0
          ],
          [
           0,
           0
          ],
          [
           0,
           0
          ],
          [
           0,
           0
          ],
          [
           0,
           0
          ],
          [
           0,
           0
          ],
          [
           1,
           0
          ],
          [
           1,
           0
          ],
          [
           1,
           0
          ],
          [
           1,
           0
          ],
          [
           2,
           0
          ],
          [
           2,
           0
          ],
          [
           5,
           1
          ],
          [
           3,
           0
          ],
          [
           0,
           0
          ],
          [
           1,
           0
          ],
          [
           2,
           0
          ],
          [
           0,
           0
          ],
          [
           0,
           0
          ],
          [
           0,
           0
          ],
          [
           2,
           0
          ],
          [
           2,
           0
          ],
          [
           1,
           0
          ],
          [
           0,
           0
          ],
          [
           0,
           0
          ],
          [
           0,
           0
          ],
          [
           2,
           0
          ],
          [
           0,
           0
          ],
          [
           0,
           0
          ],
          [
           1,
           0
          ],
          [
           0,
           0
          ],
          [
           0,
           0
          ],
          [
           0,
           0
          ],
          [
           4,
           0
          ],
          [
           0,
           0
          ],
          [
           0,
           0
          ],
          [
           0,
           0
          ],
          [
           0,
           0
          ],
          [
           0,
           0
          ],
          [
           0,
           0
          ],
          [
           0,
           0
          ],
          [
           1,
           0
          ],
          [
           0,
           0
          ],
          [
           0,
           0
          ],
          [
           2,
           0
          ],
          [
           0,
           0
          ],
          [
           1,
           0
          ],
          [
           1,
           0
          ],
          [
           5,
           0
          ],
          [
           2,
           0
          ],
          [
           0,
           0
          ],
          [
           1,
           0
          ],
          [
           0,
           0
          ],
          [
           0,
           0
          ],
          [
           0,
           0
          ],
          [
           1,
           0
          ],
          [
           0,
           0
          ],
          [
           1,
           0
          ],
          [
           1,
           0
          ],
          [
           1,
           0
          ],
          [
           2,
           0
          ],
          [
           3,
           0
          ],
          [
           1,
           0
          ],
          [
           1,
           0
          ],
          [
           2,
           0
          ],
          [
           3,
           0
          ],
          [
           2,
           0
          ],
          [
           6,
           0
          ],
          [
           2,
           0
          ],
          [
           1,
           1
          ],
          [
           5,
           0
          ],
          [
           1,
           0
          ],
          [
           1,
           0
          ],
          [
           0,
           0
          ],
          [
           0,
           0
          ],
          [
           0,
           0
          ],
          [
           0,
           0
          ],
          [
           1,
           0
          ],
          [
           0,
           0
          ],
          [
           0,
           0
          ],
          [
           1,
           0
          ],
          [
           0,
           0
          ],
          [
           1,
           0
          ],
          [
           1,
           0
          ],
          [
           1,
           0
          ],
          [
           1,
           0
          ],
          [
           0,
           0
          ],
          [
           1,
           0
          ],
          [
           2,
           0
          ],
          [
           2,
           0
          ],
          [
           1,
           0
          ],
          [
           1,
           0
          ],
          [
           1,
           0
          ],
          [
           1,
           0
          ],
          [
           2,
           0
          ],
          [
           0,
           0
          ],
          [
           2,
           0
          ],
          [
           4,
           1
          ],
          [
           2,
           0
          ],
          [
           0,
           0
          ],
          [
           4,
           0
          ],
          [
           2,
           0
          ],
          [
           1,
           1
          ],
          [
           1,
           0
          ],
          [
           6,
           0
          ],
          [
           2,
           0
          ],
          [
           0,
           0
          ],
          [
           5,
           0
          ],
          [
           1,
           0
          ],
          [
           3,
           0
          ],
          [
           2,
           0
          ],
          [
           1,
           0
          ],
          [
           4,
           0
          ],
          [
           4,
           0
          ],
          [
           2,
           0
          ],
          [
           0,
           1
          ],
          [
           4,
           0
          ],
          [
           2,
           0
          ],
          [
           2,
           0
          ],
          [
           1,
           0
          ],
          [
           4,
           0
          ],
          [
           3,
           0
          ],
          [
           4,
           0
          ],
          [
           3,
           0
          ],
          [
           14,
           2
          ],
          [
           8,
           0
          ],
          [
           1,
           0
          ],
          [
           2,
           0
          ],
          [
           1,
           0
          ],
          [
           0,
           0
          ],
          [
           1,
           1
          ],
          [
           0,
           0
          ],
          [
           2,
           1
          ],
          [
           1,
           0
          ],
          [
           1,
           0
          ],
          [
           2,
           0
          ],
          [
           2,
           0
          ],
          [
           1,
           0
          ],
          [
           11,
           0
          ],
          [
           3,
           0
          ],
          [
           0,
           0
          ],
          [
           0,
           0
          ],
          [
           3,
           0
          ],
          [
           3,
           0
          ],
          [
           1,
           0
          ],
          [
           2,
           0
          ],
          [
           3,
           1
          ],
          [
           3,
           0
          ],
          [
           12,
           0
          ],
          [
           34,
           7
          ],
          [
           0,
           0
          ],
          [
           2,
           0
          ],
          [
           2,
           0
          ],
          [
           8,
           0
          ],
          [
           0,
           0
          ],
          [
           1,
           0
          ],
          [
           6,
           0
          ],
          [
           8,
           0
          ],
          [
           5,
           0
          ],
          [
           6,
           3
          ],
          [
           5,
           0
          ],
          [
           11,
           0
          ],
          [
           7,
           0
          ],
          [
           3,
           2
          ],
          [
           8,
           0
          ],
          [
           3,
           0
          ],
          [
           3,
           1
          ],
          [
           9,
           0
          ],
          [
           5,
           0
          ],
          [
           12,
           2
          ],
          [
           11,
           1
          ],
          [
           4,
           0
          ],
          [
           1,
           0
          ],
          [
           3,
           0
          ],
          [
           4,
           0
          ],
          [
           4,
           0
          ],
          [
           1,
           0
          ],
          [
           6,
           0
          ],
          [
           7,
           1
          ],
          [
           4,
           0
          ],
          [
           2,
           0
          ],
          [
           8,
           0
          ],
          [
           4,
           0
          ],
          [
           7,
           0
          ],
          [
           4,
           1
          ],
          [
           7,
           0
          ],
          [
           9,
           0
          ],
          [
           5,
           0
          ],
          [
           9,
           1
          ],
          [
           4,
           0
          ],
          [
           0,
           1
          ],
          [
           5,
           2
          ],
          [
           14,
           1
          ],
          [
           7,
           1
          ],
          [
           9,
           0
          ],
          [
           9,
           1
          ],
          [
           9,
           1
          ],
          [
           20,
           4
          ],
          [
           4,
           0
          ],
          [
           1,
           0
          ],
          [
           1,
           0
          ],
          [
           3,
           0
          ],
          [
           3,
           0
          ],
          [
           0,
           0
          ],
          [
           2,
           0
          ],
          [
           2,
           0
          ],
          [
           8,
           0
          ],
          [
           4,
           0
          ],
          [
           9,
           1
          ],
          [
           9,
           0
          ],
          [
           10,
           0
          ],
          [
           6,
           1
          ],
          [
           8,
           0
          ],
          [
           9,
           0
          ],
          [
           10,
           1
          ],
          [
           11,
           3
          ],
          [
           18,
           1
          ],
          [
           29,
           6
          ],
          [
           2,
           0
          ],
          [
           4,
           0
          ],
          [
           2,
           0
          ],
          [
           3,
           0
          ],
          [
           3,
           0
          ],
          [
           3,
           0
          ],
          [
           0,
           0
          ],
          [
           5,
           0
          ],
          [
           4,
           0
          ],
          [
           8,
           0
          ],
          [
           5,
           1
          ],
          [
           7,
           0
          ],
          [
           5,
           1
          ],
          [
           1,
           1
          ],
          [
           11,
           1
          ],
          [
           9,
           1
          ],
          [
           6,
           0
          ],
          [
           17,
           0
          ],
          [
           11,
           1
          ],
          [
           5,
           0
          ],
          [
           0,
           0
          ],
          [
           3,
           0
          ],
          [
           5,
           0
          ],
          [
           1,
           0
          ],
          [
           3,
           1
          ],
          [
           1,
           0
          ],
          [
           1,
           2
          ],
          [
           2,
           0
          ],
          [
           8,
           1
          ],
          [
           0,
           1
          ],
          [
           10,
           0
          ],
          [
           13,
           2
          ],
          [
           16,
           4
          ],
          [
           3,
           0
          ],
          [
           5,
           0
          ],
          [
           3,
           0
          ],
          [
           4,
           0
          ],
          [
           10,
           0
          ],
          [
           11,
           1
          ],
          [
           12,
           0
          ],
          [
           7,
           0
          ],
          [
           8,
           1
          ],
          [
           7,
           2
          ],
          [
           7,
           2
          ],
          [
           11,
           1
          ],
          [
           7,
           1
          ],
          [
           26,
           2
          ],
          [
           24,
           3
          ],
          [
           6,
           0
          ],
          [
           14,
           0
          ],
          [
           8,
           1
          ],
          [
           12,
           1
          ],
          [
           12,
           1
          ],
          [
           6,
           1
          ],
          [
           15,
           0
          ],
          [
           13,
           1
          ],
          [
           4,
           2
          ],
          [
           0,
           1
          ],
          [
           5,
           0
          ],
          [
           15,
           1
          ],
          [
           11,
           0
          ],
          [
           21,
           2
          ],
          [
           25,
           4
          ],
          [
           5,
           1
          ],
          [
           4,
           0
          ],
          [
           10,
           1
          ],
          [
           10,
           0
          ],
          [
           12,
           3
          ],
          [
           12,
           0
          ],
          [
           12,
           1
          ],
          [
           12,
           1
          ],
          [
           20,
           2
          ],
          [
           26,
           1
          ],
          [
           3,
           0
          ],
          [
           5,
           0
          ],
          [
           9,
           0
          ],
          [
           8,
           0
          ],
          [
           8,
           0
          ],
          [
           5,
           0
          ],
          [
           27,
           3
          ],
          [
           11,
           4
          ],
          [
           9,
           1
          ],
          [
           7,
           1
          ],
          [
           16,
           1
          ],
          [
           22,
           1
          ],
          [
           9,
           2
          ],
          [
           13,
           2
          ],
          [
           16,
           0
          ],
          [
           13,
           2
          ],
          [
           29,
           1
          ],
          [
           8,
           0
          ],
          [
           8,
           1
          ],
          [
           17,
           2
          ],
          [
           12,
           2
          ],
          [
           5,
           0
          ],
          [
           7,
           0
          ],
          [
           5,
           0
          ],
          [
           10,
           2
          ],
          [
           8,
           1
          ],
          [
           25,
           3
          ],
          [
           33,
           2
          ],
          [
           18,
           0
          ],
          [
           19,
           1
          ],
          [
           16,
           1
          ],
          [
           34,
           9
          ],
          [
           2,
           0
          ],
          [
           20,
           2
          ],
          [
           19,
           2
          ],
          [
           23,
           3
          ],
          [
           30,
           3
          ],
          [
           19,
           2
          ],
          [
           17,
           0
          ],
          [
           19,
           1
          ],
          [
           22,
           1
          ],
          [
           12,
           0
          ],
          [
           12,
           0
          ],
          [
           26,
           5
          ],
          [
           79,
           9
          ],
          [
           21,
           1
          ],
          [
           0,
           4
          ],
          [
           21,
           4
          ],
          [
           46,
           5
          ],
          [
           28,
           3
          ],
          [
           35,
           6
          ],
          [
           32,
           3
          ],
          [
           15,
           3
          ],
          [
           81,
           13
          ],
          [
           117,
           15
          ],
          [
           75,
           8
          ],
          [
           22,
           1
          ],
          [
           42,
           4
          ],
          [
           36,
           7
          ],
          [
           37,
           5
          ],
          [
           64,
           3
          ],
          [
           96,
           9
          ],
          [
           0,
           0
          ],
          [
           1,
           0
          ],
          [
           2,
           0
          ],
          [
           0,
           0
          ],
          [
           1,
           0
          ],
          [
           0,
           0
          ],
          [
           0,
           0
          ],
          [
           0,
           0
          ],
          [
           0,
           0
          ],
          [
           0,
           0
          ],
          [
           1,
           0
          ],
          [
           6,
           0
          ],
          [
           1,
           0
          ],
          [
           1,
           0
          ],
          [
           2,
           0
          ],
          [
           0,
           0
          ],
          [
           2,
           0
          ],
          [
           0,
           0
          ],
          [
           0,
           0
          ],
          [
           5,
           0
          ],
          [
           0,
           0
          ],
          [
           0,
           0
          ],
          [
           2,
           0
          ],
          [
           0,
           0
          ],
          [
           1,
           0
          ],
          [
           1,
           0
          ],
          [
           0,
           0
          ],
          [
           0,
           0
          ],
          [
           0,
           0
          ],
          [
           2,
           0
          ],
          [
           0,
           0
          ],
          [
           0,
           0
          ],
          [
           0,
           0
          ],
          [
           0,
           0
          ],
          [
           1,
           0
          ],
          [
           0,
           0
          ],
          [
           4,
           0
          ],
          [
           0,
           0
          ],
          [
           1,
           0
          ],
          [
           0,
           0
          ],
          [
           0,
           0
          ],
          [
           0,
           0
          ],
          [
           4,
           0
          ],
          [
           0,
           0
          ],
          [
           0,
           0
          ],
          [
           0,
           0
          ],
          [
           0,
           0
          ],
          [
           2,
           0
          ],
          [
           0,
           0
          ],
          [
           0,
           0
          ],
          [
           0,
           0
          ],
          [
           0,
           0
          ],
          [
           0,
           0
          ],
          [
           0,
           0
          ],
          [
           0,
           0
          ],
          [
           1,
           1
          ],
          [
           0,
           0
          ],
          [
           1,
           0
          ],
          [
           1,
           0
          ],
          [
           0,
           0
          ],
          [
           0,
           0
          ],
          [
           0,
           0
          ],
          [
           0,
           0
          ],
          [
           0,
           0
          ],
          [
           0,
           0
          ],
          [
           0,
           0
          ],
          [
           0,
           0
          ],
          [
           2,
           0
          ],
          [
           0,
           0
          ],
          [
           1,
           0
          ],
          [
           1,
           0
          ],
          [
           5,
           0
          ],
          [
           1,
           0
          ],
          [
           2,
           0
          ],
          [
           0,
           0
          ],
          [
           5,
           0
          ],
          [
           1,
           0
          ],
          [
           0,
           0
          ],
          [
           0,
           0
          ],
          [
           0,
           0
          ],
          [
           0,
           0
          ],
          [
           0,
           0
          ],
          [
           0,
           0
          ],
          [
           0,
           0
          ],
          [
           1,
           0
          ],
          [
           1,
           0
          ],
          [
           1,
           0
          ],
          [
           1,
           0
          ],
          [
           0,
           0
          ],
          [
           0,
           0
          ],
          [
           0,
           0
          ],
          [
           1,
           0
          ],
          [
           0,
           0
          ],
          [
           1,
           0
          ],
          [
           2,
           1
          ],
          [
           0,
           0
          ],
          [
           0,
           0
          ],
          [
           3,
           0
          ],
          [
           1,
           0
          ],
          [
           1,
           0
          ],
          [
           2,
           0
          ],
          [
           1,
           0
          ],
          [
           0,
           0
          ],
          [
           2,
           0
          ],
          [
           4,
           0
          ],
          [
           1,
           0
          ],
          [
           5,
           0
          ],
          [
           2,
           0
          ],
          [
           3,
           0
          ],
          [
           2,
           0
          ],
          [
           3,
           0
          ],
          [
           2,
           0
          ],
          [
           1,
           0
          ],
          [
           0,
           1
          ],
          [
           1,
           0
          ],
          [
           3,
           0
          ],
          [
           1,
           0
          ],
          [
           1,
           0
          ],
          [
           1,
           0
          ],
          [
           1,
           0
          ],
          [
           1,
           0
          ],
          [
           4,
           0
          ],
          [
           2,
           0
          ],
          [
           1,
           0
          ],
          [
           4,
           0
          ],
          [
           2,
           0
          ],
          [
           1,
           0
          ],
          [
           4,
           0
          ],
          [
           2,
           0
          ],
          [
           2,
           0
          ],
          [
           1,
           0
          ],
          [
           1,
           0
          ],
          [
           2,
           0
          ],
          [
           3,
           0
          ],
          [
           3,
           0
          ],
          [
           2,
           0
          ],
          [
           1,
           0
          ],
          [
           4,
           0
          ],
          [
           1,
           0
          ],
          [
           1,
           0
          ],
          [
           2,
           0
          ],
          [
           2,
           0
          ],
          [
           1,
           0
          ],
          [
           1,
           0
          ],
          [
           8,
           0
          ],
          [
           2,
           0
          ],
          [
           3,
           0
          ],
          [
           4,
           0
          ],
          [
           3,
           0
          ],
          [
           5,
           0
          ],
          [
           6,
           0
          ],
          [
           1,
           0
          ],
          [
           1,
           0
          ],
          [
           6,
           0
          ],
          [
           11,
           0
          ],
          [
           0,
           1
          ],
          [
           4,
           0
          ],
          [
           3,
           0
          ],
          [
           7,
           1
          ],
          [
           0,
           0
          ],
          [
           4,
           0
          ],
          [
           2,
           0
          ],
          [
           2,
           0
          ],
          [
           3,
           0
          ],
          [
           0,
           0
          ],
          [
           2,
           0
          ],
          [
           2,
           0
          ],
          [
           0,
           0
          ],
          [
           3,
           0
          ],
          [
           2,
           0
          ],
          [
           2,
           0
          ],
          [
           1,
           0
          ],
          [
           5,
           0
          ],
          [
           0,
           0
          ],
          [
           0,
           0
          ],
          [
           2,
           0
          ],
          [
           8,
           0
          ],
          [
           5,
           1
          ],
          [
           4,
           0
          ],
          [
           1,
           0
          ],
          [
           18,
           0
          ],
          [
           3,
           0
          ],
          [
           4,
           0
          ],
          [
           2,
           0
          ],
          [
           3,
           0
          ],
          [
           3,
           0
          ],
          [
           6,
           0
          ],
          [
           2,
           0
          ],
          [
           4,
           1
          ],
          [
           8,
           0
          ],
          [
           5,
           0
          ],
          [
           0,
           0
          ],
          [
           3,
           0
          ],
          [
           6,
           3
          ],
          [
           3,
           0
          ],
          [
           2,
           0
          ],
          [
           1,
           0
          ],
          [
           3,
           0
          ],
          [
           4,
           0
          ],
          [
           0,
           0
          ],
          [
           7,
           0
          ],
          [
           5,
           0
          ],
          [
           4,
           0
          ],
          [
           5,
           0
          ],
          [
           5,
           0
          ],
          [
           4,
           0
          ],
          [
           2,
           0
          ],
          [
           3,
           1
          ],
          [
           4,
           0
          ],
          [
           4,
           1
          ],
          [
           8,
           0
          ],
          [
           5,
           1
          ],
          [
           2,
           0
          ],
          [
           2,
           0
          ],
          [
           6,
           0
          ],
          [
           4,
           0
          ],
          [
           11,
           0
          ],
          [
           9,
           0
          ],
          [
           7,
           0
          ],
          [
           7,
           0
          ],
          [
           8,
           0
          ],
          [
           3,
           2
          ],
          [
           3,
           0
          ],
          [
           5,
           0
          ],
          [
           1,
           1
          ],
          [
           9,
           0
          ],
          [
           1,
           1
          ],
          [
           8,
           0
          ],
          [
           1,
           0
          ],
          [
           10,
           0
          ],
          [
           4,
           0
          ],
          [
           5,
           1
          ],
          [
           3,
           0
          ],
          [
           3,
           1
          ],
          [
           9,
           1
          ],
          [
           7,
           0
          ],
          [
           5,
           0
          ],
          [
           1,
           2
          ],
          [
           9,
           0
          ],
          [
           8,
           0
          ],
          [
           7,
           0
          ],
          [
           9,
           1
          ],
          [
           4,
           0
          ],
          [
           5,
           0
          ],
          [
           2,
           0
          ],
          [
           14,
           0
          ],
          [
           5,
           1
          ],
          [
           8,
           1
          ],
          [
           10,
           0
          ],
          [
           11,
           1
          ],
          [
           0,
           1
          ],
          [
           3,
           0
          ],
          [
           9,
           1
          ],
          [
           6,
           1
          ],
          [
           5,
           0
          ],
          [
           8,
           0
          ],
          [
           10,
           1
          ],
          [
           3,
           1
          ],
          [
           0,
           1
          ],
          [
           1,
           1
          ],
          [
           8,
           1
          ],
          [
           9,
           0
          ],
          [
           12,
           0
          ],
          [
           8,
           0
          ],
          [
           12,
           1
          ],
          [
           5,
           2
          ],
          [
           11,
           1
          ],
          [
           10,
           0
          ],
          [
           8,
           0
          ],
          [
           10,
           1
          ],
          [
           14,
           2
          ],
          [
           9,
           0
          ],
          [
           3,
           0
          ],
          [
           7,
           0
          ],
          [
           5,
           0
          ],
          [
           9,
           1
          ],
          [
           12,
           0
          ],
          [
           10,
           0
          ],
          [
           7,
           1
          ],
          [
           8,
           0
          ],
          [
           8,
           1
          ],
          [
           5,
           0
          ],
          [
           12,
           1
          ],
          [
           11,
           3
          ],
          [
           6,
           1
          ],
          [
           8,
           1
          ],
          [
           14,
           1
          ],
          [
           19,
           2
          ],
          [
           7,
           1
          ],
          [
           9,
           0
          ],
          [
           12,
           2
          ],
          [
           17,
           2
          ],
          [
           7,
           2
          ],
          [
           6,
           0
          ],
          [
           7,
           2
          ],
          [
           15,
           0
          ],
          [
           17,
           0
          ],
          [
           15,
           1
          ],
          [
           12,
           0
          ],
          [
           11,
           1
          ],
          [
           11,
           0
          ],
          [
           12,
           3
          ],
          [
           11,
           1
          ],
          [
           10,
           2
          ],
          [
           7,
           1
          ],
          [
           13,
           2
          ],
          [
           9,
           1
          ],
          [
           9,
           1
          ],
          [
           13,
           1
          ],
          [
           16,
           1
          ],
          [
           12,
           2
          ],
          [
           17,
           0
          ],
          [
           18,
           1
          ],
          [
           22,
           1
          ],
          [
           12,
           0
          ],
          [
           12,
           0
          ],
          [
           8,
           1
          ],
          [
           19,
           2
          ],
          [
           12,
           1
          ],
          [
           12,
           1
          ],
          [
           21,
           1
          ],
          [
           11,
           1
          ],
          [
           19,
           1
          ],
          [
           9,
           2
          ],
          [
           0,
           4
          ],
          [
           19,
           1
          ],
          [
           21,
           2
          ],
          [
           13,
           2
          ],
          [
           4,
           2
          ],
          [
           20,
           2
          ],
          [
           26,
           2
          ],
          [
           16,
           0
          ],
          [
           13,
           2
          ],
          [
           29,
           1
          ],
          [
           16,
           1
          ],
          [
           20,
           2
          ],
          [
           22,
           1
          ],
          [
           23,
           3
          ],
          [
           27,
           3
          ],
          [
           20,
           4
          ],
          [
           25,
           4
          ],
          [
           26,
           1
          ],
          [
           22,
           1
          ],
          [
           25,
           3
          ],
          [
           15,
           3
          ],
          [
           24,
           3
          ],
          [
           32,
           3
          ],
          [
           28,
           3
          ],
          [
           16,
           4
          ],
          [
           21,
           4
          ],
          [
           29,
           6
          ],
          [
           30,
           3
          ],
          [
           11,
           4
          ],
          [
           34,
           7
          ],
          [
           34,
           9
          ],
          [
           42,
           4
          ],
          [
           26,
           5
          ],
          [
           35,
           6
          ],
          [
           33,
           2
          ],
          [
           36,
           7
          ],
          [
           46,
           5
          ],
          [
           64,
           3
          ],
          [
           37,
           5
          ],
          [
           79,
           9
          ],
          [
           75,
           8
          ],
          [
           81,
           13
          ],
          [
           96,
           9
          ],
          [
           117,
           15
          ],
          [
           1,
           0
          ],
          [
           0,
           0
          ],
          [
           1,
           1
          ],
          [
           1,
           0
          ],
          [
           2,
           0
          ],
          [
           117,
           15
          ],
          [
           0,
           0
          ],
          [
           5,
           1
          ],
          [
           9,
           0
          ],
          [
           12,
           2
          ],
          [
           25,
           4
          ],
          [
           9,
           2
          ],
          [
           12,
           3
          ],
          [
           4,
           0
          ],
          [
           5,
           2
          ],
          [
           1,
           0
          ],
          [
           11,
           1
          ],
          [
           1,
           0
          ],
          [
           1,
           1
          ],
          [
           2,
           0
          ],
          [
           0,
           0
          ],
          [
           7,
           0
          ],
          [
           0,
           0
          ],
          [
           12,
           0
          ],
          [
           11,
           1
          ],
          [
           5,
           0
          ],
          [
           4,
           0
          ],
          [
           0,
           0
          ],
          [
           16,
           4
          ],
          [
           10,
           0
          ],
          [
           0,
           0
          ],
          [
           14,
           0
          ],
          [
           8,
           1
          ],
          [
           22,
           1
          ],
          [
           0,
           0
          ],
          [
           1,
           0
          ],
          [
           1,
           0
          ],
          [
           2,
           0
          ],
          [
           8,
           0
          ],
          [
           1,
           0
          ],
          [
           42,
           4
          ],
          [
           25,
           3
          ],
          [
           12,
           1
          ],
          [
           6,
           0
          ],
          [
           1,
           0
          ],
          [
           4,
           0
          ],
          [
           5,
           0
          ],
          [
           5,
           1
          ],
          [
           10,
           2
          ],
          [
           1,
           0
          ],
          [
           2,
           0
          ],
          [
           0,
           0
          ],
          [
           7,
           1
          ],
          [
           8,
           0
          ],
          [
           30,
           3
          ],
          [
           2,
           0
          ],
          [
           10,
           0
          ],
          [
           2,
           0
          ],
          [
           32,
           3
          ],
          [
           5,
           0
          ],
          [
           0,
           0
          ],
          [
           8,
           1
          ],
          [
           0,
           0
          ],
          [
           5,
           0
          ],
          [
           0,
           0
          ],
          [
           1,
           0
          ],
          [
           10,
           0
          ],
          [
           7,
           1
          ],
          [
           0,
           0
          ],
          [
           2,
           0
          ],
          [
           5,
           0
          ],
          [
           0,
           0
          ],
          [
           4,
           0
          ],
          [
           1,
           0
          ],
          [
           1,
           0
          ],
          [
           0,
           0
          ],
          [
           0,
           0
          ],
          [
           0,
           0
          ],
          [
           3,
           0
          ],
          [
           2,
           0
          ],
          [
           11,
           1
          ],
          [
           2,
           0
          ],
          [
           0,
           0
          ],
          [
           20,
           2
          ],
          [
           4,
           0
          ],
          [
           0,
           0
          ],
          [
           2,
           0
          ],
          [
           3,
           1
          ],
          [
           0,
           0
          ],
          [
           18,
           0
          ],
          [
           4,
           0
          ],
          [
           3,
           0
          ],
          [
           13,
           2
          ],
          [
           3,
           0
          ],
          [
           13,
           1
          ],
          [
           3,
           0
          ],
          [
           4,
           1
          ],
          [
           4,
           0
          ],
          [
           46,
           5
          ],
          [
           2,
           0
          ],
          [
           22,
           1
          ],
          [
           2,
           0
          ],
          [
           5,
           0
          ],
          [
           29,
           6
          ],
          [
           0,
           4
          ],
          [
           0,
           1
          ],
          [
           12,
           1
          ],
          [
           0,
           0
          ],
          [
           1,
           0
          ],
          [
           16,
           1
          ],
          [
           9,
           0
          ],
          [
           0,
           0
          ],
          [
           15,
           0
          ],
          [
           6,
           0
          ],
          [
           1,
           0
          ],
          [
           8,
           0
          ],
          [
           3,
           0
          ],
          [
           4,
           0
          ],
          [
           0,
           0
          ],
          [
           1,
           0
          ],
          [
           3,
           0
          ],
          [
           8,
           0
          ],
          [
           1,
           0
          ],
          [
           5,
           1
          ],
          [
           0,
           0
          ],
          [
           6,
           0
          ],
          [
           2,
           0
          ],
          [
           4,
           0
          ],
          [
           5,
           1
          ],
          [
           19,
           1
          ],
          [
           11,
           0
          ],
          [
           10,
           0
          ],
          [
           8,
           0
          ],
          [
           0,
           0
          ],
          [
           8,
           1
          ],
          [
           0,
           0
          ],
          [
           1,
           0
          ],
          [
           0,
           1
          ],
          [
           4,
           0
          ],
          [
           3,
           0
          ],
          [
           13,
           2
          ],
          [
           4,
           0
          ],
          [
           0,
           0
          ],
          [
           0,
           0
          ],
          [
           11,
           3
          ],
          [
           79,
           9
          ],
          [
           5,
           0
          ],
          [
           21,
           1
          ],
          [
           2,
           0
          ],
          [
           2,
           0
          ],
          [
           0,
           0
          ],
          [
           7,
           1
          ],
          [
           0,
           0
          ],
          [
           3,
           0
          ],
          [
           0,
           1
          ],
          [
           1,
           0
          ],
          [
           3,
           0
          ],
          [
           21,
           2
          ],
          [
           3,
           0
          ],
          [
           17,
           0
          ],
          [
           0,
           0
          ],
          [
           2,
           0
          ],
          [
           1,
           0
          ],
          [
           29,
           1
          ],
          [
           9,
           1
          ],
          [
           3,
           0
          ],
          [
           0,
           0
          ],
          [
           0,
           0
          ],
          [
           12,
           0
          ],
          [
           4,
           0
          ],
          [
           1,
           0
          ],
          [
           6,
           1
          ],
          [
           6,
           0
          ],
          [
           11,
           1
          ],
          [
           6,
           0
          ],
          [
           0,
           0
          ],
          [
           4,
           0
          ],
          [
           0,
           0
          ],
          [
           15,
           1
          ],
          [
           0,
           0
          ],
          [
           0,
           0
          ],
          [
           0,
           0
          ],
          [
           12,
           0
          ],
          [
           13,
           2
          ],
          [
           21,
           4
          ],
          [
           15,
           3
          ],
          [
           1,
           1
          ],
          [
           0,
           0
          ],
          [
           3,
           1
          ],
          [
           10,
           1
          ],
          [
           2,
           0
          ],
          [
           1,
           0
          ],
          [
           14,
           2
          ],
          [
           6,
           1
          ],
          [
           37,
           5
          ],
          [
           9,
           0
          ],
          [
           1,
           0
          ],
          [
           9,
           1
          ],
          [
           19,
           1
          ],
          [
           12,
           0
          ],
          [
           7,
           0
          ],
          [
           26,
           5
          ],
          [
           5,
           0
          ],
          [
           17,
           2
          ],
          [
           75,
           8
          ],
          [
           0,
           0
          ],
          [
           8,
           1
          ],
          [
           11,
           4
          ],
          [
           1,
           0
          ],
          [
           1,
           2
          ],
          [
           11,
           0
          ],
          [
           1,
           0
          ],
          [
           0,
           0
          ],
          [
           0,
           0
          ],
          [
           9,
           0
          ],
          [
           2,
           0
          ],
          [
           0,
           0
          ],
          [
           16,
           1
          ],
          [
           2,
           0
          ],
          [
           1,
           0
          ],
          [
           4,
           0
          ],
          [
           3,
           0
          ],
          [
           3,
           0
          ],
          [
           0,
           0
          ],
          [
           7,
           2
          ],
          [
           0,
           0
          ],
          [
           0,
           0
          ],
          [
           2,
           0
          ],
          [
           14,
           1
          ],
          [
           5,
           0
          ],
          [
           0,
           0
          ],
          [
           2,
           0
          ],
          [
           1,
           0
          ],
          [
           9,
           0
          ],
          [
           0,
           0
          ],
          [
           4,
           0
          ],
          [
           1,
           0
          ],
          [
           1,
           0
          ],
          [
           81,
           13
          ],
          [
           7,
           0
          ],
          [
           5,
           0
          ],
          [
           1,
           0
          ],
          [
           7,
           0
          ],
          [
           2,
           0
          ],
          [
           8,
           0
          ],
          [
           12,
           0
          ],
          [
           0,
           0
          ],
          [
           4,
           1
          ],
          [
           2,
           0
          ],
          [
           8,
           0
          ],
          [
           6,
           0
          ],
          [
           7,
           0
          ],
          [
           1,
           0
          ],
          [
           64,
           3
          ],
          [
           2,
           0
          ],
          [
           8,
           0
          ],
          [
           4,
           0
          ],
          [
           2,
           0
          ],
          [
           9,
           1
          ],
          [
           0,
           0
          ],
          [
           7,
           2
          ],
          [
           12,
           2
          ],
          [
           8,
           0
          ],
          [
           5,
           0
          ],
          [
           26,
           2
          ],
          [
           1,
           0
          ],
          [
           12,
           1
          ],
          [
           11,
           1
          ],
          [
           23,
           3
          ],
          [
           2,
           0
          ],
          [
           9,
           1
          ],
          [
           36,
           7
          ],
          [
           5,
           0
          ],
          [
           35,
           6
          ],
          [
           8,
           0
          ],
          [
           0,
           0
          ],
          [
           0,
           0
          ],
          [
           17,
           0
          ],
          [
           0,
           0
          ],
          [
           2,
           0
          ],
          [
           0,
           0
          ],
          [
           27,
           3
          ],
          [
           3,
           0
          ],
          [
           4,
           0
          ],
          [
           0,
           0
          ],
          [
           0,
           0
          ],
          [
           96,
           9
          ],
          [
           3,
           0
          ],
          [
           2,
           0
          ],
          [
           6,
           3
          ],
          [
           2,
           0
          ],
          [
           1,
           0
          ],
          [
           18,
           1
          ],
          [
           19,
           2
          ],
          [
           0,
           0
          ],
          [
           7,
           0
          ],
          [
           3,
           2
          ],
          [
           1,
           0
          ],
          [
           10,
           1
          ],
          [
           3,
           0
          ],
          [
           1,
           0
          ],
          [
           2,
           0
          ],
          [
           0,
           0
          ],
          [
           0,
           0
          ],
          [
           26,
           1
          ],
          [
           1,
           0
          ],
          [
           20,
           2
          ],
          [
           3,
           0
          ],
          [
           1,
           0
          ],
          [
           7,
           1
          ],
          [
           12,
           1
          ],
          [
           9,
           1
          ],
          [
           2,
           0
          ],
          [
           5,
           0
          ],
          [
           5,
           0
          ],
          [
           1,
           0
          ],
          [
           24,
           3
          ],
          [
           1,
           0
          ],
          [
           1,
           0
          ],
          [
           0,
           0
          ],
          [
           33,
           2
          ],
          [
           34,
           7
          ],
          [
           3,
           0
          ],
          [
           0,
           0
          ],
          [
           3,
           0
          ],
          [
           0,
           0
          ],
          [
           9,
           1
          ],
          [
           2,
           0
          ],
          [
           0,
           0
          ],
          [
           28,
           3
          ],
          [
           8,
           1
          ],
          [
           0,
           0
          ],
          [
           1,
           0
          ],
          [
           5,
           0
          ],
          [
           3,
           0
          ],
          [
           0,
           0
          ],
          [
           4,
           2
          ],
          [
           1,
           0
          ],
          [
           1,
           0
          ],
          [
           2,
           1
          ],
          [
           34,
           9
          ],
          [
           11,
           0
          ],
          [
           9,
           0
          ],
          [
           5,
           0
          ],
          [
           3,
           1
          ],
          [
           0,
           0
          ],
          [
           0,
           0
          ],
          [
           0,
           1
          ],
          [
           4,
           0
          ],
          [
           3,
           0
          ],
          [
           1,
           0
          ],
          [
           4,
           0
          ],
          [
           20,
           4
          ],
          [
           1,
           1
          ],
          [
           1,
           0
          ],
          [
           22,
           1
          ],
          [
           0,
           0
          ],
          [
           16,
           0
          ],
          [
           1,
           0
          ],
          [
           2,
           0
          ],
          [
           2,
           0
          ],
          [
           1,
           0
          ],
          [
           2,
           0
          ],
          [
           8,
           0
          ],
          [
           2,
           0
          ],
          [
           19,
           2
          ],
          [
           1,
           0
          ],
          [
           0,
           0
          ]
         ],
         "domain": {
          "x": [
           0,
           1
          ],
          "y": [
           0,
           1
          ]
         },
         "hovertemplate": "labels=%{label}<br>Victories=%{value}<br>parent=%{parent}<br>id=%{id}<br>Race fastest lap to 2022=%{customdata[0]}<br>World Championships=%{color}<extra></extra>",
         "ids": [
          "AUREAL Jean/1/0.0/0.0",
          "BALLERINI Andrea/1/0.0/0.0",
          "BARRINGTON Manliefe/1/0.0/0.0",
          "CARPENTER Phil/1/0.0/0.0",
          "CARTER Alan/1/0.0/0.0",
          "CZIHAK Edmund/1/0.0/0.0",
          "FELGENHEIER Roland/1/0.0/0.0",
          "IRELAND Dennis/1/0.0/0.0",
          "LEONI Guido/1/0.0/0.0",
          "MIYAZAKI Osamu/1/0.0/0.0",
          "MUDFORD Ken/1/0.0/0.0",
          "REITMAIER Fritz/1/0.0/0.0",
          "ROSSI Louis/1/0.0/0.0",
          "SALA Guido/1/0.0/0.0",
          "STOELLINGER Edi/1/0.0/0.0",
          "ÖNCÜ Can/1/0.0/0.0",
          "KASSNER Helmut/2/0.0/0.0",
          "PAWI Khairul Idham/2/0.0/0.0",
          "FRITH Freddie/5/0.0/0.0",
          "ABRAHAM Karel/1/1.0/0.0",
          "ARTIGAS Xavier/1/1.0/0.0",
          "CHANTRA Somkiat/1/1.0/0.0",
          "COLNAGO Giuseppe/1/1.0/0.0",
          "COPETA Angelo/1/1.0/0.0",
          "CREITH R./1/1.0/0.0",
          "EMMERICH Ingo/1/1.0/0.0",
          "FILICE Jim/1/1.0/0.0",
          "GOI Ivan/1/1.0/0.0",
          "GUEVARA Izan/1/1.0/0.0",
          "GUSTAFSSON Leif/1/1.0/0.0",
          "HASEGAWA Horoshi/1/1.0/0.0",
          "JEFFERIES Tony/1/1.0/0.0",
          "KAFKA Gerd/1/1.0/0.0",
          "KOBAYASHI Masaru/1/1.0/0.0",
          "LOI Livio/1/1.0/0.0",
          "MCCULLOUGH Ray/1/1.0/0.0",
          "NAGASHIMA Tetsuta/1/1.0/0.0",
          "NASH Godfrey/1/1.0/0.0",
          "NEWBOLD John/1/1.0/0.0",
          "TOMIZAWA Shoya/1/1.0/0.0",
          "DANIELL Harold/1/2.0/0.0",
          "KISSLING Jorge/1/2.0/0.0",
          "CANN Maurice/3/2.0/0.0",
          "WILLIAMS Charlie/3/2.0/0.0",
          "ITO Fumio/1/3.0/0.0",
          "FERRI Romolo/1/6.0/0.0",
          "GARCIA Sergio/6/7.0/0.0",
          "HAAS Werner/11/7.0/0.0",
          "MCCANDLESS Cromie/2/0.0/1.0",
          "DRAPAL Janos/4/0.0/1.0",
          "AGOSTINI Duilio/1/1.0/1.0",
          "BRUINS Jan/1/1.0/1.0",
          "CLUZEL Jules/1/1.0/1.0",
          "CRAFAR Simon/1/1.0/1.0",
          "FÜGNER Horst/1/1.0/1.0",
          "LACONI Regis/1/1.0/1.0",
          "OETTL Philipp/1/1.0/1.0",
          "PIRRO Michele/1/1.0/1.0",
          "TORRES Jordi/1/1.0/1.0",
          "GANDOSSI Alberto/2/1.0/1.0",
          "MASBOU Alexis/2/1.0/1.0",
          "MIDDELBURG Jack/2/1.0/1.0",
          "SUZUKI Tatsuki/2/1.0/1.0",
          "LODEWIJKX Paul/4/1.0/1.0",
          "ACOSTA Pedro/6/1.0/1.0",
          "SIMEON Xavier/1/2.0/1.0",
          "SPAGGIARI Bruno/1/2.0/1.0",
          "VAN DULMEN Boet/1/2.0/1.0",
          "RUTTER Tony/2/2.0/1.0",
          "BELL Artie/1/3.0/1.0",
          "WOOD Tommy/2/3.0/1.0",
          "RUFFO Bruno/4/5.0/1.0",
          "BERTIN Guy/6/5.0/1.0",
          "HANSFORD Greg/10/14.0/1.0",
          "CELSO-SANTOS Adu/1/0.0/2.0",
          "WHEELER Arthur/2/0.0/2.0",
          "CALDARELLA Benedicto/1/1.0/2.0",
          "CONFORTI Pier Luigi/1/1.0/2.0",
          "GUILLEUX Herve/1/1.0/2.0",
          "TAIRA Tadahiko/1/1.0/2.0",
          "TANAKA Kenjiro/1/1.0/2.0",
          "TOBA Kaito/1/1.0/2.0",
          "CAÑELLAS Salvador/2/1.0/2.0",
          "HUBERTS Jan/2/1.0/2.0",
          "SCALVINI Gianluigi/2/1.0/2.0",
          "TAMADA Makoto/2/1.0/2.0",
          "BOLLE Jacques/1/2.0/2.0",
          "LUCCHI Marcellino/1/2.0/2.0",
          "NORTH Alan/1/2.0/2.0",
          "SELINI Jean Claude/1/2.0/2.0",
          "WEST Anthony/2/2.0/2.0",
          "ROSSI Graziano/3/2.0/2.0",
          "ARENAS Albert/6/2.0/2.0",
          "BINDER Darryn/1/3.0/2.0",
          "DEBON Alex/2/3.0/2.0",
          "MILANI Alfredo/3/4.0/2.0",
          "BALDASSARRI Lorenzo/5/5.0/2.0",
          "FERRARI Virginio/2/6.0/2.0",
          "DI MEGLIO Mike/5/6.0/2.0",
          "WILLIAMS Peter/1/8.0/2.0",
          "RITTBERGER Herbert/4/8.0/2.0",
          "DALLA PORTA Lorenzo/5/9.0/2.0",
          "CECOTTO Johnny/14/10.0/2.0",
          "SPENCER Freddie/27/10.0/2.0",
          "HOCKING Gary/19/12.0/2.0",
          "AGOSTINI Giacomo/122/35.0/2.0",
          "ESPARGARO Aleix/1/1.0/3.0",
          "ROBERTS Joe/1/1.0/3.0",
          "SPIES Ben/1/2.0/3.0",
          "VITALI Maurizio/2/2.0/3.0",
          "VERMEULEN Chris/1/3.0/3.0",
          "DORAN William/2/3.0/3.0",
          "GRANT Mike/3/3.0/3.0",
          "MENDOGNI Emilio/3/3.0/3.0",
          "SANNA Simone/3/3.0/3.0",
          "TOKUDOME Masaki/5/3.0/3.0",
          "FERNANDEZ Raul/10/3.0/3.0",
          "PALAZZESE Ivan/2/4.0/3.0",
          "HERRERO Santiago/4/4.0/3.0",
          "SURTEES John/38/4.0/3.0",
          "KOYAMA Tomoyoshi/1/5.0/3.0",
          "BERGAMONTI Angelo/2/5.0/3.0",
          "KATAYAMA Yoshimi/4/5.0/3.0",
          "PARLOTTI Gilberto/4/5.0/3.0",
          "MASIA Jaume/5/5.0/3.0",
          "FREYMOND Roland/1/6.0/3.0",
          "MARINI Luca/6/6.0/3.0",
          "RAUDIES Dirk/14/6.0/3.0",
          "DE RADIGUES Didier/4/8.0/3.0",
          "GARDNER Remy/6/8.0/3.0",
          "MOLLOY Ginger/1/9.0/3.0",
          "BAYLISS Troy/1/0.0/4.0",
          "CASOLI Paolo/1/0.0/4.0",
          "RICCI Fausto/1/0.0/4.0",
          "VAN DONGEN Cees/1/0.0/4.0",
          "TORRONTEGUI Herri/2/0.0/4.0",
          "MCWILLIAMS Jeremy/1/1.0/4.0",
          "NEWCOMBE Kim/1/1.0/4.0",
          "AOKI Nobuatsu/1/2.0/4.0",
          "CHEVALLIER Olivier/1/2.0/4.0",
          "MCCONNACHIE Ian/1/2.0/4.0",
          "MONNERET Pierre/2/2.0/4.0",
          "RAMIREZ Marcos/2/2.0/4.0",
          "SAUL Eric/2/2.0/4.0",
          "SMITH Barry/4/2.0/4.0",
          "CHILI Pierfrancesco/5/2.0/4.0",
          "MINTER Derek/1/3.0/4.0",
          "PREIN Stefan/1/3.0/4.0",
          "PESEK Lukas/2/3.0/4.0",
          "RUGGIA Jean Philippe/3/3.0/4.0",
          "ANTONELLI Niccolò/4/3.0/4.0",
          "LOMAS Bill/9/3.0/4.0",
          "BRIGAGLIA Domenico/1/4.0/4.0",
          "GRAF Ulrich/1/4.0/4.0",
          "LEGA Mario/1/4.0/4.0",
          "TOURNADRE Jean Louis/1/4.0/4.0",
          "PETRUCCI Danilo/2/4.0/4.0",
          "TAKAHASHI Yuki/3/4.0/4.0",
          "LIBERATI Libero/6/4.0/4.0",
          "HENNEN Pat/3/5.0/4.0",
          "ARBOLINO Tony/4/5.0/4.0",
          "AMM Ray/6/6.0/4.0",
          "BEATTIE Daryl/3/7.0/4.0",
          "ROTH Reinhold/3/8.0/4.0",
          "BRADL Stefan/7/8.0/4.0",
          "VINCENT Arnaud/7/8.0/4.0",
          "DE VRIES Jan/14/9.0/4.0",
          "AEGERTER Dominique/1/1.0/5.0",
          "MARSOVSZKY Gyula/1/2.0/5.0",
          "SCHNEIDER Bert/1/2.0/5.0",
          "WILLIAMS John/1/2.0/5.0",
          "PAGANI Nello/4/2.0/5.0",
          "WAIBEL Gerhard/4/2.0/5.0",
          "HARTOG Wil/5/2.0/5.0",
          "VIETTI Celestino/4/3.0/5.0",
          "TIMMER Theo/3/4.0/5.0",
          "DALE Dickie/2/5.0/5.0",
          "KATO Daijiro/17/5.0/5.0",
          "AOKI Haruchika/9/6.0/5.0",
          "SIMMONDS Dave/11/6.0/5.0",
          "UI Youichi/11/6.0/5.0",
          "GRAHAM Stuart/2/7.0/5.0",
          "CECCHINELLO Lucio/7/7.0/5.0",
          "PORTO Sebastian/7/7.0/5.0",
          "QUARTARARO Fabio/10/11.0/5.0",
          "FENATI Romano/13/11.0/5.0",
          "HERWEH Manfred/6/0.0/6.0",
          "AHEARN Jack/1/1.0/6.0",
          "NIETO Pablo/1/1.0/6.0",
          "TOERSEN Aalt/6/1.0/6.0",
          "MIGNO Andrea/2/3.0/6.0",
          "GRAMIGNI Alessandro/3/3.0/6.0",
          "BRETT Jack/1/4.0/6.0",
          "COLEMAN Rod/1/4.0/6.0",
          "SCHURGERS Jos/1/4.0/6.0",
          "GARRIGA Juan/3/4.0/6.0",
          "AZUMA Masao/10/4.0/6.0",
          "FOGGIA Dennis/7/5.0/6.0",
          "KANAYA Hideo/3/6.0/6.0",
          "MCPHEE John/3/6.0/6.0",
          "EKEROLD Jonnie/7/6.0/6.0",
          "VILLA Walter/24/6.0/6.0",
          "BONERA Gianfranco/2/7.0/6.0",
          "LUCCHINELLI Marco/6/7.0/6.0",
          "PERUGINI Stefano/5/8.0/6.0",
          "CASANOVA Bruno/1/9.0/6.0",
          "MASETTI Umberto/6/9.0/6.0",
          "CARRUTHERS Kel/7/9.0/6.0",
          "BALLINGTON Kork/31/9.0/6.0",
          "ROLFO Roberto/4/10.0/6.0",
          "SALOM Luis/9/10.0/6.0",
          "TORMO Ricardo/19/11.0/6.0",
          "MCINTYRE Bob/5/14.0/6.0",
          "ROBERTS Kenny/24/14.0/6.0",
          "IVY Bill/21/15.0/6.0",
          "TEROL Nicolas/16/17.0/6.0",
          "PUIG Alberto/1/1.0/7.0",
          "FERNANDEZ Augusto/3/1.0/7.0",
          "KORHONEN Pentti/1/2.0/7.0",
          "TAKAHASHI Kuninitsu/4/3.0/7.0",
          "SPAAN Hans/9/5.0/7.0",
          "ANDERSON Fergus/12/5.0/7.0",
          "WIMMER Martin/3/6.0/7.0",
          "AUINGER August/5/6.0/7.0",
          "ROUGERIE Michel/3/7.0/7.0",
          "LORENZETTI Enrico/7/7.0/7.0",
          "PERRIS Frank/3/8.0/7.0",
          "SIMON Julian/8/11.0/7.0",
          "ANSCHEIDT Hans-Georg/14/13.0/7.0",
          "VENTURI Remo/1/14.0/7.0",
          "GIBERNAU Sete/9/14.0/7.0",
          "SAKATA Kazuto/11/23.0/7.0",
          "ITOH Mitsuo/2/3.0/8.0",
          "HERRON Tom/2/4.0/8.0",
          "NAKAGAMI Takaaki/2/4.0/8.0",
          "SARRON Dominique/4/4.0/8.0",
          "NIETO Fonsi/5/5.0/8.0",
          "VAZQUEZ Efren/2/6.0/8.0",
          "PHILLIS Tom/6/6.0/8.0",
          "NAKANO Shinya/6/7.0/8.0",
          "BRADL Helmut/5/8.0/8.0",
          "CANET Aron/6/10.0/8.0",
          "KAVANAGH Ken/5/11.0/8.0",
          "HERREROS Manuel/2/12.0/8.0",
          "GIANOLA Ezio/9/13.0/8.0",
          "BINDER Brad/17/13.0/8.0",
          "CHECA Carlos/2/14.0/8.0",
          "LAVADO Carlos/19/15.0/8.0",
          "GOULD Rodney/10/16.0/8.0",
          "HARTLE John/5/21.0/8.0",
          "ZEELENBERG Wilco/1/1.0/9.0",
          "BUSCHERINI Otello/3/5.0/9.0",
          "REDDING Scott/4/5.0/9.0",
          "UNCINI Franco/7/5.0/9.0",
          "GADEA Sergio/3/6.0/9.0",
          "OETTL Peter/5/6.0/9.0",
          "PAGANI Alberto/3/7.0/9.0",
          "LOCATELLI Roberto/9/7.0/9.0",
          "NAVARRO Jorge/2/8.0/9.0",
          "MANAKO Tomomi/6/8.0/9.0",
          "TALMACSI Gabor/9/8.0/9.0",
          "SHEPHERD Alan/2/9.0/9.0",
          "BEZZECCHI Marco/6/9.0/9.0",
          "VAN KESSEL Henk/7/9.0/9.0",
          "DI GIANNANTONIO Fabio/3/10.0/9.0",
          "LANSIVUORI Teuvo/8/10.0/9.0",
          "PROVINI Tarquinio/20/10.0/9.0",
          "CARDÚS Carlos/5/12.0/9.0",
          "UBBIALI Carlo/39/20.0/9.0",
          "KALLIO Mika/16/24.0/9.0",
          "ABE Norick/3/4.0/10.0",
          "LOWES Sam/9/5.0/10.0",
          "CRUTCHLOW Cal/3/6.0/10.0",
          "ROMBONI Doriano/6/6.0/10.0",
          "MORBIDELLI Franco/11/6.0/10.0",
          "SAARINEN Jarno/15/7.0/10.0",
          "DUKE Geoff/33/7.0/10.0",
          "AOYAMA Hiroshi/9/8.0/10.0",
          "PASINI Mattia/12/8.0/10.0",
          "KOCINSKI John/13/12.0/10.0",
          "MARTINEZ Jorge/37/14.0/10.0",
          "PONS Sito/15/16.0/10.0",
          "DOOHAN Mick/54/31.0/10.0",
          "SANDFORD Cecyl/5/5.0/11.0",
          "DODDS John/4/6.0/11.0",
          "SIMONCELLI Marco/14/6.0/11.0",
          "CORNU Jacques/3/7.0/11.0",
          "GRASSETTI Silvio/3/7.0/11.0",
          "FAUBEL Hector/8/7.0/11.0",
          "DE PUNIET Randy/5/8.0/11.0",
          "BAGNAIA Francesco/14/8.0/11.0",
          "BALDÉ Jean Francois/5/10.0/11.0",
          "MIR Joan/12/10.0/11.0",
          "ANDERSON Hugh/25/12.0/11.0",
          "OLIVEIRA Miguel/16/13.0/11.0",
          "GRESINI Fausto/21/15.0/11.0",
          "HAILWOOD Mike/76/25.0/11.0",
          "STASTNY Franta/4/4.0/12.0",
          "CORSI Simone/5/4.0/12.0",
          "FOLGER Jonas/5/7.0/12.0",
          "DUFF Mike/3/9.0/12.0",
          "SMITH Bradley/3/10.0/12.0",
          "CORTESE Sandro/7/10.0/12.0",
          "MARTIN Jorge/11/10.0/12.0",
          "DEGNER Ernst/15/11.0/12.0",
          "MARQUEZ Alex/12/16.0/12.0",
          "PASOLINI Renzo/6/17.0/12.0",
          "HARADA Tetsuya/17/26.0/12.0",
          "MILLER Jack/9/4.0/13.0",
          "JANSSON Borje/4/8.0/13.0",
          "FINDLAY Jack/3/9.0/13.0",
          "ARMSTRONG Reg/7/9.0/13.0",
          "BARBERA Hector/10/9.0/13.0",
          "POGGIALI Manuel/12/10.0/13.0",
          "RABAT Tito/13/10.0/13.0",
          "KATAYAMA Takazumi/11/11.0/13.0",
          "ALZAMORA Emilio/4/13.0/13.0",
          "ELIAS Toni/17/13.0/13.0",
          "SCHWANTZ Kevin/25/13.0/13.0",
          "JACQUE Olivier/7/15.0/13.0",
          "DÖRFLINGER Stefan/18/27.0/13.0",
          "IANNONE Andrea/13/8.0/14.0",
          "BARROS Alex/7/11.0/14.0",
          "UEDA Noboru/13/12.0/14.0",
          "OKADA Tadayuki/6/16.0/14.0",
          "GARDNER Wayne/18/20.0/14.0",
          "NIETO Angel/90/35.0/14.0",
          "KNEUBÜHLER Bruno/5/13.0/15.0",
          "BRYANS Ralph/10/15.0/15.0",
          "WALDMANN Ralf/20/15.0/15.0",
          "MORTIMER Chas/7/17.0/15.0",
          "SHEENE Barry/23/13.0/16.0",
          "ZARCO Johann/16/22.0/16.0",
          "CADALORA Luca/34/22.0/16.0",
          "LAWSON Eddie/31/31.0/16.0",
          "FERNANDEZ Patrick/3/6.0/17.0",
          "BASTIANINI Enea/8/11.0/17.0",
          "SARRON Christian/7/13.0/17.0",
          "UKAWA Tohru/5/17.0/17.0",
          "BIANCHI Pierpaolo/27/17.0/17.0",
          "DE ANGELIS Alex/4/19.0/17.0",
          "RINS Alex/15/23.0/17.0",
          "MANG Anton/42/25.0/17.0",
          "MARQUEZ Marc/85/36.0/17.0",
          "ROBB Tommy/3/7.0/18.0",
          "BAUTISTA Alvaro/16/15.0/18.0",
          "BRAUN Dieter/14/17.0/18.0",
          "HAYDEN Nicky/3/6.0/19.0",
          "REGGIANI Loris/8/14.0/19.0",
          "RAINEY Wayne/24/22.0/19.0",
          "MAMOLA Randy/13/25.0/19.0",
          "LAZZARINI Eugenio/27/35.0/19.0",
          "ANDERSSON Kent/18/15.0/20.0",
          "MELANDRI Marco/22/20.0/20.0",
          "VIÑALES Maverick/25/23.0/20.0",
          "REDMAN Jim/45/33.0/20.0",
          "ESPARGARO Pol/15/15.0/22.0",
          "CRIVILLE Alex/20/21.0/25.0",
          "LUTHI Thomas/17/23.0/25.0",
          "READ Phil/52/44.0/25.0",
          "TAVERI Luigi/30/33.0/26.0",
          "STONER Casey/45/17.0/27.0",
          "BIAGGI Max/42/41.0/28.0",
          "LORENZO Jorge/68/51.0/33.0",
          "CAPIROSSI Loris/29/34.0/36.0",
          "DOVIZIOSO Andrea/24/39.0/40.0",
          "PEDROSA Dani/54/52.0/47.0",
          "ROSSI Valentino/115/67.0/53.0",
          "AUREAL Jean/1/0.0",
          "BALLERINI Andrea/1/0.0",
          "BARRINGTON Manliefe/1/0.0",
          "BAYLISS Troy/1/0.0",
          "CARPENTER Phil/1/0.0",
          "CARTER Alan/1/0.0",
          "CASOLI Paolo/1/0.0",
          "CELSO-SANTOS Adu/1/0.0",
          "CZIHAK Edmund/1/0.0",
          "FELGENHEIER Roland/1/0.0",
          "IRELAND Dennis/1/0.0",
          "LEONI Guido/1/0.0",
          "MIYAZAKI Osamu/1/0.0",
          "MUDFORD Ken/1/0.0",
          "REITMAIER Fritz/1/0.0",
          "RICCI Fausto/1/0.0",
          "ROSSI Louis/1/0.0",
          "SALA Guido/1/0.0",
          "STOELLINGER Edi/1/0.0",
          "VAN DONGEN Cees/1/0.0",
          "ÖNCÜ Can/1/0.0",
          "KASSNER Helmut/2/0.0",
          "MCCANDLESS Cromie/2/0.0",
          "PAWI Khairul Idham/2/0.0",
          "TORRONTEGUI Herri/2/0.0",
          "WHEELER Arthur/2/0.0",
          "DRAPAL Janos/4/0.0",
          "FRITH Freddie/5/0.0",
          "HERWEH Manfred/6/0.0",
          "ABRAHAM Karel/1/1.0",
          "AEGERTER Dominique/1/1.0",
          "AGOSTINI Duilio/1/1.0",
          "AHEARN Jack/1/1.0",
          "ARTIGAS Xavier/1/1.0",
          "BRUINS Jan/1/1.0",
          "CALDARELLA Benedicto/1/1.0",
          "CHANTRA Somkiat/1/1.0",
          "CLUZEL Jules/1/1.0",
          "COLNAGO Giuseppe/1/1.0",
          "CONFORTI Pier Luigi/1/1.0",
          "COPETA Angelo/1/1.0",
          "CRAFAR Simon/1/1.0",
          "CREITH R./1/1.0",
          "EMMERICH Ingo/1/1.0",
          "ESPARGARO Aleix/1/1.0",
          "FILICE Jim/1/1.0",
          "FÜGNER Horst/1/1.0",
          "GOI Ivan/1/1.0",
          "GUEVARA Izan/1/1.0",
          "GUILLEUX Herve/1/1.0",
          "GUSTAFSSON Leif/1/1.0",
          "HASEGAWA Horoshi/1/1.0",
          "JEFFERIES Tony/1/1.0",
          "KAFKA Gerd/1/1.0",
          "KOBAYASHI Masaru/1/1.0",
          "LACONI Regis/1/1.0",
          "LOI Livio/1/1.0",
          "MCCULLOUGH Ray/1/1.0",
          "MCWILLIAMS Jeremy/1/1.0",
          "NAGASHIMA Tetsuta/1/1.0",
          "NASH Godfrey/1/1.0",
          "NEWBOLD John/1/1.0",
          "NEWCOMBE Kim/1/1.0",
          "NIETO Pablo/1/1.0",
          "OETTL Philipp/1/1.0",
          "PIRRO Michele/1/1.0",
          "PUIG Alberto/1/1.0",
          "ROBERTS Joe/1/1.0",
          "TAIRA Tadahiko/1/1.0",
          "TANAKA Kenjiro/1/1.0",
          "TOBA Kaito/1/1.0",
          "TOMIZAWA Shoya/1/1.0",
          "TORRES Jordi/1/1.0",
          "ZEELENBERG Wilco/1/1.0",
          "CAÑELLAS Salvador/2/1.0",
          "GANDOSSI Alberto/2/1.0",
          "HUBERTS Jan/2/1.0",
          "MASBOU Alexis/2/1.0",
          "MIDDELBURG Jack/2/1.0",
          "SCALVINI Gianluigi/2/1.0",
          "SUZUKI Tatsuki/2/1.0",
          "TAMADA Makoto/2/1.0",
          "FERNANDEZ Augusto/3/1.0",
          "LODEWIJKX Paul/4/1.0",
          "ACOSTA Pedro/6/1.0",
          "TOERSEN Aalt/6/1.0",
          "AOKI Nobuatsu/1/2.0",
          "BOLLE Jacques/1/2.0",
          "CHEVALLIER Olivier/1/2.0",
          "DANIELL Harold/1/2.0",
          "KISSLING Jorge/1/2.0",
          "KORHONEN Pentti/1/2.0",
          "LUCCHI Marcellino/1/2.0",
          "MARSOVSZKY Gyula/1/2.0",
          "MCCONNACHIE Ian/1/2.0",
          "NORTH Alan/1/2.0",
          "SCHNEIDER Bert/1/2.0",
          "SELINI Jean Claude/1/2.0",
          "SIMEON Xavier/1/2.0",
          "SPAGGIARI Bruno/1/2.0",
          "SPIES Ben/1/2.0",
          "VAN DULMEN Boet/1/2.0",
          "WILLIAMS John/1/2.0",
          "MONNERET Pierre/2/2.0",
          "RAMIREZ Marcos/2/2.0",
          "RUTTER Tony/2/2.0",
          "SAUL Eric/2/2.0",
          "VITALI Maurizio/2/2.0",
          "WEST Anthony/2/2.0",
          "CANN Maurice/3/2.0",
          "ROSSI Graziano/3/2.0",
          "WILLIAMS Charlie/3/2.0",
          "PAGANI Nello/4/2.0",
          "SMITH Barry/4/2.0",
          "WAIBEL Gerhard/4/2.0",
          "CHILI Pierfrancesco/5/2.0",
          "HARTOG Wil/5/2.0",
          "ARENAS Albert/6/2.0",
          "BELL Artie/1/3.0",
          "BINDER Darryn/1/3.0",
          "ITO Fumio/1/3.0",
          "MINTER Derek/1/3.0",
          "PREIN Stefan/1/3.0",
          "VERMEULEN Chris/1/3.0",
          "DEBON Alex/2/3.0",
          "DORAN William/2/3.0",
          "ITOH Mitsuo/2/3.0",
          "MIGNO Andrea/2/3.0",
          "PESEK Lukas/2/3.0",
          "WOOD Tommy/2/3.0",
          "GRAMIGNI Alessandro/3/3.0",
          "GRANT Mike/3/3.0",
          "MENDOGNI Emilio/3/3.0",
          "RUGGIA Jean Philippe/3/3.0",
          "SANNA Simone/3/3.0",
          "ANTONELLI Niccolò/4/3.0",
          "TAKAHASHI Kuninitsu/4/3.0",
          "VIETTI Celestino/4/3.0",
          "TOKUDOME Masaki/5/3.0",
          "LOMAS Bill/9/3.0",
          "FERNANDEZ Raul/10/3.0",
          "BRETT Jack/1/4.0",
          "BRIGAGLIA Domenico/1/4.0",
          "COLEMAN Rod/1/4.0",
          "GRAF Ulrich/1/4.0",
          "LEGA Mario/1/4.0",
          "SCHURGERS Jos/1/4.0",
          "TOURNADRE Jean Louis/1/4.0",
          "HERRON Tom/2/4.0",
          "NAKAGAMI Takaaki/2/4.0",
          "PALAZZESE Ivan/2/4.0",
          "PETRUCCI Danilo/2/4.0",
          "ABE Norick/3/4.0",
          "GARRIGA Juan/3/4.0",
          "MILANI Alfredo/3/4.0",
          "TAKAHASHI Yuki/3/4.0",
          "TIMMER Theo/3/4.0",
          "HERRERO Santiago/4/4.0",
          "SARRON Dominique/4/4.0",
          "STASTNY Franta/4/4.0",
          "CORSI Simone/5/4.0",
          "LIBERATI Libero/6/4.0",
          "MILLER Jack/9/4.0",
          "AZUMA Masao/10/4.0",
          "SURTEES John/38/4.0",
          "KOYAMA Tomoyoshi/1/5.0",
          "BERGAMONTI Angelo/2/5.0",
          "DALE Dickie/2/5.0",
          "BUSCHERINI Otello/3/5.0",
          "HENNEN Pat/3/5.0",
          "ARBOLINO Tony/4/5.0",
          "KATAYAMA Yoshimi/4/5.0",
          "PARLOTTI Gilberto/4/5.0",
          "REDDING Scott/4/5.0",
          "RUFFO Bruno/4/5.0",
          "BALDASSARRI Lorenzo/5/5.0",
          "MASIA Jaume/5/5.0",
          "NIETO Fonsi/5/5.0",
          "SANDFORD Cecyl/5/5.0",
          "BERTIN Guy/6/5.0",
          "FOGGIA Dennis/7/5.0",
          "UNCINI Franco/7/5.0",
          "LOWES Sam/9/5.0",
          "SPAAN Hans/9/5.0",
          "ANDERSON Fergus/12/5.0",
          "KATO Daijiro/17/5.0",
          "FERRI Romolo/1/6.0",
          "FREYMOND Roland/1/6.0",
          "FERRARI Virginio/2/6.0",
          "VAZQUEZ Efren/2/6.0",
          "CRUTCHLOW Cal/3/6.0",
          "FERNANDEZ Patrick/3/6.0",
          "GADEA Sergio/3/6.0",
          "HAYDEN Nicky/3/6.0",
          "KANAYA Hideo/3/6.0",
          "MCPHEE John/3/6.0",
          "WIMMER Martin/3/6.0",
          "DODDS John/4/6.0",
          "AUINGER August/5/6.0",
          "DI MEGLIO Mike/5/6.0",
          "OETTL Peter/5/6.0",
          "AMM Ray/6/6.0",
          "MARINI Luca/6/6.0",
          "PHILLIS Tom/6/6.0",
          "ROMBONI Doriano/6/6.0",
          "EKEROLD Jonnie/7/6.0",
          "AOKI Haruchika/9/6.0",
          "MORBIDELLI Franco/11/6.0",
          "SIMMONDS Dave/11/6.0",
          "UI Youichi/11/6.0",
          "RAUDIES Dirk/14/6.0",
          "SIMONCELLI Marco/14/6.0",
          "VILLA Walter/24/6.0",
          "BONERA Gianfranco/2/7.0",
          "GRAHAM Stuart/2/7.0",
          "BEATTIE Daryl/3/7.0",
          "CORNU Jacques/3/7.0",
          "GRASSETTI Silvio/3/7.0",
          "PAGANI Alberto/3/7.0",
          "ROBB Tommy/3/7.0",
          "ROUGERIE Michel/3/7.0",
          "FOLGER Jonas/5/7.0",
          "GARCIA Sergio/6/7.0",
          "LUCCHINELLI Marco/6/7.0",
          "NAKANO Shinya/6/7.0",
          "CECCHINELLO Lucio/7/7.0",
          "LORENZETTI Enrico/7/7.0",
          "PORTO Sebastian/7/7.0",
          "FAUBEL Hector/8/7.0",
          "LOCATELLI Roberto/9/7.0",
          "HAAS Werner/11/7.0",
          "SAARINEN Jarno/15/7.0",
          "DUKE Geoff/33/7.0",
          "WILLIAMS Peter/1/8.0",
          "NAVARRO Jorge/2/8.0",
          "PERRIS Frank/3/8.0",
          "ROTH Reinhold/3/8.0",
          "DE RADIGUES Didier/4/8.0",
          "JANSSON Borje/4/8.0",
          "RITTBERGER Herbert/4/8.0",
          "BRADL Helmut/5/8.0",
          "DE PUNIET Randy/5/8.0",
          "PERUGINI Stefano/5/8.0",
          "GARDNER Remy/6/8.0",
          "MANAKO Tomomi/6/8.0",
          "BRADL Stefan/7/8.0",
          "VINCENT Arnaud/7/8.0",
          "AOYAMA Hiroshi/9/8.0",
          "TALMACSI Gabor/9/8.0",
          "PASINI Mattia/12/8.0",
          "IANNONE Andrea/13/8.0",
          "BAGNAIA Francesco/14/8.0",
          "CASANOVA Bruno/1/9.0",
          "MOLLOY Ginger/1/9.0",
          "SHEPHERD Alan/2/9.0",
          "DUFF Mike/3/9.0",
          "FINDLAY Jack/3/9.0",
          "DALLA PORTA Lorenzo/5/9.0",
          "BEZZECCHI Marco/6/9.0",
          "MASETTI Umberto/6/9.0",
          "ARMSTRONG Reg/7/9.0",
          "CARRUTHERS Kel/7/9.0",
          "VAN KESSEL Henk/7/9.0",
          "BARBERA Hector/10/9.0",
          "DE VRIES Jan/14/9.0",
          "BALLINGTON Kork/31/9.0",
          "DI GIANNANTONIO Fabio/3/10.0",
          "SMITH Bradley/3/10.0",
          "ROLFO Roberto/4/10.0",
          "BALDÉ Jean Francois/5/10.0",
          "CANET Aron/6/10.0",
          "CORTESE Sandro/7/10.0",
          "LANSIVUORI Teuvo/8/10.0",
          "SALOM Luis/9/10.0",
          "MARTIN Jorge/11/10.0",
          "MIR Joan/12/10.0",
          "POGGIALI Manuel/12/10.0",
          "RABAT Tito/13/10.0",
          "CECOTTO Johnny/14/10.0",
          "PROVINI Tarquinio/20/10.0",
          "SPENCER Freddie/27/10.0",
          "KAVANAGH Ken/5/11.0",
          "BARROS Alex/7/11.0",
          "BASTIANINI Enea/8/11.0",
          "SIMON Julian/8/11.0",
          "QUARTARARO Fabio/10/11.0",
          "KATAYAMA Takazumi/11/11.0",
          "FENATI Romano/13/11.0",
          "DEGNER Ernst/15/11.0",
          "TORMO Ricardo/19/11.0",
          "HERREROS Manuel/2/12.0",
          "CARDÚS Carlos/5/12.0",
          "KOCINSKI John/13/12.0",
          "UEDA Noboru/13/12.0",
          "HOCKING Gary/19/12.0",
          "ANDERSON Hugh/25/12.0",
          "ALZAMORA Emilio/4/13.0",
          "KNEUBÜHLER Bruno/5/13.0",
          "SARRON Christian/7/13.0",
          "GIANOLA Ezio/9/13.0",
          "ANSCHEIDT Hans-Georg/14/13.0",
          "OLIVEIRA Miguel/16/13.0",
          "BINDER Brad/17/13.0",
          "ELIAS Toni/17/13.0",
          "SHEENE Barry/23/13.0",
          "SCHWANTZ Kevin/25/13.0",
          "VENTURI Remo/1/14.0",
          "CHECA Carlos/2/14.0",
          "MCINTYRE Bob/5/14.0",
          "REGGIANI Loris/8/14.0",
          "GIBERNAU Sete/9/14.0",
          "HANSFORD Greg/10/14.0",
          "ROBERTS Kenny/24/14.0",
          "MARTINEZ Jorge/37/14.0",
          "JACQUE Olivier/7/15.0",
          "BRYANS Ralph/10/15.0",
          "ESPARGARO Pol/15/15.0",
          "BAUTISTA Alvaro/16/15.0",
          "ANDERSSON Kent/18/15.0",
          "LAVADO Carlos/19/15.0",
          "WALDMANN Ralf/20/15.0",
          "GRESINI Fausto/21/15.0",
          "IVY Bill/21/15.0",
          "OKADA Tadayuki/6/16.0",
          "GOULD Rodney/10/16.0",
          "MARQUEZ Alex/12/16.0",
          "PONS Sito/15/16.0",
          "UKAWA Tohru/5/17.0",
          "PASOLINI Renzo/6/17.0",
          "MORTIMER Chas/7/17.0",
          "BRAUN Dieter/14/17.0",
          "TEROL Nicolas/16/17.0",
          "BIANCHI Pierpaolo/27/17.0",
          "STONER Casey/45/17.0",
          "DE ANGELIS Alex/4/19.0",
          "GARDNER Wayne/18/20.0",
          "MELANDRI Marco/22/20.0",
          "UBBIALI Carlo/39/20.0",
          "HARTLE John/5/21.0",
          "CRIVILLE Alex/20/21.0",
          "ZARCO Johann/16/22.0",
          "RAINEY Wayne/24/22.0",
          "CADALORA Luca/34/22.0",
          "SAKATA Kazuto/11/23.0",
          "RINS Alex/15/23.0",
          "LUTHI Thomas/17/23.0",
          "VIÑALES Maverick/25/23.0",
          "KALLIO Mika/16/24.0",
          "MAMOLA Randy/13/25.0",
          "MANG Anton/42/25.0",
          "HAILWOOD Mike/76/25.0",
          "HARADA Tetsuya/17/26.0",
          "DÖRFLINGER Stefan/18/27.0",
          "LAWSON Eddie/31/31.0",
          "DOOHAN Mick/54/31.0",
          "TAVERI Luigi/30/33.0",
          "REDMAN Jim/45/33.0",
          "CAPIROSSI Loris/29/34.0",
          "LAZZARINI Eugenio/27/35.0",
          "NIETO Angel/90/35.0",
          "AGOSTINI Giacomo/122/35.0",
          "MARQUEZ Marc/85/36.0",
          "DOVIZIOSO Andrea/24/39.0",
          "BIAGGI Max/42/41.0",
          "READ Phil/52/44.0",
          "LORENZO Jorge/68/51.0",
          "PEDROSA Dani/54/52.0",
          "ROSSI Valentino/115/67.0",
          "ABRAHAM Karel/1",
          "AEGERTER Dominique/1",
          "AGOSTINI Duilio/1",
          "AHEARN Jack/1",
          "AOKI Nobuatsu/1",
          "ARTIGAS Xavier/1",
          "AUREAL Jean/1",
          "BALLERINI Andrea/1",
          "BARRINGTON Manliefe/1",
          "BAYLISS Troy/1",
          "BELL Artie/1",
          "BINDER Darryn/1",
          "BOLLE Jacques/1",
          "BRETT Jack/1",
          "BRIGAGLIA Domenico/1",
          "BRUINS Jan/1",
          "CALDARELLA Benedicto/1",
          "CARPENTER Phil/1",
          "CARTER Alan/1",
          "CASANOVA Bruno/1",
          "CASOLI Paolo/1",
          "CELSO-SANTOS Adu/1",
          "CHANTRA Somkiat/1",
          "CHEVALLIER Olivier/1",
          "CLUZEL Jules/1",
          "COLEMAN Rod/1",
          "COLNAGO Giuseppe/1",
          "CONFORTI Pier Luigi/1",
          "COPETA Angelo/1",
          "CRAFAR Simon/1",
          "CREITH R./1",
          "CZIHAK Edmund/1",
          "DANIELL Harold/1",
          "EMMERICH Ingo/1",
          "ESPARGARO Aleix/1",
          "FELGENHEIER Roland/1",
          "FERRI Romolo/1",
          "FILICE Jim/1",
          "FREYMOND Roland/1",
          "FÜGNER Horst/1",
          "GOI Ivan/1",
          "GRAF Ulrich/1",
          "GUEVARA Izan/1",
          "GUILLEUX Herve/1",
          "GUSTAFSSON Leif/1",
          "HASEGAWA Horoshi/1",
          "IRELAND Dennis/1",
          "ITO Fumio/1",
          "JEFFERIES Tony/1",
          "KAFKA Gerd/1",
          "KISSLING Jorge/1",
          "KOBAYASHI Masaru/1",
          "KORHONEN Pentti/1",
          "KOYAMA Tomoyoshi/1",
          "LACONI Regis/1",
          "LEGA Mario/1",
          "LEONI Guido/1",
          "LOI Livio/1",
          "LUCCHI Marcellino/1",
          "MARSOVSZKY Gyula/1",
          "MCCONNACHIE Ian/1",
          "MCCULLOUGH Ray/1",
          "MCWILLIAMS Jeremy/1",
          "MINTER Derek/1",
          "MIYAZAKI Osamu/1",
          "MOLLOY Ginger/1",
          "MUDFORD Ken/1",
          "NAGASHIMA Tetsuta/1",
          "NASH Godfrey/1",
          "NEWBOLD John/1",
          "NEWCOMBE Kim/1",
          "NIETO Pablo/1",
          "NORTH Alan/1",
          "OETTL Philipp/1",
          "PIRRO Michele/1",
          "PREIN Stefan/1",
          "PUIG Alberto/1",
          "REITMAIER Fritz/1",
          "RICCI Fausto/1",
          "ROBERTS Joe/1",
          "ROSSI Louis/1",
          "SALA Guido/1",
          "SCHNEIDER Bert/1",
          "SCHURGERS Jos/1",
          "SELINI Jean Claude/1",
          "SIMEON Xavier/1",
          "SPAGGIARI Bruno/1",
          "SPIES Ben/1",
          "STOELLINGER Edi/1",
          "TAIRA Tadahiko/1",
          "TANAKA Kenjiro/1",
          "TOBA Kaito/1",
          "TOMIZAWA Shoya/1",
          "TORRES Jordi/1",
          "TOURNADRE Jean Louis/1",
          "VAN DONGEN Cees/1",
          "VAN DULMEN Boet/1",
          "VENTURI Remo/1",
          "VERMEULEN Chris/1",
          "WILLIAMS John/1",
          "WILLIAMS Peter/1",
          "ZEELENBERG Wilco/1",
          "ÖNCÜ Can/1",
          "BERGAMONTI Angelo/2",
          "BONERA Gianfranco/2",
          "CAÑELLAS Salvador/2",
          "CHECA Carlos/2",
          "DALE Dickie/2",
          "DEBON Alex/2",
          "DORAN William/2",
          "FERRARI Virginio/2",
          "GANDOSSI Alberto/2",
          "GRAHAM Stuart/2",
          "HERREROS Manuel/2",
          "HERRON Tom/2",
          "HUBERTS Jan/2",
          "ITOH Mitsuo/2",
          "KASSNER Helmut/2",
          "MASBOU Alexis/2",
          "MCCANDLESS Cromie/2",
          "MIDDELBURG Jack/2",
          "MIGNO Andrea/2",
          "MONNERET Pierre/2",
          "NAKAGAMI Takaaki/2",
          "NAVARRO Jorge/2",
          "PALAZZESE Ivan/2",
          "PAWI Khairul Idham/2",
          "PESEK Lukas/2",
          "PETRUCCI Danilo/2",
          "RAMIREZ Marcos/2",
          "RUTTER Tony/2",
          "SAUL Eric/2",
          "SCALVINI Gianluigi/2",
          "SHEPHERD Alan/2",
          "SUZUKI Tatsuki/2",
          "TAMADA Makoto/2",
          "TORRONTEGUI Herri/2",
          "VAZQUEZ Efren/2",
          "VITALI Maurizio/2",
          "WEST Anthony/2",
          "WHEELER Arthur/2",
          "WOOD Tommy/2",
          "ABE Norick/3",
          "BEATTIE Daryl/3",
          "BUSCHERINI Otello/3",
          "CANN Maurice/3",
          "CORNU Jacques/3",
          "CRUTCHLOW Cal/3",
          "DI GIANNANTONIO Fabio/3",
          "DUFF Mike/3",
          "FERNANDEZ Augusto/3",
          "FERNANDEZ Patrick/3",
          "FINDLAY Jack/3",
          "GADEA Sergio/3",
          "GARRIGA Juan/3",
          "GRAMIGNI Alessandro/3",
          "GRANT Mike/3",
          "GRASSETTI Silvio/3",
          "HAYDEN Nicky/3",
          "HENNEN Pat/3",
          "KANAYA Hideo/3",
          "MCPHEE John/3",
          "MENDOGNI Emilio/3",
          "MILANI Alfredo/3",
          "PAGANI Alberto/3",
          "PERRIS Frank/3",
          "ROBB Tommy/3",
          "ROSSI Graziano/3",
          "ROTH Reinhold/3",
          "ROUGERIE Michel/3",
          "RUGGIA Jean Philippe/3",
          "SANNA Simone/3",
          "SMITH Bradley/3",
          "TAKAHASHI Yuki/3",
          "TIMMER Theo/3",
          "WILLIAMS Charlie/3",
          "WIMMER Martin/3",
          "ALZAMORA Emilio/4",
          "ANTONELLI Niccolò/4",
          "ARBOLINO Tony/4",
          "DE ANGELIS Alex/4",
          "DE RADIGUES Didier/4",
          "DODDS John/4",
          "DRAPAL Janos/4",
          "HERRERO Santiago/4",
          "JANSSON Borje/4",
          "KATAYAMA Yoshimi/4",
          "LODEWIJKX Paul/4",
          "PAGANI Nello/4",
          "PARLOTTI Gilberto/4",
          "REDDING Scott/4",
          "RITTBERGER Herbert/4",
          "ROLFO Roberto/4",
          "RUFFO Bruno/4",
          "SARRON Dominique/4",
          "SMITH Barry/4",
          "STASTNY Franta/4",
          "TAKAHASHI Kuninitsu/4",
          "VIETTI Celestino/4",
          "WAIBEL Gerhard/4",
          "AUINGER August/5",
          "BALDASSARRI Lorenzo/5",
          "BALDÉ Jean Francois/5",
          "BRADL Helmut/5",
          "CARDÚS Carlos/5",
          "CHILI Pierfrancesco/5",
          "CORSI Simone/5",
          "DALLA PORTA Lorenzo/5",
          "DE PUNIET Randy/5",
          "DI MEGLIO Mike/5",
          "FOLGER Jonas/5",
          "FRITH Freddie/5",
          "HARTLE John/5",
          "HARTOG Wil/5",
          "KAVANAGH Ken/5",
          "KNEUBÜHLER Bruno/5",
          "MASIA Jaume/5",
          "MCINTYRE Bob/5",
          "NIETO Fonsi/5",
          "OETTL Peter/5",
          "PERUGINI Stefano/5",
          "SANDFORD Cecyl/5",
          "TOKUDOME Masaki/5",
          "UKAWA Tohru/5",
          "ACOSTA Pedro/6",
          "AMM Ray/6",
          "ARENAS Albert/6",
          "BERTIN Guy/6",
          "BEZZECCHI Marco/6",
          "CANET Aron/6",
          "GARCIA Sergio/6",
          "GARDNER Remy/6",
          "HERWEH Manfred/6",
          "LIBERATI Libero/6",
          "LUCCHINELLI Marco/6",
          "MANAKO Tomomi/6",
          "MARINI Luca/6",
          "MASETTI Umberto/6",
          "NAKANO Shinya/6",
          "OKADA Tadayuki/6",
          "PASOLINI Renzo/6",
          "PHILLIS Tom/6",
          "ROMBONI Doriano/6",
          "TOERSEN Aalt/6",
          "ARMSTRONG Reg/7",
          "BARROS Alex/7",
          "BRADL Stefan/7",
          "CARRUTHERS Kel/7",
          "CECCHINELLO Lucio/7",
          "CORTESE Sandro/7",
          "EKEROLD Jonnie/7",
          "FOGGIA Dennis/7",
          "JACQUE Olivier/7",
          "LORENZETTI Enrico/7",
          "MORTIMER Chas/7",
          "PORTO Sebastian/7",
          "SARRON Christian/7",
          "UNCINI Franco/7",
          "VAN KESSEL Henk/7",
          "VINCENT Arnaud/7",
          "BASTIANINI Enea/8",
          "FAUBEL Hector/8",
          "LANSIVUORI Teuvo/8",
          "REGGIANI Loris/8",
          "SIMON Julian/8",
          "AOKI Haruchika/9",
          "AOYAMA Hiroshi/9",
          "GIANOLA Ezio/9",
          "GIBERNAU Sete/9",
          "LOCATELLI Roberto/9",
          "LOMAS Bill/9",
          "LOWES Sam/9",
          "MILLER Jack/9",
          "SALOM Luis/9",
          "SPAAN Hans/9",
          "TALMACSI Gabor/9",
          "AZUMA Masao/10",
          "BARBERA Hector/10",
          "BRYANS Ralph/10",
          "FERNANDEZ Raul/10",
          "GOULD Rodney/10",
          "HANSFORD Greg/10",
          "QUARTARARO Fabio/10",
          "HAAS Werner/11",
          "KATAYAMA Takazumi/11",
          "MARTIN Jorge/11",
          "MORBIDELLI Franco/11",
          "SAKATA Kazuto/11",
          "SIMMONDS Dave/11",
          "UI Youichi/11",
          "ANDERSON Fergus/12",
          "MARQUEZ Alex/12",
          "MIR Joan/12",
          "PASINI Mattia/12",
          "POGGIALI Manuel/12",
          "FENATI Romano/13",
          "IANNONE Andrea/13",
          "KOCINSKI John/13",
          "MAMOLA Randy/13",
          "RABAT Tito/13",
          "UEDA Noboru/13",
          "ANSCHEIDT Hans-Georg/14",
          "BAGNAIA Francesco/14",
          "BRAUN Dieter/14",
          "CECOTTO Johnny/14",
          "DE VRIES Jan/14",
          "RAUDIES Dirk/14",
          "SIMONCELLI Marco/14",
          "DEGNER Ernst/15",
          "ESPARGARO Pol/15",
          "PONS Sito/15",
          "RINS Alex/15",
          "SAARINEN Jarno/15",
          "BAUTISTA Alvaro/16",
          "KALLIO Mika/16",
          "OLIVEIRA Miguel/16",
          "TEROL Nicolas/16",
          "ZARCO Johann/16",
          "BINDER Brad/17",
          "ELIAS Toni/17",
          "HARADA Tetsuya/17",
          "KATO Daijiro/17",
          "LUTHI Thomas/17",
          "ANDERSSON Kent/18",
          "DÖRFLINGER Stefan/18",
          "GARDNER Wayne/18",
          "HOCKING Gary/19",
          "LAVADO Carlos/19",
          "TORMO Ricardo/19",
          "CRIVILLE Alex/20",
          "PROVINI Tarquinio/20",
          "WALDMANN Ralf/20",
          "GRESINI Fausto/21",
          "IVY Bill/21",
          "MELANDRI Marco/22",
          "SHEENE Barry/23",
          "DOVIZIOSO Andrea/24",
          "RAINEY Wayne/24",
          "ROBERTS Kenny/24",
          "VILLA Walter/24",
          "ANDERSON Hugh/25",
          "SCHWANTZ Kevin/25",
          "VIÑALES Maverick/25",
          "BIANCHI Pierpaolo/27",
          "LAZZARINI Eugenio/27",
          "SPENCER Freddie/27",
          "CAPIROSSI Loris/29",
          "TAVERI Luigi/30",
          "BALLINGTON Kork/31",
          "LAWSON Eddie/31",
          "DUKE Geoff/33",
          "CADALORA Luca/34",
          "MARTINEZ Jorge/37",
          "SURTEES John/38",
          "UBBIALI Carlo/39",
          "BIAGGI Max/42",
          "MANG Anton/42",
          "REDMAN Jim/45",
          "STONER Casey/45",
          "READ Phil/52",
          "DOOHAN Mick/54",
          "PEDROSA Dani/54",
          "LORENZO Jorge/68",
          "HAILWOOD Mike/76",
          "MARQUEZ Marc/85",
          "NIETO Angel/90",
          "ROSSI Valentino/115",
          "AGOSTINI Giacomo/122",
          "ABE Norick",
          "ABRAHAM Karel",
          "ACOSTA Pedro",
          "AEGERTER Dominique",
          "AGOSTINI Duilio",
          "AGOSTINI Giacomo",
          "AHEARN Jack",
          "ALZAMORA Emilio",
          "AMM Ray",
          "ANDERSON Fergus",
          "ANDERSON Hugh",
          "ANDERSSON Kent",
          "ANSCHEIDT Hans-Georg",
          "ANTONELLI Niccolò",
          "AOKI Haruchika",
          "AOKI Nobuatsu",
          "AOYAMA Hiroshi",
          "ARBOLINO Tony",
          "ARENAS Albert",
          "ARMSTRONG Reg",
          "ARTIGAS Xavier",
          "AUINGER August",
          "AUREAL Jean",
          "AZUMA Masao",
          "BAGNAIA Francesco",
          "BALDASSARRI Lorenzo",
          "BALDÉ Jean Francois",
          "BALLERINI Andrea",
          "BALLINGTON Kork",
          "BARBERA Hector",
          "BARRINGTON Manliefe",
          "BARROS Alex",
          "BASTIANINI Enea",
          "BAUTISTA Alvaro",
          "BAYLISS Troy",
          "BEATTIE Daryl",
          "BELL Artie",
          "BERGAMONTI Angelo",
          "BERTIN Guy",
          "BEZZECCHI Marco",
          "BIAGGI Max",
          "BIANCHI Pierpaolo",
          "BINDER Brad",
          "BINDER Darryn",
          "BOLLE Jacques",
          "BONERA Gianfranco",
          "BRADL Helmut",
          "BRADL Stefan",
          "BRAUN Dieter",
          "BRETT Jack",
          "BRIGAGLIA Domenico",
          "BRUINS Jan",
          "BRYANS Ralph",
          "BUSCHERINI Otello",
          "CADALORA Luca",
          "CALDARELLA Benedicto",
          "CANET Aron",
          "CANN Maurice",
          "CAPIROSSI Loris",
          "CARDÚS Carlos",
          "CARPENTER Phil",
          "CARRUTHERS Kel",
          "CARTER Alan",
          "CASANOVA Bruno",
          "CASOLI Paolo",
          "CAÑELLAS Salvador",
          "CECCHINELLO Lucio",
          "CECOTTO Johnny",
          "CELSO-SANTOS Adu",
          "CHANTRA Somkiat",
          "CHECA Carlos",
          "CHEVALLIER Olivier",
          "CHILI Pierfrancesco",
          "CLUZEL Jules",
          "COLEMAN Rod",
          "COLNAGO Giuseppe",
          "CONFORTI Pier Luigi",
          "COPETA Angelo",
          "CORNU Jacques",
          "CORSI Simone",
          "CORTESE Sandro",
          "CRAFAR Simon",
          "CREITH R.",
          "CRIVILLE Alex",
          "CRUTCHLOW Cal",
          "CZIHAK Edmund",
          "DALE Dickie",
          "DALLA PORTA Lorenzo",
          "DANIELL Harold",
          "DE ANGELIS Alex",
          "DE PUNIET Randy",
          "DE RADIGUES Didier",
          "DE VRIES Jan",
          "DEBON Alex",
          "DEGNER Ernst",
          "DI GIANNANTONIO Fabio",
          "DI MEGLIO Mike",
          "DODDS John",
          "DOOHAN Mick",
          "DORAN William",
          "DOVIZIOSO Andrea",
          "DRAPAL Janos",
          "DUFF Mike",
          "DUKE Geoff",
          "DÖRFLINGER Stefan",
          "EKEROLD Jonnie",
          "ELIAS Toni",
          "EMMERICH Ingo",
          "ESPARGARO Aleix",
          "ESPARGARO Pol",
          "FAUBEL Hector",
          "FELGENHEIER Roland",
          "FENATI Romano",
          "FERNANDEZ Augusto",
          "FERNANDEZ Patrick",
          "FERNANDEZ Raul",
          "FERRARI Virginio",
          "FERRI Romolo",
          "FILICE Jim",
          "FINDLAY Jack",
          "FOGGIA Dennis",
          "FOLGER Jonas",
          "FREYMOND Roland",
          "FRITH Freddie",
          "FÜGNER Horst",
          "GADEA Sergio",
          "GANDOSSI Alberto",
          "GARCIA Sergio",
          "GARDNER Remy",
          "GARDNER Wayne",
          "GARRIGA Juan",
          "GIANOLA Ezio",
          "GIBERNAU Sete",
          "GOI Ivan",
          "GOULD Rodney",
          "GRAF Ulrich",
          "GRAHAM Stuart",
          "GRAMIGNI Alessandro",
          "GRANT Mike",
          "GRASSETTI Silvio",
          "GRESINI Fausto",
          "GUEVARA Izan",
          "GUILLEUX Herve",
          "GUSTAFSSON Leif",
          "HAAS Werner",
          "HAILWOOD Mike",
          "HANSFORD Greg",
          "HARADA Tetsuya",
          "HARTLE John",
          "HARTOG Wil",
          "HASEGAWA Horoshi",
          "HAYDEN Nicky",
          "HENNEN Pat",
          "HERRERO Santiago",
          "HERREROS Manuel",
          "HERRON Tom",
          "HERWEH Manfred",
          "HOCKING Gary",
          "HUBERTS Jan",
          "IANNONE Andrea",
          "IRELAND Dennis",
          "ITO Fumio",
          "ITOH Mitsuo",
          "IVY Bill",
          "JACQUE Olivier",
          "JANSSON Borje",
          "JEFFERIES Tony",
          "KAFKA Gerd",
          "KALLIO Mika",
          "KANAYA Hideo",
          "KASSNER Helmut",
          "KATAYAMA Takazumi",
          "KATAYAMA Yoshimi",
          "KATO Daijiro",
          "KAVANAGH Ken",
          "KISSLING Jorge",
          "KNEUBÜHLER Bruno",
          "KOBAYASHI Masaru",
          "KOCINSKI John",
          "KORHONEN Pentti",
          "KOYAMA Tomoyoshi",
          "LACONI Regis",
          "LANSIVUORI Teuvo",
          "LAVADO Carlos",
          "LAWSON Eddie",
          "LAZZARINI Eugenio",
          "LEGA Mario",
          "LEONI Guido",
          "LIBERATI Libero",
          "LOCATELLI Roberto",
          "LODEWIJKX Paul",
          "LOI Livio",
          "LOMAS Bill",
          "LORENZETTI Enrico",
          "LORENZO Jorge",
          "LOWES Sam",
          "LUCCHI Marcellino",
          "LUCCHINELLI Marco",
          "LUTHI Thomas",
          "MAMOLA Randy",
          "MANAKO Tomomi",
          "MANG Anton",
          "MARINI Luca",
          "MARQUEZ Alex",
          "MARQUEZ Marc",
          "MARSOVSZKY Gyula",
          "MARTIN Jorge",
          "MARTINEZ Jorge",
          "MASBOU Alexis",
          "MASETTI Umberto",
          "MASIA Jaume",
          "MCCANDLESS Cromie",
          "MCCONNACHIE Ian",
          "MCCULLOUGH Ray",
          "MCINTYRE Bob",
          "MCPHEE John",
          "MCWILLIAMS Jeremy",
          "MELANDRI Marco",
          "MENDOGNI Emilio",
          "MIDDELBURG Jack",
          "MIGNO Andrea",
          "MILANI Alfredo",
          "MILLER Jack",
          "MINTER Derek",
          "MIR Joan",
          "MIYAZAKI Osamu",
          "MOLLOY Ginger",
          "MONNERET Pierre",
          "MORBIDELLI Franco",
          "MORTIMER Chas",
          "MUDFORD Ken",
          "NAGASHIMA Tetsuta",
          "NAKAGAMI Takaaki",
          "NAKANO Shinya",
          "NASH Godfrey",
          "NAVARRO Jorge",
          "NEWBOLD John",
          "NEWCOMBE Kim",
          "NIETO Angel",
          "NIETO Fonsi",
          "NIETO Pablo",
          "NORTH Alan",
          "OETTL Peter",
          "OETTL Philipp",
          "OKADA Tadayuki",
          "OLIVEIRA Miguel",
          "PAGANI Alberto",
          "PAGANI Nello",
          "PALAZZESE Ivan",
          "PARLOTTI Gilberto",
          "PASINI Mattia",
          "PASOLINI Renzo",
          "PAWI Khairul Idham",
          "PEDROSA Dani",
          "PERRIS Frank",
          "PERUGINI Stefano",
          "PESEK Lukas",
          "PETRUCCI Danilo",
          "PHILLIS Tom",
          "PIRRO Michele",
          "POGGIALI Manuel",
          "PONS Sito",
          "PORTO Sebastian",
          "PREIN Stefan",
          "PROVINI Tarquinio",
          "PUIG Alberto",
          "QUARTARARO Fabio",
          "RABAT Tito",
          "RAINEY Wayne",
          "RAMIREZ Marcos",
          "RAUDIES Dirk",
          "READ Phil",
          "REDDING Scott",
          "REDMAN Jim",
          "REGGIANI Loris",
          "REITMAIER Fritz",
          "RICCI Fausto",
          "RINS Alex",
          "RITTBERGER Herbert",
          "ROBB Tommy",
          "ROBERTS Joe",
          "ROBERTS Kenny",
          "ROLFO Roberto",
          "ROMBONI Doriano",
          "ROSSI Graziano",
          "ROSSI Louis",
          "ROSSI Valentino",
          "ROTH Reinhold",
          "ROUGERIE Michel",
          "RUFFO Bruno",
          "RUGGIA Jean Philippe",
          "RUTTER Tony",
          "SAARINEN Jarno",
          "SAKATA Kazuto",
          "SALA Guido",
          "SALOM Luis",
          "SANDFORD Cecyl",
          "SANNA Simone",
          "SARRON Christian",
          "SARRON Dominique",
          "SAUL Eric",
          "SCALVINI Gianluigi",
          "SCHNEIDER Bert",
          "SCHURGERS Jos",
          "SCHWANTZ Kevin",
          "SELINI Jean Claude",
          "SHEENE Barry",
          "SHEPHERD Alan",
          "SIMEON Xavier",
          "SIMMONDS Dave",
          "SIMON Julian",
          "SIMONCELLI Marco",
          "SMITH Barry",
          "SMITH Bradley",
          "SPAAN Hans",
          "SPAGGIARI Bruno",
          "SPENCER Freddie",
          "SPIES Ben",
          "STASTNY Franta",
          "STOELLINGER Edi",
          "STONER Casey",
          "SURTEES John",
          "SUZUKI Tatsuki",
          "TAIRA Tadahiko",
          "TAKAHASHI Kuninitsu",
          "TAKAHASHI Yuki",
          "TALMACSI Gabor",
          "TAMADA Makoto",
          "TANAKA Kenjiro",
          "TAVERI Luigi",
          "TEROL Nicolas",
          "TIMMER Theo",
          "TOBA Kaito",
          "TOERSEN Aalt",
          "TOKUDOME Masaki",
          "TOMIZAWA Shoya",
          "TORMO Ricardo",
          "TORRES Jordi",
          "TORRONTEGUI Herri",
          "TOURNADRE Jean Louis",
          "UBBIALI Carlo",
          "UEDA Noboru",
          "UI Youichi",
          "UKAWA Tohru",
          "UNCINI Franco",
          "VAN DONGEN Cees",
          "VAN DULMEN Boet",
          "VAN KESSEL Henk",
          "VAZQUEZ Efren",
          "VENTURI Remo",
          "VERMEULEN Chris",
          "VIETTI Celestino",
          "VILLA Walter",
          "VINCENT Arnaud",
          "VITALI Maurizio",
          "VIÑALES Maverick",
          "WAIBEL Gerhard",
          "WALDMANN Ralf",
          "WEST Anthony",
          "WHEELER Arthur",
          "WILLIAMS Charlie",
          "WILLIAMS John",
          "WILLIAMS Peter",
          "WIMMER Martin",
          "WOOD Tommy",
          "ZARCO Johann",
          "ZEELENBERG Wilco",
          "ÖNCÜ Can"
         ],
         "labels": [
          "0.0",
          "0.0",
          "0.0",
          "0.0",
          "0.0",
          "0.0",
          "0.0",
          "0.0",
          "0.0",
          "0.0",
          "0.0",
          "0.0",
          "0.0",
          "0.0",
          "0.0",
          "0.0",
          "0.0",
          "0.0",
          "0.0",
          "0.0",
          "0.0",
          "0.0",
          "0.0",
          "0.0",
          "0.0",
          "0.0",
          "0.0",
          "0.0",
          "0.0",
          "0.0",
          "0.0",
          "0.0",
          "0.0",
          "0.0",
          "0.0",
          "0.0",
          "0.0",
          "0.0",
          "0.0",
          "0.0",
          "0.0",
          "0.0",
          "0.0",
          "0.0",
          "0.0",
          "0.0",
          "0.0",
          "0.0",
          "1.0",
          "1.0",
          "1.0",
          "1.0",
          "1.0",
          "1.0",
          "1.0",
          "1.0",
          "1.0",
          "1.0",
          "1.0",
          "1.0",
          "1.0",
          "1.0",
          "1.0",
          "1.0",
          "1.0",
          "1.0",
          "1.0",
          "1.0",
          "1.0",
          "1.0",
          "1.0",
          "1.0",
          "1.0",
          "1.0",
          "2.0",
          "2.0",
          "2.0",
          "2.0",
          "2.0",
          "2.0",
          "2.0",
          "2.0",
          "2.0",
          "2.0",
          "2.0",
          "2.0",
          "2.0",
          "2.0",
          "2.0",
          "2.0",
          "2.0",
          "2.0",
          "2.0",
          "2.0",
          "2.0",
          "2.0",
          "2.0",
          "2.0",
          "2.0",
          "2.0",
          "2.0",
          "2.0",
          "2.0",
          "2.0",
          "2.0",
          "2.0",
          "3.0",
          "3.0",
          "3.0",
          "3.0",
          "3.0",
          "3.0",
          "3.0",
          "3.0",
          "3.0",
          "3.0",
          "3.0",
          "3.0",
          "3.0",
          "3.0",
          "3.0",
          "3.0",
          "3.0",
          "3.0",
          "3.0",
          "3.0",
          "3.0",
          "3.0",
          "3.0",
          "3.0",
          "3.0",
          "4.0",
          "4.0",
          "4.0",
          "4.0",
          "4.0",
          "4.0",
          "4.0",
          "4.0",
          "4.0",
          "4.0",
          "4.0",
          "4.0",
          "4.0",
          "4.0",
          "4.0",
          "4.0",
          "4.0",
          "4.0",
          "4.0",
          "4.0",
          "4.0",
          "4.0",
          "4.0",
          "4.0",
          "4.0",
          "4.0",
          "4.0",
          "4.0",
          "4.0",
          "4.0",
          "4.0",
          "4.0",
          "4.0",
          "4.0",
          "4.0",
          "4.0",
          "5.0",
          "5.0",
          "5.0",
          "5.0",
          "5.0",
          "5.0",
          "5.0",
          "5.0",
          "5.0",
          "5.0",
          "5.0",
          "5.0",
          "5.0",
          "5.0",
          "5.0",
          "5.0",
          "5.0",
          "5.0",
          "5.0",
          "6.0",
          "6.0",
          "6.0",
          "6.0",
          "6.0",
          "6.0",
          "6.0",
          "6.0",
          "6.0",
          "6.0",
          "6.0",
          "6.0",
          "6.0",
          "6.0",
          "6.0",
          "6.0",
          "6.0",
          "6.0",
          "6.0",
          "6.0",
          "6.0",
          "6.0",
          "6.0",
          "6.0",
          "6.0",
          "6.0",
          "6.0",
          "6.0",
          "6.0",
          "6.0",
          "7.0",
          "7.0",
          "7.0",
          "7.0",
          "7.0",
          "7.0",
          "7.0",
          "7.0",
          "7.0",
          "7.0",
          "7.0",
          "7.0",
          "7.0",
          "7.0",
          "7.0",
          "7.0",
          "8.0",
          "8.0",
          "8.0",
          "8.0",
          "8.0",
          "8.0",
          "8.0",
          "8.0",
          "8.0",
          "8.0",
          "8.0",
          "8.0",
          "8.0",
          "8.0",
          "8.0",
          "8.0",
          "8.0",
          "8.0",
          "9.0",
          "9.0",
          "9.0",
          "9.0",
          "9.0",
          "9.0",
          "9.0",
          "9.0",
          "9.0",
          "9.0",
          "9.0",
          "9.0",
          "9.0",
          "9.0",
          "9.0",
          "9.0",
          "9.0",
          "9.0",
          "9.0",
          "9.0",
          "10.0",
          "10.0",
          "10.0",
          "10.0",
          "10.0",
          "10.0",
          "10.0",
          "10.0",
          "10.0",
          "10.0",
          "10.0",
          "10.0",
          "10.0",
          "11.0",
          "11.0",
          "11.0",
          "11.0",
          "11.0",
          "11.0",
          "11.0",
          "11.0",
          "11.0",
          "11.0",
          "11.0",
          "11.0",
          "11.0",
          "11.0",
          "12.0",
          "12.0",
          "12.0",
          "12.0",
          "12.0",
          "12.0",
          "12.0",
          "12.0",
          "12.0",
          "12.0",
          "12.0",
          "13.0",
          "13.0",
          "13.0",
          "13.0",
          "13.0",
          "13.0",
          "13.0",
          "13.0",
          "13.0",
          "13.0",
          "13.0",
          "13.0",
          "13.0",
          "14.0",
          "14.0",
          "14.0",
          "14.0",
          "14.0",
          "14.0",
          "15.0",
          "15.0",
          "15.0",
          "15.0",
          "16.0",
          "16.0",
          "16.0",
          "16.0",
          "17.0",
          "17.0",
          "17.0",
          "17.0",
          "17.0",
          "17.0",
          "17.0",
          "17.0",
          "17.0",
          "18.0",
          "18.0",
          "18.0",
          "19.0",
          "19.0",
          "19.0",
          "19.0",
          "19.0",
          "20.0",
          "20.0",
          "20.0",
          "20.0",
          "22.0",
          "25.0",
          "25.0",
          "25.0",
          "26.0",
          "27.0",
          "28.0",
          "33.0",
          "36.0",
          "40.0",
          "47.0",
          "53.0",
          "0.0",
          "0.0",
          "0.0",
          "0.0",
          "0.0",
          "0.0",
          "0.0",
          "0.0",
          "0.0",
          "0.0",
          "0.0",
          "0.0",
          "0.0",
          "0.0",
          "0.0",
          "0.0",
          "0.0",
          "0.0",
          "0.0",
          "0.0",
          "0.0",
          "0.0",
          "0.0",
          "0.0",
          "0.0",
          "0.0",
          "0.0",
          "0.0",
          "0.0",
          "1.0",
          "1.0",
          "1.0",
          "1.0",
          "1.0",
          "1.0",
          "1.0",
          "1.0",
          "1.0",
          "1.0",
          "1.0",
          "1.0",
          "1.0",
          "1.0",
          "1.0",
          "1.0",
          "1.0",
          "1.0",
          "1.0",
          "1.0",
          "1.0",
          "1.0",
          "1.0",
          "1.0",
          "1.0",
          "1.0",
          "1.0",
          "1.0",
          "1.0",
          "1.0",
          "1.0",
          "1.0",
          "1.0",
          "1.0",
          "1.0",
          "1.0",
          "1.0",
          "1.0",
          "1.0",
          "1.0",
          "1.0",
          "1.0",
          "1.0",
          "1.0",
          "1.0",
          "1.0",
          "1.0",
          "1.0",
          "1.0",
          "1.0",
          "1.0",
          "1.0",
          "1.0",
          "1.0",
          "1.0",
          "1.0",
          "1.0",
          "2.0",
          "2.0",
          "2.0",
          "2.0",
          "2.0",
          "2.0",
          "2.0",
          "2.0",
          "2.0",
          "2.0",
          "2.0",
          "2.0",
          "2.0",
          "2.0",
          "2.0",
          "2.0",
          "2.0",
          "2.0",
          "2.0",
          "2.0",
          "2.0",
          "2.0",
          "2.0",
          "2.0",
          "2.0",
          "2.0",
          "2.0",
          "2.0",
          "2.0",
          "2.0",
          "2.0",
          "2.0",
          "3.0",
          "3.0",
          "3.0",
          "3.0",
          "3.0",
          "3.0",
          "3.0",
          "3.0",
          "3.0",
          "3.0",
          "3.0",
          "3.0",
          "3.0",
          "3.0",
          "3.0",
          "3.0",
          "3.0",
          "3.0",
          "3.0",
          "3.0",
          "3.0",
          "3.0",
          "3.0",
          "4.0",
          "4.0",
          "4.0",
          "4.0",
          "4.0",
          "4.0",
          "4.0",
          "4.0",
          "4.0",
          "4.0",
          "4.0",
          "4.0",
          "4.0",
          "4.0",
          "4.0",
          "4.0",
          "4.0",
          "4.0",
          "4.0",
          "4.0",
          "4.0",
          "4.0",
          "4.0",
          "4.0",
          "5.0",
          "5.0",
          "5.0",
          "5.0",
          "5.0",
          "5.0",
          "5.0",
          "5.0",
          "5.0",
          "5.0",
          "5.0",
          "5.0",
          "5.0",
          "5.0",
          "5.0",
          "5.0",
          "5.0",
          "5.0",
          "5.0",
          "5.0",
          "5.0",
          "6.0",
          "6.0",
          "6.0",
          "6.0",
          "6.0",
          "6.0",
          "6.0",
          "6.0",
          "6.0",
          "6.0",
          "6.0",
          "6.0",
          "6.0",
          "6.0",
          "6.0",
          "6.0",
          "6.0",
          "6.0",
          "6.0",
          "6.0",
          "6.0",
          "6.0",
          "6.0",
          "6.0",
          "6.0",
          "6.0",
          "6.0",
          "7.0",
          "7.0",
          "7.0",
          "7.0",
          "7.0",
          "7.0",
          "7.0",
          "7.0",
          "7.0",
          "7.0",
          "7.0",
          "7.0",
          "7.0",
          "7.0",
          "7.0",
          "7.0",
          "7.0",
          "7.0",
          "7.0",
          "7.0",
          "8.0",
          "8.0",
          "8.0",
          "8.0",
          "8.0",
          "8.0",
          "8.0",
          "8.0",
          "8.0",
          "8.0",
          "8.0",
          "8.0",
          "8.0",
          "8.0",
          "8.0",
          "8.0",
          "8.0",
          "8.0",
          "8.0",
          "9.0",
          "9.0",
          "9.0",
          "9.0",
          "9.0",
          "9.0",
          "9.0",
          "9.0",
          "9.0",
          "9.0",
          "9.0",
          "9.0",
          "9.0",
          "9.0",
          "10.0",
          "10.0",
          "10.0",
          "10.0",
          "10.0",
          "10.0",
          "10.0",
          "10.0",
          "10.0",
          "10.0",
          "10.0",
          "10.0",
          "10.0",
          "10.0",
          "10.0",
          "11.0",
          "11.0",
          "11.0",
          "11.0",
          "11.0",
          "11.0",
          "11.0",
          "11.0",
          "11.0",
          "12.0",
          "12.0",
          "12.0",
          "12.0",
          "12.0",
          "12.0",
          "13.0",
          "13.0",
          "13.0",
          "13.0",
          "13.0",
          "13.0",
          "13.0",
          "13.0",
          "13.0",
          "13.0",
          "14.0",
          "14.0",
          "14.0",
          "14.0",
          "14.0",
          "14.0",
          "14.0",
          "14.0",
          "15.0",
          "15.0",
          "15.0",
          "15.0",
          "15.0",
          "15.0",
          "15.0",
          "15.0",
          "15.0",
          "16.0",
          "16.0",
          "16.0",
          "16.0",
          "17.0",
          "17.0",
          "17.0",
          "17.0",
          "17.0",
          "17.0",
          "17.0",
          "19.0",
          "20.0",
          "20.0",
          "20.0",
          "21.0",
          "21.0",
          "22.0",
          "22.0",
          "22.0",
          "23.0",
          "23.0",
          "23.0",
          "23.0",
          "24.0",
          "25.0",
          "25.0",
          "25.0",
          "26.0",
          "27.0",
          "31.0",
          "31.0",
          "33.0",
          "33.0",
          "34.0",
          "35.0",
          "35.0",
          "35.0",
          "36.0",
          "39.0",
          "41.0",
          "44.0",
          "51.0",
          "52.0",
          "67.0",
          "1",
          "1",
          "1",
          "1",
          "1",
          "1",
          "1",
          "1",
          "1",
          "1",
          "1",
          "1",
          "1",
          "1",
          "1",
          "1",
          "1",
          "1",
          "1",
          "1",
          "1",
          "1",
          "1",
          "1",
          "1",
          "1",
          "1",
          "1",
          "1",
          "1",
          "1",
          "1",
          "1",
          "1",
          "1",
          "1",
          "1",
          "1",
          "1",
          "1",
          "1",
          "1",
          "1",
          "1",
          "1",
          "1",
          "1",
          "1",
          "1",
          "1",
          "1",
          "1",
          "1",
          "1",
          "1",
          "1",
          "1",
          "1",
          "1",
          "1",
          "1",
          "1",
          "1",
          "1",
          "1",
          "1",
          "1",
          "1",
          "1",
          "1",
          "1",
          "1",
          "1",
          "1",
          "1",
          "1",
          "1",
          "1",
          "1",
          "1",
          "1",
          "1",
          "1",
          "1",
          "1",
          "1",
          "1",
          "1",
          "1",
          "1",
          "1",
          "1",
          "1",
          "1",
          "1",
          "1",
          "1",
          "1",
          "1",
          "1",
          "1",
          "1",
          "1",
          "2",
          "2",
          "2",
          "2",
          "2",
          "2",
          "2",
          "2",
          "2",
          "2",
          "2",
          "2",
          "2",
          "2",
          "2",
          "2",
          "2",
          "2",
          "2",
          "2",
          "2",
          "2",
          "2",
          "2",
          "2",
          "2",
          "2",
          "2",
          "2",
          "2",
          "2",
          "2",
          "2",
          "2",
          "2",
          "2",
          "2",
          "2",
          "2",
          "3",
          "3",
          "3",
          "3",
          "3",
          "3",
          "3",
          "3",
          "3",
          "3",
          "3",
          "3",
          "3",
          "3",
          "3",
          "3",
          "3",
          "3",
          "3",
          "3",
          "3",
          "3",
          "3",
          "3",
          "3",
          "3",
          "3",
          "3",
          "3",
          "3",
          "3",
          "3",
          "3",
          "3",
          "3",
          "4",
          "4",
          "4",
          "4",
          "4",
          "4",
          "4",
          "4",
          "4",
          "4",
          "4",
          "4",
          "4",
          "4",
          "4",
          "4",
          "4",
          "4",
          "4",
          "4",
          "4",
          "4",
          "4",
          "5",
          "5",
          "5",
          "5",
          "5",
          "5",
          "5",
          "5",
          "5",
          "5",
          "5",
          "5",
          "5",
          "5",
          "5",
          "5",
          "5",
          "5",
          "5",
          "5",
          "5",
          "5",
          "5",
          "5",
          "6",
          "6",
          "6",
          "6",
          "6",
          "6",
          "6",
          "6",
          "6",
          "6",
          "6",
          "6",
          "6",
          "6",
          "6",
          "6",
          "6",
          "6",
          "6",
          "6",
          "7",
          "7",
          "7",
          "7",
          "7",
          "7",
          "7",
          "7",
          "7",
          "7",
          "7",
          "7",
          "7",
          "7",
          "7",
          "7",
          "8",
          "8",
          "8",
          "8",
          "8",
          "9",
          "9",
          "9",
          "9",
          "9",
          "9",
          "9",
          "9",
          "9",
          "9",
          "9",
          "10",
          "10",
          "10",
          "10",
          "10",
          "10",
          "10",
          "11",
          "11",
          "11",
          "11",
          "11",
          "11",
          "11",
          "12",
          "12",
          "12",
          "12",
          "12",
          "13",
          "13",
          "13",
          "13",
          "13",
          "13",
          "14",
          "14",
          "14",
          "14",
          "14",
          "14",
          "14",
          "15",
          "15",
          "15",
          "15",
          "15",
          "16",
          "16",
          "16",
          "16",
          "16",
          "17",
          "17",
          "17",
          "17",
          "17",
          "18",
          "18",
          "18",
          "19",
          "19",
          "19",
          "20",
          "20",
          "20",
          "21",
          "21",
          "22",
          "23",
          "24",
          "24",
          "24",
          "24",
          "25",
          "25",
          "25",
          "27",
          "27",
          "27",
          "29",
          "30",
          "31",
          "31",
          "33",
          "34",
          "37",
          "38",
          "39",
          "42",
          "42",
          "45",
          "45",
          "52",
          "54",
          "54",
          "68",
          "76",
          "85",
          "90",
          "115",
          "122",
          "ABE Norick",
          "ABRAHAM Karel",
          "ACOSTA Pedro",
          "AEGERTER Dominique",
          "AGOSTINI Duilio",
          "AGOSTINI Giacomo",
          "AHEARN Jack",
          "ALZAMORA Emilio",
          "AMM Ray",
          "ANDERSON Fergus",
          "ANDERSON Hugh",
          "ANDERSSON Kent",
          "ANSCHEIDT Hans-Georg",
          "ANTONELLI Niccolò",
          "AOKI Haruchika",
          "AOKI Nobuatsu",
          "AOYAMA Hiroshi",
          "ARBOLINO Tony",
          "ARENAS Albert",
          "ARMSTRONG Reg",
          "ARTIGAS Xavier",
          "AUINGER August",
          "AUREAL Jean",
          "AZUMA Masao",
          "BAGNAIA Francesco",
          "BALDASSARRI Lorenzo",
          "BALDÉ Jean Francois",
          "BALLERINI Andrea",
          "BALLINGTON Kork",
          "BARBERA Hector",
          "BARRINGTON Manliefe",
          "BARROS Alex",
          "BASTIANINI Enea",
          "BAUTISTA Alvaro",
          "BAYLISS Troy",
          "BEATTIE Daryl",
          "BELL Artie",
          "BERGAMONTI Angelo",
          "BERTIN Guy",
          "BEZZECCHI Marco",
          "BIAGGI Max",
          "BIANCHI Pierpaolo",
          "BINDER Brad",
          "BINDER Darryn",
          "BOLLE Jacques",
          "BONERA Gianfranco",
          "BRADL Helmut",
          "BRADL Stefan",
          "BRAUN Dieter",
          "BRETT Jack",
          "BRIGAGLIA Domenico",
          "BRUINS Jan",
          "BRYANS Ralph",
          "BUSCHERINI Otello",
          "CADALORA Luca",
          "CALDARELLA Benedicto",
          "CANET Aron",
          "CANN Maurice",
          "CAPIROSSI Loris",
          "CARDÚS Carlos",
          "CARPENTER Phil",
          "CARRUTHERS Kel",
          "CARTER Alan",
          "CASANOVA Bruno",
          "CASOLI Paolo",
          "CAÑELLAS Salvador",
          "CECCHINELLO Lucio",
          "CECOTTO Johnny",
          "CELSO-SANTOS Adu",
          "CHANTRA Somkiat",
          "CHECA Carlos",
          "CHEVALLIER Olivier",
          "CHILI Pierfrancesco",
          "CLUZEL Jules",
          "COLEMAN Rod",
          "COLNAGO Giuseppe",
          "CONFORTI Pier Luigi",
          "COPETA Angelo",
          "CORNU Jacques",
          "CORSI Simone",
          "CORTESE Sandro",
          "CRAFAR Simon",
          "CREITH R.",
          "CRIVILLE Alex",
          "CRUTCHLOW Cal",
          "CZIHAK Edmund",
          "DALE Dickie",
          "DALLA PORTA Lorenzo",
          "DANIELL Harold",
          "DE ANGELIS Alex",
          "DE PUNIET Randy",
          "DE RADIGUES Didier",
          "DE VRIES Jan",
          "DEBON Alex",
          "DEGNER Ernst",
          "DI GIANNANTONIO Fabio",
          "DI MEGLIO Mike",
          "DODDS John",
          "DOOHAN Mick",
          "DORAN William",
          "DOVIZIOSO Andrea",
          "DRAPAL Janos",
          "DUFF Mike",
          "DUKE Geoff",
          "DÖRFLINGER Stefan",
          "EKEROLD Jonnie",
          "ELIAS Toni",
          "EMMERICH Ingo",
          "ESPARGARO Aleix",
          "ESPARGARO Pol",
          "FAUBEL Hector",
          "FELGENHEIER Roland",
          "FENATI Romano",
          "FERNANDEZ Augusto",
          "FERNANDEZ Patrick",
          "FERNANDEZ Raul",
          "FERRARI Virginio",
          "FERRI Romolo",
          "FILICE Jim",
          "FINDLAY Jack",
          "FOGGIA Dennis",
          "FOLGER Jonas",
          "FREYMOND Roland",
          "FRITH Freddie",
          "FÜGNER Horst",
          "GADEA Sergio",
          "GANDOSSI Alberto",
          "GARCIA Sergio",
          "GARDNER Remy",
          "GARDNER Wayne",
          "GARRIGA Juan",
          "GIANOLA Ezio",
          "GIBERNAU Sete",
          "GOI Ivan",
          "GOULD Rodney",
          "GRAF Ulrich",
          "GRAHAM Stuart",
          "GRAMIGNI Alessandro",
          "GRANT Mike",
          "GRASSETTI Silvio",
          "GRESINI Fausto",
          "GUEVARA Izan",
          "GUILLEUX Herve",
          "GUSTAFSSON Leif",
          "HAAS Werner",
          "HAILWOOD Mike",
          "HANSFORD Greg",
          "HARADA Tetsuya",
          "HARTLE John",
          "HARTOG Wil",
          "HASEGAWA Horoshi",
          "HAYDEN Nicky",
          "HENNEN Pat",
          "HERRERO Santiago",
          "HERREROS Manuel",
          "HERRON Tom",
          "HERWEH Manfred",
          "HOCKING Gary",
          "HUBERTS Jan",
          "IANNONE Andrea",
          "IRELAND Dennis",
          "ITO Fumio",
          "ITOH Mitsuo",
          "IVY Bill",
          "JACQUE Olivier",
          "JANSSON Borje",
          "JEFFERIES Tony",
          "KAFKA Gerd",
          "KALLIO Mika",
          "KANAYA Hideo",
          "KASSNER Helmut",
          "KATAYAMA Takazumi",
          "KATAYAMA Yoshimi",
          "KATO Daijiro",
          "KAVANAGH Ken",
          "KISSLING Jorge",
          "KNEUBÜHLER Bruno",
          "KOBAYASHI Masaru",
          "KOCINSKI John",
          "KORHONEN Pentti",
          "KOYAMA Tomoyoshi",
          "LACONI Regis",
          "LANSIVUORI Teuvo",
          "LAVADO Carlos",
          "LAWSON Eddie",
          "LAZZARINI Eugenio",
          "LEGA Mario",
          "LEONI Guido",
          "LIBERATI Libero",
          "LOCATELLI Roberto",
          "LODEWIJKX Paul",
          "LOI Livio",
          "LOMAS Bill",
          "LORENZETTI Enrico",
          "LORENZO Jorge",
          "LOWES Sam",
          "LUCCHI Marcellino",
          "LUCCHINELLI Marco",
          "LUTHI Thomas",
          "MAMOLA Randy",
          "MANAKO Tomomi",
          "MANG Anton",
          "MARINI Luca",
          "MARQUEZ Alex",
          "MARQUEZ Marc",
          "MARSOVSZKY Gyula",
          "MARTIN Jorge",
          "MARTINEZ Jorge",
          "MASBOU Alexis",
          "MASETTI Umberto",
          "MASIA Jaume",
          "MCCANDLESS Cromie",
          "MCCONNACHIE Ian",
          "MCCULLOUGH Ray",
          "MCINTYRE Bob",
          "MCPHEE John",
          "MCWILLIAMS Jeremy",
          "MELANDRI Marco",
          "MENDOGNI Emilio",
          "MIDDELBURG Jack",
          "MIGNO Andrea",
          "MILANI Alfredo",
          "MILLER Jack",
          "MINTER Derek",
          "MIR Joan",
          "MIYAZAKI Osamu",
          "MOLLOY Ginger",
          "MONNERET Pierre",
          "MORBIDELLI Franco",
          "MORTIMER Chas",
          "MUDFORD Ken",
          "NAGASHIMA Tetsuta",
          "NAKAGAMI Takaaki",
          "NAKANO Shinya",
          "NASH Godfrey",
          "NAVARRO Jorge",
          "NEWBOLD John",
          "NEWCOMBE Kim",
          "NIETO Angel",
          "NIETO Fonsi",
          "NIETO Pablo",
          "NORTH Alan",
          "OETTL Peter",
          "OETTL Philipp",
          "OKADA Tadayuki",
          "OLIVEIRA Miguel",
          "PAGANI Alberto",
          "PAGANI Nello",
          "PALAZZESE Ivan",
          "PARLOTTI Gilberto",
          "PASINI Mattia",
          "PASOLINI Renzo",
          "PAWI Khairul Idham",
          "PEDROSA Dani",
          "PERRIS Frank",
          "PERUGINI Stefano",
          "PESEK Lukas",
          "PETRUCCI Danilo",
          "PHILLIS Tom",
          "PIRRO Michele",
          "POGGIALI Manuel",
          "PONS Sito",
          "PORTO Sebastian",
          "PREIN Stefan",
          "PROVINI Tarquinio",
          "PUIG Alberto",
          "QUARTARARO Fabio",
          "RABAT Tito",
          "RAINEY Wayne",
          "RAMIREZ Marcos",
          "RAUDIES Dirk",
          "READ Phil",
          "REDDING Scott",
          "REDMAN Jim",
          "REGGIANI Loris",
          "REITMAIER Fritz",
          "RICCI Fausto",
          "RINS Alex",
          "RITTBERGER Herbert",
          "ROBB Tommy",
          "ROBERTS Joe",
          "ROBERTS Kenny",
          "ROLFO Roberto",
          "ROMBONI Doriano",
          "ROSSI Graziano",
          "ROSSI Louis",
          "ROSSI Valentino",
          "ROTH Reinhold",
          "ROUGERIE Michel",
          "RUFFO Bruno",
          "RUGGIA Jean Philippe",
          "RUTTER Tony",
          "SAARINEN Jarno",
          "SAKATA Kazuto",
          "SALA Guido",
          "SALOM Luis",
          "SANDFORD Cecyl",
          "SANNA Simone",
          "SARRON Christian",
          "SARRON Dominique",
          "SAUL Eric",
          "SCALVINI Gianluigi",
          "SCHNEIDER Bert",
          "SCHURGERS Jos",
          "SCHWANTZ Kevin",
          "SELINI Jean Claude",
          "SHEENE Barry",
          "SHEPHERD Alan",
          "SIMEON Xavier",
          "SIMMONDS Dave",
          "SIMON Julian",
          "SIMONCELLI Marco",
          "SMITH Barry",
          "SMITH Bradley",
          "SPAAN Hans",
          "SPAGGIARI Bruno",
          "SPENCER Freddie",
          "SPIES Ben",
          "STASTNY Franta",
          "STOELLINGER Edi",
          "STONER Casey",
          "SURTEES John",
          "SUZUKI Tatsuki",
          "TAIRA Tadahiko",
          "TAKAHASHI Kuninitsu",
          "TAKAHASHI Yuki",
          "TALMACSI Gabor",
          "TAMADA Makoto",
          "TANAKA Kenjiro",
          "TAVERI Luigi",
          "TEROL Nicolas",
          "TIMMER Theo",
          "TOBA Kaito",
          "TOERSEN Aalt",
          "TOKUDOME Masaki",
          "TOMIZAWA Shoya",
          "TORMO Ricardo",
          "TORRES Jordi",
          "TORRONTEGUI Herri",
          "TOURNADRE Jean Louis",
          "UBBIALI Carlo",
          "UEDA Noboru",
          "UI Youichi",
          "UKAWA Tohru",
          "UNCINI Franco",
          "VAN DONGEN Cees",
          "VAN DULMEN Boet",
          "VAN KESSEL Henk",
          "VAZQUEZ Efren",
          "VENTURI Remo",
          "VERMEULEN Chris",
          "VIETTI Celestino",
          "VILLA Walter",
          "VINCENT Arnaud",
          "VITALI Maurizio",
          "VIÑALES Maverick",
          "WAIBEL Gerhard",
          "WALDMANN Ralf",
          "WEST Anthony",
          "WHEELER Arthur",
          "WILLIAMS Charlie",
          "WILLIAMS John",
          "WILLIAMS Peter",
          "WIMMER Martin",
          "WOOD Tommy",
          "ZARCO Johann",
          "ZEELENBERG Wilco",
          "ÖNCÜ Can"
         ],
         "marker": {
          "coloraxis": "coloraxis",
          "colors": [
           0,
           0,
           0,
           0,
           0,
           0,
           0,
           0,
           0,
           0,
           0,
           0,
           0,
           0,
           0,
           0,
           0,
           0,
           1,
           0,
           0,
           0,
           0,
           0,
           0,
           0,
           0,
           0,
           0,
           0,
           0,
           0,
           0,
           0,
           0,
           0,
           0,
           0,
           0,
           0,
           0,
           0,
           0,
           0,
           0,
           0,
           0,
           3,
           0,
           0,
           0,
           0,
           0,
           0,
           0,
           0,
           0,
           0,
           0,
           0,
           0,
           0,
           0,
           0,
           1,
           0,
           0,
           0,
           0,
           0,
           0,
           3,
           0,
           0,
           0,
           0,
           0,
           0,
           0,
           0,
           0,
           0,
           0,
           0,
           0,
           0,
           0,
           0,
           0,
           0,
           0,
           0,
           1,
           0,
           0,
           0,
           0,
           0,
           1,
           0,
           0,
           1,
           1,
           3,
           2,
           15,
           0,
           0,
           0,
           0,
           0,
           0,
           0,
           0,
           0,
           0,
           0,
           0,
           0,
           7,
           0,
           0,
           0,
           0,
           0,
           0,
           0,
           1,
           0,
           1,
           0,
           0,
           0,
           0,
           0,
           0,
           0,
           0,
           0,
           0,
           0,
           0,
           0,
           0,
           0,
           0,
           0,
           0,
           0,
           0,
           0,
           2,
           0,
           0,
           1,
           1,
           0,
           0,
           1,
           0,
           0,
           0,
           0,
           0,
           1,
           1,
           2,
           0,
           0,
           0,
           0,
           1,
           0,
           0,
           0,
           0,
           0,
           1,
           2,
           1,
           0,
           0,
           0,
           0,
           1,
           0,
           0,
           0,
           0,
           0,
           0,
           1,
           0,
           0,
           0,
           0,
           0,
           0,
           0,
           0,
           1,
           4,
           0,
           1,
           0,
           0,
           2,
           1,
           4,
           0,
           0,
           2,
           0,
           3,
           1,
           1,
           0,
           0,
           0,
           0,
           0,
           2,
           0,
           0,
           0,
           1,
           0,
           1,
           3,
           0,
           0,
           2,
           0,
           0,
           0,
           0,
           0,
           0,
           1,
           0,
           0,
           0,
           0,
           1,
           0,
           1,
           0,
           2,
           1,
           0,
           0,
           0,
           0,
           1,
           0,
           0,
           0,
           1,
           0,
           0,
           1,
           0,
           0,
           1,
           0,
           0,
           2,
           0,
           9,
           0,
           0,
           0,
           0,
           0,
           1,
           1,
           6,
           1,
           0,
           1,
           4,
           2,
           5,
           2,
           0,
           1,
           0,
           0,
           0,
           0,
           1,
           0,
           2,
           4,
           0,
           2,
           9,
           0,
           0,
           0,
           0,
           0,
           1,
           1,
           1,
           2,
           0,
           1,
           0,
           0,
           0,
           0,
           0,
           2,
           1,
           1,
           1,
           1,
           1,
           1,
           4,
           0,
           0,
           0,
           0,
           1,
           13,
           0,
           1,
           0,
           0,
           2,
           2,
           3,
           4,
           0,
           1,
           1,
           0,
           3,
           0,
           0,
           5,
           8,
           0,
           1,
           2,
           1,
           0,
           3,
           0,
           3,
           2,
           1,
           1,
           6,
           1,
           2,
           1,
           7,
           3,
           2,
           4,
           5,
           3,
           1,
           3,
           9,
           0,
           0,
           0,
           0,
           0,
           0,
           0,
           0,
           0,
           0,
           0,
           0,
           0,
           0,
           0,
           0,
           0,
           0,
           0,
           0,
           0,
           0,
           0,
           0,
           0,
           0,
           0,
           1,
           0,
           0,
           0,
           0,
           0,
           0,
           0,
           0,
           0,
           0,
           0,
           0,
           0,
           0,
           0,
           0,
           0,
           0,
           0,
           0,
           0,
           0,
           0,
           0,
           0,
           0,
           0,
           0,
           0,
           0,
           0,
           0,
           0,
           0,
           0,
           0,
           0,
           0,
           0,
           0,
           0,
           0,
           0,
           0,
           0,
           0,
           0,
           0,
           0,
           0,
           0,
           0,
           0,
           0,
           0,
           0,
           1,
           0,
           0,
           0,
           0,
           0,
           0,
           0,
           0,
           0,
           0,
           0,
           0,
           0,
           0,
           0,
           0,
           0,
           0,
           0,
           0,
           0,
           0,
           0,
           0,
           0,
           0,
           0,
           1,
           0,
           0,
           0,
           0,
           1,
           0,
           0,
           0,
           0,
           0,
           0,
           0,
           0,
           0,
           0,
           0,
           0,
           1,
           0,
           0,
           0,
           0,
           0,
           0,
           0,
           0,
           2,
           0,
           0,
           0,
           0,
           0,
           1,
           0,
           1,
           0,
           0,
           0,
           0,
           0,
           0,
           0,
           0,
           0,
           0,
           0,
           0,
           0,
           1,
           0,
           0,
           7,
           0,
           0,
           0,
           0,
           0,
           0,
           0,
           0,
           0,
           3,
           0,
           0,
           0,
           2,
           0,
           0,
           1,
           0,
           0,
           2,
           1,
           0,
           0,
           0,
           0,
           0,
           0,
           0,
           1,
           0,
           0,
           0,
           0,
           0,
           1,
           0,
           0,
           0,
           1,
           0,
           1,
           2,
           1,
           1,
           0,
           1,
           1,
           4,
           0,
           0,
           0,
           0,
           0,
           0,
           0,
           0,
           0,
           0,
           1,
           0,
           0,
           1,
           0,
           0,
           1,
           3,
           1,
           6,
           0,
           0,
           0,
           0,
           0,
           0,
           0,
           0,
           0,
           0,
           1,
           0,
           1,
           1,
           1,
           1,
           0,
           0,
           1,
           0,
           0,
           0,
           0,
           0,
           1,
           0,
           2,
           0,
           1,
           1,
           0,
           2,
           4,
           0,
           0,
           0,
           0,
           0,
           1,
           0,
           0,
           1,
           2,
           2,
           1,
           1,
           2,
           3,
           0,
           0,
           1,
           1,
           1,
           1,
           0,
           1,
           2,
           1,
           0,
           1,
           0,
           2,
           4,
           1,
           0,
           1,
           0,
           3,
           0,
           1,
           1,
           2,
           1,
           0,
           0,
           0,
           0,
           0,
           0,
           3,
           4,
           1,
           1,
           1,
           1,
           2,
           2,
           0,
           2,
           1,
           0,
           1,
           2,
           2,
           0,
           0,
           0,
           2,
           1,
           3,
           2,
           0,
           1,
           1,
           9,
           0,
           2,
           2,
           3,
           3,
           2,
           0,
           1,
           1,
           0,
           0,
           5,
           9,
           1,
           4,
           4,
           5,
           3,
           6,
           3,
           3,
           13,
           15,
           8,
           1,
           4,
           7,
           5,
           3,
           9,
           0,
           0,
           0,
           0,
           0,
           0,
           0,
           0,
           0,
           0,
           0,
           0,
           0,
           0,
           0,
           0,
           0,
           0,
           0,
           0,
           0,
           0,
           0,
           0,
           0,
           0,
           0,
           0,
           0,
           0,
           0,
           0,
           0,
           0,
           0,
           0,
           0,
           0,
           0,
           0,
           0,
           0,
           0,
           0,
           0,
           0,
           0,
           0,
           0,
           0,
           0,
           0,
           0,
           0,
           0,
           1,
           0,
           0,
           0,
           0,
           0,
           0,
           0,
           0,
           0,
           0,
           0,
           0,
           0,
           0,
           0,
           0,
           0,
           0,
           0,
           0,
           0,
           0,
           0,
           0,
           0,
           0,
           0,
           0,
           0,
           0,
           0,
           0,
           0,
           0,
           0,
           0,
           0,
           0,
           1,
           0,
           0,
           0,
           0,
           0,
           0,
           0,
           0,
           0,
           0,
           0,
           0,
           0,
           0,
           0,
           0,
           0,
           0,
           1,
           0,
           0,
           0,
           0,
           0,
           0,
           0,
           0,
           0,
           0,
           0,
           0,
           0,
           0,
           0,
           0,
           0,
           0,
           0,
           0,
           0,
           0,
           0,
           0,
           0,
           0,
           0,
           0,
           0,
           0,
           0,
           0,
           0,
           0,
           0,
           0,
           0,
           0,
           0,
           0,
           0,
           1,
           0,
           0,
           1,
           0,
           0,
           0,
           0,
           0,
           0,
           0,
           0,
           0,
           0,
           0,
           0,
           0,
           0,
           0,
           0,
           0,
           0,
           1,
           0,
           0,
           0,
           0,
           0,
           0,
           0,
           0,
           0,
           0,
           1,
           0,
           0,
           0,
           0,
           3,
           0,
           0,
           0,
           0,
           0,
           0,
           0,
           0,
           0,
           0,
           0,
           0,
           0,
           1,
           0,
           1,
           0,
           1,
           0,
           0,
           0,
           0,
           0,
           0,
           0,
           0,
           0,
           2,
           0,
           0,
           1,
           0,
           1,
           0,
           0,
           0,
           0,
           1,
           0,
           1,
           1,
           0,
           0,
           2,
           0,
           0,
           0,
           1,
           0,
           0,
           0,
           0,
           1,
           1,
           0,
           1,
           1,
           0,
           1,
           1,
           0,
           0,
           1,
           1,
           1,
           1,
           1,
           0,
           0,
           0,
           1,
           2,
           1,
           0,
           0,
           1,
           2,
           0,
           0,
           0,
           0,
           1,
           0,
           0,
           1,
           0,
           1,
           0,
           1,
           3,
           1,
           1,
           1,
           2,
           1,
           0,
           2,
           2,
           2,
           0,
           2,
           0,
           0,
           1,
           0,
           1,
           0,
           3,
           1,
           2,
           1,
           2,
           1,
           1,
           1,
           1,
           2,
           0,
           1,
           1,
           0,
           0,
           1,
           2,
           1,
           1,
           1,
           1,
           1,
           2,
           4,
           1,
           2,
           2,
           2,
           2,
           2,
           0,
           2,
           1,
           1,
           2,
           1,
           3,
           3,
           4,
           4,
           1,
           1,
           3,
           3,
           3,
           3,
           3,
           4,
           4,
           6,
           3,
           4,
           7,
           9,
           4,
           5,
           6,
           2,
           7,
           5,
           3,
           5,
           9,
           8,
           13,
           9,
           15,
           0,
           0,
           1,
           0,
           0,
           15,
           0,
           1,
           0,
           2,
           4,
           2,
           3,
           0,
           2,
           0,
           1,
           0,
           1,
           0,
           0,
           0,
           0,
           0,
           1,
           0,
           0,
           0,
           4,
           0,
           0,
           0,
           1,
           1,
           0,
           0,
           0,
           0,
           0,
           0,
           4,
           3,
           1,
           0,
           0,
           0,
           0,
           1,
           2,
           0,
           0,
           0,
           1,
           0,
           3,
           0,
           0,
           0,
           3,
           0,
           0,
           1,
           0,
           0,
           0,
           0,
           0,
           1,
           0,
           0,
           0,
           0,
           0,
           0,
           0,
           0,
           0,
           0,
           0,
           0,
           1,
           0,
           0,
           2,
           0,
           0,
           0,
           1,
           0,
           0,
           0,
           0,
           2,
           0,
           1,
           0,
           1,
           0,
           5,
           0,
           1,
           0,
           0,
           6,
           4,
           1,
           1,
           0,
           0,
           1,
           0,
           0,
           0,
           0,
           0,
           0,
           0,
           0,
           0,
           0,
           0,
           0,
           0,
           1,
           0,
           0,
           0,
           0,
           1,
           1,
           0,
           0,
           0,
           0,
           1,
           0,
           0,
           1,
           0,
           0,
           2,
           0,
           0,
           0,
           3,
           9,
           0,
           1,
           0,
           0,
           0,
           1,
           0,
           0,
           1,
           0,
           0,
           2,
           0,
           0,
           0,
           0,
           0,
           1,
           1,
           0,
           0,
           0,
           0,
           0,
           0,
           1,
           0,
           1,
           0,
           0,
           0,
           0,
           1,
           0,
           0,
           0,
           0,
           2,
           4,
           3,
           1,
           0,
           1,
           1,
           0,
           0,
           2,
           1,
           5,
           0,
           0,
           1,
           1,
           0,
           0,
           5,
           0,
           2,
           8,
           0,
           1,
           4,
           0,
           2,
           0,
           0,
           0,
           0,
           0,
           0,
           0,
           1,
           0,
           0,
           0,
           0,
           0,
           0,
           2,
           0,
           0,
           0,
           1,
           0,
           0,
           0,
           0,
           0,
           0,
           0,
           0,
           0,
           13,
           0,
           0,
           0,
           0,
           0,
           0,
           0,
           0,
           1,
           0,
           0,
           0,
           0,
           0,
           3,
           0,
           0,
           0,
           0,
           1,
           0,
           2,
           2,
           0,
           0,
           2,
           0,
           1,
           1,
           3,
           0,
           1,
           7,
           0,
           6,
           0,
           0,
           0,
           0,
           0,
           0,
           0,
           3,
           0,
           0,
           0,
           0,
           9,
           0,
           0,
           3,
           0,
           0,
           1,
           2,
           0,
           0,
           2,
           0,
           1,
           0,
           0,
           0,
           0,
           0,
           1,
           0,
           2,
           0,
           0,
           1,
           1,
           1,
           0,
           0,
           0,
           0,
           3,
           0,
           0,
           0,
           2,
           7,
           0,
           0,
           0,
           0,
           1,
           0,
           0,
           3,
           1,
           0,
           0,
           0,
           0,
           0,
           2,
           0,
           0,
           1,
           9,
           0,
           0,
           0,
           1,
           0,
           0,
           1,
           0,
           0,
           0,
           0,
           4,
           1,
           0,
           1,
           0,
           0,
           0,
           0,
           0,
           0,
           0,
           0,
           0,
           2,
           0,
           0
          ]
         },
         "name": "",
         "parents": [
          "AUREAL Jean/1/0.0",
          "BALLERINI Andrea/1/0.0",
          "BARRINGTON Manliefe/1/0.0",
          "CARPENTER Phil/1/0.0",
          "CARTER Alan/1/0.0",
          "CZIHAK Edmund/1/0.0",
          "FELGENHEIER Roland/1/0.0",
          "IRELAND Dennis/1/0.0",
          "LEONI Guido/1/0.0",
          "MIYAZAKI Osamu/1/0.0",
          "MUDFORD Ken/1/0.0",
          "REITMAIER Fritz/1/0.0",
          "ROSSI Louis/1/0.0",
          "SALA Guido/1/0.0",
          "STOELLINGER Edi/1/0.0",
          "ÖNCÜ Can/1/0.0",
          "KASSNER Helmut/2/0.0",
          "PAWI Khairul Idham/2/0.0",
          "FRITH Freddie/5/0.0",
          "ABRAHAM Karel/1/1.0",
          "ARTIGAS Xavier/1/1.0",
          "CHANTRA Somkiat/1/1.0",
          "COLNAGO Giuseppe/1/1.0",
          "COPETA Angelo/1/1.0",
          "CREITH R./1/1.0",
          "EMMERICH Ingo/1/1.0",
          "FILICE Jim/1/1.0",
          "GOI Ivan/1/1.0",
          "GUEVARA Izan/1/1.0",
          "GUSTAFSSON Leif/1/1.0",
          "HASEGAWA Horoshi/1/1.0",
          "JEFFERIES Tony/1/1.0",
          "KAFKA Gerd/1/1.0",
          "KOBAYASHI Masaru/1/1.0",
          "LOI Livio/1/1.0",
          "MCCULLOUGH Ray/1/1.0",
          "NAGASHIMA Tetsuta/1/1.0",
          "NASH Godfrey/1/1.0",
          "NEWBOLD John/1/1.0",
          "TOMIZAWA Shoya/1/1.0",
          "DANIELL Harold/1/2.0",
          "KISSLING Jorge/1/2.0",
          "CANN Maurice/3/2.0",
          "WILLIAMS Charlie/3/2.0",
          "ITO Fumio/1/3.0",
          "FERRI Romolo/1/6.0",
          "GARCIA Sergio/6/7.0",
          "HAAS Werner/11/7.0",
          "MCCANDLESS Cromie/2/0.0",
          "DRAPAL Janos/4/0.0",
          "AGOSTINI Duilio/1/1.0",
          "BRUINS Jan/1/1.0",
          "CLUZEL Jules/1/1.0",
          "CRAFAR Simon/1/1.0",
          "FÜGNER Horst/1/1.0",
          "LACONI Regis/1/1.0",
          "OETTL Philipp/1/1.0",
          "PIRRO Michele/1/1.0",
          "TORRES Jordi/1/1.0",
          "GANDOSSI Alberto/2/1.0",
          "MASBOU Alexis/2/1.0",
          "MIDDELBURG Jack/2/1.0",
          "SUZUKI Tatsuki/2/1.0",
          "LODEWIJKX Paul/4/1.0",
          "ACOSTA Pedro/6/1.0",
          "SIMEON Xavier/1/2.0",
          "SPAGGIARI Bruno/1/2.0",
          "VAN DULMEN Boet/1/2.0",
          "RUTTER Tony/2/2.0",
          "BELL Artie/1/3.0",
          "WOOD Tommy/2/3.0",
          "RUFFO Bruno/4/5.0",
          "BERTIN Guy/6/5.0",
          "HANSFORD Greg/10/14.0",
          "CELSO-SANTOS Adu/1/0.0",
          "WHEELER Arthur/2/0.0",
          "CALDARELLA Benedicto/1/1.0",
          "CONFORTI Pier Luigi/1/1.0",
          "GUILLEUX Herve/1/1.0",
          "TAIRA Tadahiko/1/1.0",
          "TANAKA Kenjiro/1/1.0",
          "TOBA Kaito/1/1.0",
          "CAÑELLAS Salvador/2/1.0",
          "HUBERTS Jan/2/1.0",
          "SCALVINI Gianluigi/2/1.0",
          "TAMADA Makoto/2/1.0",
          "BOLLE Jacques/1/2.0",
          "LUCCHI Marcellino/1/2.0",
          "NORTH Alan/1/2.0",
          "SELINI Jean Claude/1/2.0",
          "WEST Anthony/2/2.0",
          "ROSSI Graziano/3/2.0",
          "ARENAS Albert/6/2.0",
          "BINDER Darryn/1/3.0",
          "DEBON Alex/2/3.0",
          "MILANI Alfredo/3/4.0",
          "BALDASSARRI Lorenzo/5/5.0",
          "FERRARI Virginio/2/6.0",
          "DI MEGLIO Mike/5/6.0",
          "WILLIAMS Peter/1/8.0",
          "RITTBERGER Herbert/4/8.0",
          "DALLA PORTA Lorenzo/5/9.0",
          "CECOTTO Johnny/14/10.0",
          "SPENCER Freddie/27/10.0",
          "HOCKING Gary/19/12.0",
          "AGOSTINI Giacomo/122/35.0",
          "ESPARGARO Aleix/1/1.0",
          "ROBERTS Joe/1/1.0",
          "SPIES Ben/1/2.0",
          "VITALI Maurizio/2/2.0",
          "VERMEULEN Chris/1/3.0",
          "DORAN William/2/3.0",
          "GRANT Mike/3/3.0",
          "MENDOGNI Emilio/3/3.0",
          "SANNA Simone/3/3.0",
          "TOKUDOME Masaki/5/3.0",
          "FERNANDEZ Raul/10/3.0",
          "PALAZZESE Ivan/2/4.0",
          "HERRERO Santiago/4/4.0",
          "SURTEES John/38/4.0",
          "KOYAMA Tomoyoshi/1/5.0",
          "BERGAMONTI Angelo/2/5.0",
          "KATAYAMA Yoshimi/4/5.0",
          "PARLOTTI Gilberto/4/5.0",
          "MASIA Jaume/5/5.0",
          "FREYMOND Roland/1/6.0",
          "MARINI Luca/6/6.0",
          "RAUDIES Dirk/14/6.0",
          "DE RADIGUES Didier/4/8.0",
          "GARDNER Remy/6/8.0",
          "MOLLOY Ginger/1/9.0",
          "BAYLISS Troy/1/0.0",
          "CASOLI Paolo/1/0.0",
          "RICCI Fausto/1/0.0",
          "VAN DONGEN Cees/1/0.0",
          "TORRONTEGUI Herri/2/0.0",
          "MCWILLIAMS Jeremy/1/1.0",
          "NEWCOMBE Kim/1/1.0",
          "AOKI Nobuatsu/1/2.0",
          "CHEVALLIER Olivier/1/2.0",
          "MCCONNACHIE Ian/1/2.0",
          "MONNERET Pierre/2/2.0",
          "RAMIREZ Marcos/2/2.0",
          "SAUL Eric/2/2.0",
          "SMITH Barry/4/2.0",
          "CHILI Pierfrancesco/5/2.0",
          "MINTER Derek/1/3.0",
          "PREIN Stefan/1/3.0",
          "PESEK Lukas/2/3.0",
          "RUGGIA Jean Philippe/3/3.0",
          "ANTONELLI Niccolò/4/3.0",
          "LOMAS Bill/9/3.0",
          "BRIGAGLIA Domenico/1/4.0",
          "GRAF Ulrich/1/4.0",
          "LEGA Mario/1/4.0",
          "TOURNADRE Jean Louis/1/4.0",
          "PETRUCCI Danilo/2/4.0",
          "TAKAHASHI Yuki/3/4.0",
          "LIBERATI Libero/6/4.0",
          "HENNEN Pat/3/5.0",
          "ARBOLINO Tony/4/5.0",
          "AMM Ray/6/6.0",
          "BEATTIE Daryl/3/7.0",
          "ROTH Reinhold/3/8.0",
          "BRADL Stefan/7/8.0",
          "VINCENT Arnaud/7/8.0",
          "DE VRIES Jan/14/9.0",
          "AEGERTER Dominique/1/1.0",
          "MARSOVSZKY Gyula/1/2.0",
          "SCHNEIDER Bert/1/2.0",
          "WILLIAMS John/1/2.0",
          "PAGANI Nello/4/2.0",
          "WAIBEL Gerhard/4/2.0",
          "HARTOG Wil/5/2.0",
          "VIETTI Celestino/4/3.0",
          "TIMMER Theo/3/4.0",
          "DALE Dickie/2/5.0",
          "KATO Daijiro/17/5.0",
          "AOKI Haruchika/9/6.0",
          "SIMMONDS Dave/11/6.0",
          "UI Youichi/11/6.0",
          "GRAHAM Stuart/2/7.0",
          "CECCHINELLO Lucio/7/7.0",
          "PORTO Sebastian/7/7.0",
          "QUARTARARO Fabio/10/11.0",
          "FENATI Romano/13/11.0",
          "HERWEH Manfred/6/0.0",
          "AHEARN Jack/1/1.0",
          "NIETO Pablo/1/1.0",
          "TOERSEN Aalt/6/1.0",
          "MIGNO Andrea/2/3.0",
          "GRAMIGNI Alessandro/3/3.0",
          "BRETT Jack/1/4.0",
          "COLEMAN Rod/1/4.0",
          "SCHURGERS Jos/1/4.0",
          "GARRIGA Juan/3/4.0",
          "AZUMA Masao/10/4.0",
          "FOGGIA Dennis/7/5.0",
          "KANAYA Hideo/3/6.0",
          "MCPHEE John/3/6.0",
          "EKEROLD Jonnie/7/6.0",
          "VILLA Walter/24/6.0",
          "BONERA Gianfranco/2/7.0",
          "LUCCHINELLI Marco/6/7.0",
          "PERUGINI Stefano/5/8.0",
          "CASANOVA Bruno/1/9.0",
          "MASETTI Umberto/6/9.0",
          "CARRUTHERS Kel/7/9.0",
          "BALLINGTON Kork/31/9.0",
          "ROLFO Roberto/4/10.0",
          "SALOM Luis/9/10.0",
          "TORMO Ricardo/19/11.0",
          "MCINTYRE Bob/5/14.0",
          "ROBERTS Kenny/24/14.0",
          "IVY Bill/21/15.0",
          "TEROL Nicolas/16/17.0",
          "PUIG Alberto/1/1.0",
          "FERNANDEZ Augusto/3/1.0",
          "KORHONEN Pentti/1/2.0",
          "TAKAHASHI Kuninitsu/4/3.0",
          "SPAAN Hans/9/5.0",
          "ANDERSON Fergus/12/5.0",
          "WIMMER Martin/3/6.0",
          "AUINGER August/5/6.0",
          "ROUGERIE Michel/3/7.0",
          "LORENZETTI Enrico/7/7.0",
          "PERRIS Frank/3/8.0",
          "SIMON Julian/8/11.0",
          "ANSCHEIDT Hans-Georg/14/13.0",
          "VENTURI Remo/1/14.0",
          "GIBERNAU Sete/9/14.0",
          "SAKATA Kazuto/11/23.0",
          "ITOH Mitsuo/2/3.0",
          "HERRON Tom/2/4.0",
          "NAKAGAMI Takaaki/2/4.0",
          "SARRON Dominique/4/4.0",
          "NIETO Fonsi/5/5.0",
          "VAZQUEZ Efren/2/6.0",
          "PHILLIS Tom/6/6.0",
          "NAKANO Shinya/6/7.0",
          "BRADL Helmut/5/8.0",
          "CANET Aron/6/10.0",
          "KAVANAGH Ken/5/11.0",
          "HERREROS Manuel/2/12.0",
          "GIANOLA Ezio/9/13.0",
          "BINDER Brad/17/13.0",
          "CHECA Carlos/2/14.0",
          "LAVADO Carlos/19/15.0",
          "GOULD Rodney/10/16.0",
          "HARTLE John/5/21.0",
          "ZEELENBERG Wilco/1/1.0",
          "BUSCHERINI Otello/3/5.0",
          "REDDING Scott/4/5.0",
          "UNCINI Franco/7/5.0",
          "GADEA Sergio/3/6.0",
          "OETTL Peter/5/6.0",
          "PAGANI Alberto/3/7.0",
          "LOCATELLI Roberto/9/7.0",
          "NAVARRO Jorge/2/8.0",
          "MANAKO Tomomi/6/8.0",
          "TALMACSI Gabor/9/8.0",
          "SHEPHERD Alan/2/9.0",
          "BEZZECCHI Marco/6/9.0",
          "VAN KESSEL Henk/7/9.0",
          "DI GIANNANTONIO Fabio/3/10.0",
          "LANSIVUORI Teuvo/8/10.0",
          "PROVINI Tarquinio/20/10.0",
          "CARDÚS Carlos/5/12.0",
          "UBBIALI Carlo/39/20.0",
          "KALLIO Mika/16/24.0",
          "ABE Norick/3/4.0",
          "LOWES Sam/9/5.0",
          "CRUTCHLOW Cal/3/6.0",
          "ROMBONI Doriano/6/6.0",
          "MORBIDELLI Franco/11/6.0",
          "SAARINEN Jarno/15/7.0",
          "DUKE Geoff/33/7.0",
          "AOYAMA Hiroshi/9/8.0",
          "PASINI Mattia/12/8.0",
          "KOCINSKI John/13/12.0",
          "MARTINEZ Jorge/37/14.0",
          "PONS Sito/15/16.0",
          "DOOHAN Mick/54/31.0",
          "SANDFORD Cecyl/5/5.0",
          "DODDS John/4/6.0",
          "SIMONCELLI Marco/14/6.0",
          "CORNU Jacques/3/7.0",
          "GRASSETTI Silvio/3/7.0",
          "FAUBEL Hector/8/7.0",
          "DE PUNIET Randy/5/8.0",
          "BAGNAIA Francesco/14/8.0",
          "BALDÉ Jean Francois/5/10.0",
          "MIR Joan/12/10.0",
          "ANDERSON Hugh/25/12.0",
          "OLIVEIRA Miguel/16/13.0",
          "GRESINI Fausto/21/15.0",
          "HAILWOOD Mike/76/25.0",
          "STASTNY Franta/4/4.0",
          "CORSI Simone/5/4.0",
          "FOLGER Jonas/5/7.0",
          "DUFF Mike/3/9.0",
          "SMITH Bradley/3/10.0",
          "CORTESE Sandro/7/10.0",
          "MARTIN Jorge/11/10.0",
          "DEGNER Ernst/15/11.0",
          "MARQUEZ Alex/12/16.0",
          "PASOLINI Renzo/6/17.0",
          "HARADA Tetsuya/17/26.0",
          "MILLER Jack/9/4.0",
          "JANSSON Borje/4/8.0",
          "FINDLAY Jack/3/9.0",
          "ARMSTRONG Reg/7/9.0",
          "BARBERA Hector/10/9.0",
          "POGGIALI Manuel/12/10.0",
          "RABAT Tito/13/10.0",
          "KATAYAMA Takazumi/11/11.0",
          "ALZAMORA Emilio/4/13.0",
          "ELIAS Toni/17/13.0",
          "SCHWANTZ Kevin/25/13.0",
          "JACQUE Olivier/7/15.0",
          "DÖRFLINGER Stefan/18/27.0",
          "IANNONE Andrea/13/8.0",
          "BARROS Alex/7/11.0",
          "UEDA Noboru/13/12.0",
          "OKADA Tadayuki/6/16.0",
          "GARDNER Wayne/18/20.0",
          "NIETO Angel/90/35.0",
          "KNEUBÜHLER Bruno/5/13.0",
          "BRYANS Ralph/10/15.0",
          "WALDMANN Ralf/20/15.0",
          "MORTIMER Chas/7/17.0",
          "SHEENE Barry/23/13.0",
          "ZARCO Johann/16/22.0",
          "CADALORA Luca/34/22.0",
          "LAWSON Eddie/31/31.0",
          "FERNANDEZ Patrick/3/6.0",
          "BASTIANINI Enea/8/11.0",
          "SARRON Christian/7/13.0",
          "UKAWA Tohru/5/17.0",
          "BIANCHI Pierpaolo/27/17.0",
          "DE ANGELIS Alex/4/19.0",
          "RINS Alex/15/23.0",
          "MANG Anton/42/25.0",
          "MARQUEZ Marc/85/36.0",
          "ROBB Tommy/3/7.0",
          "BAUTISTA Alvaro/16/15.0",
          "BRAUN Dieter/14/17.0",
          "HAYDEN Nicky/3/6.0",
          "REGGIANI Loris/8/14.0",
          "RAINEY Wayne/24/22.0",
          "MAMOLA Randy/13/25.0",
          "LAZZARINI Eugenio/27/35.0",
          "ANDERSSON Kent/18/15.0",
          "MELANDRI Marco/22/20.0",
          "VIÑALES Maverick/25/23.0",
          "REDMAN Jim/45/33.0",
          "ESPARGARO Pol/15/15.0",
          "CRIVILLE Alex/20/21.0",
          "LUTHI Thomas/17/23.0",
          "READ Phil/52/44.0",
          "TAVERI Luigi/30/33.0",
          "STONER Casey/45/17.0",
          "BIAGGI Max/42/41.0",
          "LORENZO Jorge/68/51.0",
          "CAPIROSSI Loris/29/34.0",
          "DOVIZIOSO Andrea/24/39.0",
          "PEDROSA Dani/54/52.0",
          "ROSSI Valentino/115/67.0",
          "AUREAL Jean/1",
          "BALLERINI Andrea/1",
          "BARRINGTON Manliefe/1",
          "BAYLISS Troy/1",
          "CARPENTER Phil/1",
          "CARTER Alan/1",
          "CASOLI Paolo/1",
          "CELSO-SANTOS Adu/1",
          "CZIHAK Edmund/1",
          "FELGENHEIER Roland/1",
          "IRELAND Dennis/1",
          "LEONI Guido/1",
          "MIYAZAKI Osamu/1",
          "MUDFORD Ken/1",
          "REITMAIER Fritz/1",
          "RICCI Fausto/1",
          "ROSSI Louis/1",
          "SALA Guido/1",
          "STOELLINGER Edi/1",
          "VAN DONGEN Cees/1",
          "ÖNCÜ Can/1",
          "KASSNER Helmut/2",
          "MCCANDLESS Cromie/2",
          "PAWI Khairul Idham/2",
          "TORRONTEGUI Herri/2",
          "WHEELER Arthur/2",
          "DRAPAL Janos/4",
          "FRITH Freddie/5",
          "HERWEH Manfred/6",
          "ABRAHAM Karel/1",
          "AEGERTER Dominique/1",
          "AGOSTINI Duilio/1",
          "AHEARN Jack/1",
          "ARTIGAS Xavier/1",
          "BRUINS Jan/1",
          "CALDARELLA Benedicto/1",
          "CHANTRA Somkiat/1",
          "CLUZEL Jules/1",
          "COLNAGO Giuseppe/1",
          "CONFORTI Pier Luigi/1",
          "COPETA Angelo/1",
          "CRAFAR Simon/1",
          "CREITH R./1",
          "EMMERICH Ingo/1",
          "ESPARGARO Aleix/1",
          "FILICE Jim/1",
          "FÜGNER Horst/1",
          "GOI Ivan/1",
          "GUEVARA Izan/1",
          "GUILLEUX Herve/1",
          "GUSTAFSSON Leif/1",
          "HASEGAWA Horoshi/1",
          "JEFFERIES Tony/1",
          "KAFKA Gerd/1",
          "KOBAYASHI Masaru/1",
          "LACONI Regis/1",
          "LOI Livio/1",
          "MCCULLOUGH Ray/1",
          "MCWILLIAMS Jeremy/1",
          "NAGASHIMA Tetsuta/1",
          "NASH Godfrey/1",
          "NEWBOLD John/1",
          "NEWCOMBE Kim/1",
          "NIETO Pablo/1",
          "OETTL Philipp/1",
          "PIRRO Michele/1",
          "PUIG Alberto/1",
          "ROBERTS Joe/1",
          "TAIRA Tadahiko/1",
          "TANAKA Kenjiro/1",
          "TOBA Kaito/1",
          "TOMIZAWA Shoya/1",
          "TORRES Jordi/1",
          "ZEELENBERG Wilco/1",
          "CAÑELLAS Salvador/2",
          "GANDOSSI Alberto/2",
          "HUBERTS Jan/2",
          "MASBOU Alexis/2",
          "MIDDELBURG Jack/2",
          "SCALVINI Gianluigi/2",
          "SUZUKI Tatsuki/2",
          "TAMADA Makoto/2",
          "FERNANDEZ Augusto/3",
          "LODEWIJKX Paul/4",
          "ACOSTA Pedro/6",
          "TOERSEN Aalt/6",
          "AOKI Nobuatsu/1",
          "BOLLE Jacques/1",
          "CHEVALLIER Olivier/1",
          "DANIELL Harold/1",
          "KISSLING Jorge/1",
          "KORHONEN Pentti/1",
          "LUCCHI Marcellino/1",
          "MARSOVSZKY Gyula/1",
          "MCCONNACHIE Ian/1",
          "NORTH Alan/1",
          "SCHNEIDER Bert/1",
          "SELINI Jean Claude/1",
          "SIMEON Xavier/1",
          "SPAGGIARI Bruno/1",
          "SPIES Ben/1",
          "VAN DULMEN Boet/1",
          "WILLIAMS John/1",
          "MONNERET Pierre/2",
          "RAMIREZ Marcos/2",
          "RUTTER Tony/2",
          "SAUL Eric/2",
          "VITALI Maurizio/2",
          "WEST Anthony/2",
          "CANN Maurice/3",
          "ROSSI Graziano/3",
          "WILLIAMS Charlie/3",
          "PAGANI Nello/4",
          "SMITH Barry/4",
          "WAIBEL Gerhard/4",
          "CHILI Pierfrancesco/5",
          "HARTOG Wil/5",
          "ARENAS Albert/6",
          "BELL Artie/1",
          "BINDER Darryn/1",
          "ITO Fumio/1",
          "MINTER Derek/1",
          "PREIN Stefan/1",
          "VERMEULEN Chris/1",
          "DEBON Alex/2",
          "DORAN William/2",
          "ITOH Mitsuo/2",
          "MIGNO Andrea/2",
          "PESEK Lukas/2",
          "WOOD Tommy/2",
          "GRAMIGNI Alessandro/3",
          "GRANT Mike/3",
          "MENDOGNI Emilio/3",
          "RUGGIA Jean Philippe/3",
          "SANNA Simone/3",
          "ANTONELLI Niccolò/4",
          "TAKAHASHI Kuninitsu/4",
          "VIETTI Celestino/4",
          "TOKUDOME Masaki/5",
          "LOMAS Bill/9",
          "FERNANDEZ Raul/10",
          "BRETT Jack/1",
          "BRIGAGLIA Domenico/1",
          "COLEMAN Rod/1",
          "GRAF Ulrich/1",
          "LEGA Mario/1",
          "SCHURGERS Jos/1",
          "TOURNADRE Jean Louis/1",
          "HERRON Tom/2",
          "NAKAGAMI Takaaki/2",
          "PALAZZESE Ivan/2",
          "PETRUCCI Danilo/2",
          "ABE Norick/3",
          "GARRIGA Juan/3",
          "MILANI Alfredo/3",
          "TAKAHASHI Yuki/3",
          "TIMMER Theo/3",
          "HERRERO Santiago/4",
          "SARRON Dominique/4",
          "STASTNY Franta/4",
          "CORSI Simone/5",
          "LIBERATI Libero/6",
          "MILLER Jack/9",
          "AZUMA Masao/10",
          "SURTEES John/38",
          "KOYAMA Tomoyoshi/1",
          "BERGAMONTI Angelo/2",
          "DALE Dickie/2",
          "BUSCHERINI Otello/3",
          "HENNEN Pat/3",
          "ARBOLINO Tony/4",
          "KATAYAMA Yoshimi/4",
          "PARLOTTI Gilberto/4",
          "REDDING Scott/4",
          "RUFFO Bruno/4",
          "BALDASSARRI Lorenzo/5",
          "MASIA Jaume/5",
          "NIETO Fonsi/5",
          "SANDFORD Cecyl/5",
          "BERTIN Guy/6",
          "FOGGIA Dennis/7",
          "UNCINI Franco/7",
          "LOWES Sam/9",
          "SPAAN Hans/9",
          "ANDERSON Fergus/12",
          "KATO Daijiro/17",
          "FERRI Romolo/1",
          "FREYMOND Roland/1",
          "FERRARI Virginio/2",
          "VAZQUEZ Efren/2",
          "CRUTCHLOW Cal/3",
          "FERNANDEZ Patrick/3",
          "GADEA Sergio/3",
          "HAYDEN Nicky/3",
          "KANAYA Hideo/3",
          "MCPHEE John/3",
          "WIMMER Martin/3",
          "DODDS John/4",
          "AUINGER August/5",
          "DI MEGLIO Mike/5",
          "OETTL Peter/5",
          "AMM Ray/6",
          "MARINI Luca/6",
          "PHILLIS Tom/6",
          "ROMBONI Doriano/6",
          "EKEROLD Jonnie/7",
          "AOKI Haruchika/9",
          "MORBIDELLI Franco/11",
          "SIMMONDS Dave/11",
          "UI Youichi/11",
          "RAUDIES Dirk/14",
          "SIMONCELLI Marco/14",
          "VILLA Walter/24",
          "BONERA Gianfranco/2",
          "GRAHAM Stuart/2",
          "BEATTIE Daryl/3",
          "CORNU Jacques/3",
          "GRASSETTI Silvio/3",
          "PAGANI Alberto/3",
          "ROBB Tommy/3",
          "ROUGERIE Michel/3",
          "FOLGER Jonas/5",
          "GARCIA Sergio/6",
          "LUCCHINELLI Marco/6",
          "NAKANO Shinya/6",
          "CECCHINELLO Lucio/7",
          "LORENZETTI Enrico/7",
          "PORTO Sebastian/7",
          "FAUBEL Hector/8",
          "LOCATELLI Roberto/9",
          "HAAS Werner/11",
          "SAARINEN Jarno/15",
          "DUKE Geoff/33",
          "WILLIAMS Peter/1",
          "NAVARRO Jorge/2",
          "PERRIS Frank/3",
          "ROTH Reinhold/3",
          "DE RADIGUES Didier/4",
          "JANSSON Borje/4",
          "RITTBERGER Herbert/4",
          "BRADL Helmut/5",
          "DE PUNIET Randy/5",
          "PERUGINI Stefano/5",
          "GARDNER Remy/6",
          "MANAKO Tomomi/6",
          "BRADL Stefan/7",
          "VINCENT Arnaud/7",
          "AOYAMA Hiroshi/9",
          "TALMACSI Gabor/9",
          "PASINI Mattia/12",
          "IANNONE Andrea/13",
          "BAGNAIA Francesco/14",
          "CASANOVA Bruno/1",
          "MOLLOY Ginger/1",
          "SHEPHERD Alan/2",
          "DUFF Mike/3",
          "FINDLAY Jack/3",
          "DALLA PORTA Lorenzo/5",
          "BEZZECCHI Marco/6",
          "MASETTI Umberto/6",
          "ARMSTRONG Reg/7",
          "CARRUTHERS Kel/7",
          "VAN KESSEL Henk/7",
          "BARBERA Hector/10",
          "DE VRIES Jan/14",
          "BALLINGTON Kork/31",
          "DI GIANNANTONIO Fabio/3",
          "SMITH Bradley/3",
          "ROLFO Roberto/4",
          "BALDÉ Jean Francois/5",
          "CANET Aron/6",
          "CORTESE Sandro/7",
          "LANSIVUORI Teuvo/8",
          "SALOM Luis/9",
          "MARTIN Jorge/11",
          "MIR Joan/12",
          "POGGIALI Manuel/12",
          "RABAT Tito/13",
          "CECOTTO Johnny/14",
          "PROVINI Tarquinio/20",
          "SPENCER Freddie/27",
          "KAVANAGH Ken/5",
          "BARROS Alex/7",
          "BASTIANINI Enea/8",
          "SIMON Julian/8",
          "QUARTARARO Fabio/10",
          "KATAYAMA Takazumi/11",
          "FENATI Romano/13",
          "DEGNER Ernst/15",
          "TORMO Ricardo/19",
          "HERREROS Manuel/2",
          "CARDÚS Carlos/5",
          "KOCINSKI John/13",
          "UEDA Noboru/13",
          "HOCKING Gary/19",
          "ANDERSON Hugh/25",
          "ALZAMORA Emilio/4",
          "KNEUBÜHLER Bruno/5",
          "SARRON Christian/7",
          "GIANOLA Ezio/9",
          "ANSCHEIDT Hans-Georg/14",
          "OLIVEIRA Miguel/16",
          "BINDER Brad/17",
          "ELIAS Toni/17",
          "SHEENE Barry/23",
          "SCHWANTZ Kevin/25",
          "VENTURI Remo/1",
          "CHECA Carlos/2",
          "MCINTYRE Bob/5",
          "REGGIANI Loris/8",
          "GIBERNAU Sete/9",
          "HANSFORD Greg/10",
          "ROBERTS Kenny/24",
          "MARTINEZ Jorge/37",
          "JACQUE Olivier/7",
          "BRYANS Ralph/10",
          "ESPARGARO Pol/15",
          "BAUTISTA Alvaro/16",
          "ANDERSSON Kent/18",
          "LAVADO Carlos/19",
          "WALDMANN Ralf/20",
          "GRESINI Fausto/21",
          "IVY Bill/21",
          "OKADA Tadayuki/6",
          "GOULD Rodney/10",
          "MARQUEZ Alex/12",
          "PONS Sito/15",
          "UKAWA Tohru/5",
          "PASOLINI Renzo/6",
          "MORTIMER Chas/7",
          "BRAUN Dieter/14",
          "TEROL Nicolas/16",
          "BIANCHI Pierpaolo/27",
          "STONER Casey/45",
          "DE ANGELIS Alex/4",
          "GARDNER Wayne/18",
          "MELANDRI Marco/22",
          "UBBIALI Carlo/39",
          "HARTLE John/5",
          "CRIVILLE Alex/20",
          "ZARCO Johann/16",
          "RAINEY Wayne/24",
          "CADALORA Luca/34",
          "SAKATA Kazuto/11",
          "RINS Alex/15",
          "LUTHI Thomas/17",
          "VIÑALES Maverick/25",
          "KALLIO Mika/16",
          "MAMOLA Randy/13",
          "MANG Anton/42",
          "HAILWOOD Mike/76",
          "HARADA Tetsuya/17",
          "DÖRFLINGER Stefan/18",
          "LAWSON Eddie/31",
          "DOOHAN Mick/54",
          "TAVERI Luigi/30",
          "REDMAN Jim/45",
          "CAPIROSSI Loris/29",
          "LAZZARINI Eugenio/27",
          "NIETO Angel/90",
          "AGOSTINI Giacomo/122",
          "MARQUEZ Marc/85",
          "DOVIZIOSO Andrea/24",
          "BIAGGI Max/42",
          "READ Phil/52",
          "LORENZO Jorge/68",
          "PEDROSA Dani/54",
          "ROSSI Valentino/115",
          "ABRAHAM Karel",
          "AEGERTER Dominique",
          "AGOSTINI Duilio",
          "AHEARN Jack",
          "AOKI Nobuatsu",
          "ARTIGAS Xavier",
          "AUREAL Jean",
          "BALLERINI Andrea",
          "BARRINGTON Manliefe",
          "BAYLISS Troy",
          "BELL Artie",
          "BINDER Darryn",
          "BOLLE Jacques",
          "BRETT Jack",
          "BRIGAGLIA Domenico",
          "BRUINS Jan",
          "CALDARELLA Benedicto",
          "CARPENTER Phil",
          "CARTER Alan",
          "CASANOVA Bruno",
          "CASOLI Paolo",
          "CELSO-SANTOS Adu",
          "CHANTRA Somkiat",
          "CHEVALLIER Olivier",
          "CLUZEL Jules",
          "COLEMAN Rod",
          "COLNAGO Giuseppe",
          "CONFORTI Pier Luigi",
          "COPETA Angelo",
          "CRAFAR Simon",
          "CREITH R.",
          "CZIHAK Edmund",
          "DANIELL Harold",
          "EMMERICH Ingo",
          "ESPARGARO Aleix",
          "FELGENHEIER Roland",
          "FERRI Romolo",
          "FILICE Jim",
          "FREYMOND Roland",
          "FÜGNER Horst",
          "GOI Ivan",
          "GRAF Ulrich",
          "GUEVARA Izan",
          "GUILLEUX Herve",
          "GUSTAFSSON Leif",
          "HASEGAWA Horoshi",
          "IRELAND Dennis",
          "ITO Fumio",
          "JEFFERIES Tony",
          "KAFKA Gerd",
          "KISSLING Jorge",
          "KOBAYASHI Masaru",
          "KORHONEN Pentti",
          "KOYAMA Tomoyoshi",
          "LACONI Regis",
          "LEGA Mario",
          "LEONI Guido",
          "LOI Livio",
          "LUCCHI Marcellino",
          "MARSOVSZKY Gyula",
          "MCCONNACHIE Ian",
          "MCCULLOUGH Ray",
          "MCWILLIAMS Jeremy",
          "MINTER Derek",
          "MIYAZAKI Osamu",
          "MOLLOY Ginger",
          "MUDFORD Ken",
          "NAGASHIMA Tetsuta",
          "NASH Godfrey",
          "NEWBOLD John",
          "NEWCOMBE Kim",
          "NIETO Pablo",
          "NORTH Alan",
          "OETTL Philipp",
          "PIRRO Michele",
          "PREIN Stefan",
          "PUIG Alberto",
          "REITMAIER Fritz",
          "RICCI Fausto",
          "ROBERTS Joe",
          "ROSSI Louis",
          "SALA Guido",
          "SCHNEIDER Bert",
          "SCHURGERS Jos",
          "SELINI Jean Claude",
          "SIMEON Xavier",
          "SPAGGIARI Bruno",
          "SPIES Ben",
          "STOELLINGER Edi",
          "TAIRA Tadahiko",
          "TANAKA Kenjiro",
          "TOBA Kaito",
          "TOMIZAWA Shoya",
          "TORRES Jordi",
          "TOURNADRE Jean Louis",
          "VAN DONGEN Cees",
          "VAN DULMEN Boet",
          "VENTURI Remo",
          "VERMEULEN Chris",
          "WILLIAMS John",
          "WILLIAMS Peter",
          "ZEELENBERG Wilco",
          "ÖNCÜ Can",
          "BERGAMONTI Angelo",
          "BONERA Gianfranco",
          "CAÑELLAS Salvador",
          "CHECA Carlos",
          "DALE Dickie",
          "DEBON Alex",
          "DORAN William",
          "FERRARI Virginio",
          "GANDOSSI Alberto",
          "GRAHAM Stuart",
          "HERREROS Manuel",
          "HERRON Tom",
          "HUBERTS Jan",
          "ITOH Mitsuo",
          "KASSNER Helmut",
          "MASBOU Alexis",
          "MCCANDLESS Cromie",
          "MIDDELBURG Jack",
          "MIGNO Andrea",
          "MONNERET Pierre",
          "NAKAGAMI Takaaki",
          "NAVARRO Jorge",
          "PALAZZESE Ivan",
          "PAWI Khairul Idham",
          "PESEK Lukas",
          "PETRUCCI Danilo",
          "RAMIREZ Marcos",
          "RUTTER Tony",
          "SAUL Eric",
          "SCALVINI Gianluigi",
          "SHEPHERD Alan",
          "SUZUKI Tatsuki",
          "TAMADA Makoto",
          "TORRONTEGUI Herri",
          "VAZQUEZ Efren",
          "VITALI Maurizio",
          "WEST Anthony",
          "WHEELER Arthur",
          "WOOD Tommy",
          "ABE Norick",
          "BEATTIE Daryl",
          "BUSCHERINI Otello",
          "CANN Maurice",
          "CORNU Jacques",
          "CRUTCHLOW Cal",
          "DI GIANNANTONIO Fabio",
          "DUFF Mike",
          "FERNANDEZ Augusto",
          "FERNANDEZ Patrick",
          "FINDLAY Jack",
          "GADEA Sergio",
          "GARRIGA Juan",
          "GRAMIGNI Alessandro",
          "GRANT Mike",
          "GRASSETTI Silvio",
          "HAYDEN Nicky",
          "HENNEN Pat",
          "KANAYA Hideo",
          "MCPHEE John",
          "MENDOGNI Emilio",
          "MILANI Alfredo",
          "PAGANI Alberto",
          "PERRIS Frank",
          "ROBB Tommy",
          "ROSSI Graziano",
          "ROTH Reinhold",
          "ROUGERIE Michel",
          "RUGGIA Jean Philippe",
          "SANNA Simone",
          "SMITH Bradley",
          "TAKAHASHI Yuki",
          "TIMMER Theo",
          "WILLIAMS Charlie",
          "WIMMER Martin",
          "ALZAMORA Emilio",
          "ANTONELLI Niccolò",
          "ARBOLINO Tony",
          "DE ANGELIS Alex",
          "DE RADIGUES Didier",
          "DODDS John",
          "DRAPAL Janos",
          "HERRERO Santiago",
          "JANSSON Borje",
          "KATAYAMA Yoshimi",
          "LODEWIJKX Paul",
          "PAGANI Nello",
          "PARLOTTI Gilberto",
          "REDDING Scott",
          "RITTBERGER Herbert",
          "ROLFO Roberto",
          "RUFFO Bruno",
          "SARRON Dominique",
          "SMITH Barry",
          "STASTNY Franta",
          "TAKAHASHI Kuninitsu",
          "VIETTI Celestino",
          "WAIBEL Gerhard",
          "AUINGER August",
          "BALDASSARRI Lorenzo",
          "BALDÉ Jean Francois",
          "BRADL Helmut",
          "CARDÚS Carlos",
          "CHILI Pierfrancesco",
          "CORSI Simone",
          "DALLA PORTA Lorenzo",
          "DE PUNIET Randy",
          "DI MEGLIO Mike",
          "FOLGER Jonas",
          "FRITH Freddie",
          "HARTLE John",
          "HARTOG Wil",
          "KAVANAGH Ken",
          "KNEUBÜHLER Bruno",
          "MASIA Jaume",
          "MCINTYRE Bob",
          "NIETO Fonsi",
          "OETTL Peter",
          "PERUGINI Stefano",
          "SANDFORD Cecyl",
          "TOKUDOME Masaki",
          "UKAWA Tohru",
          "ACOSTA Pedro",
          "AMM Ray",
          "ARENAS Albert",
          "BERTIN Guy",
          "BEZZECCHI Marco",
          "CANET Aron",
          "GARCIA Sergio",
          "GARDNER Remy",
          "HERWEH Manfred",
          "LIBERATI Libero",
          "LUCCHINELLI Marco",
          "MANAKO Tomomi",
          "MARINI Luca",
          "MASETTI Umberto",
          "NAKANO Shinya",
          "OKADA Tadayuki",
          "PASOLINI Renzo",
          "PHILLIS Tom",
          "ROMBONI Doriano",
          "TOERSEN Aalt",
          "ARMSTRONG Reg",
          "BARROS Alex",
          "BRADL Stefan",
          "CARRUTHERS Kel",
          "CECCHINELLO Lucio",
          "CORTESE Sandro",
          "EKEROLD Jonnie",
          "FOGGIA Dennis",
          "JACQUE Olivier",
          "LORENZETTI Enrico",
          "MORTIMER Chas",
          "PORTO Sebastian",
          "SARRON Christian",
          "UNCINI Franco",
          "VAN KESSEL Henk",
          "VINCENT Arnaud",
          "BASTIANINI Enea",
          "FAUBEL Hector",
          "LANSIVUORI Teuvo",
          "REGGIANI Loris",
          "SIMON Julian",
          "AOKI Haruchika",
          "AOYAMA Hiroshi",
          "GIANOLA Ezio",
          "GIBERNAU Sete",
          "LOCATELLI Roberto",
          "LOMAS Bill",
          "LOWES Sam",
          "MILLER Jack",
          "SALOM Luis",
          "SPAAN Hans",
          "TALMACSI Gabor",
          "AZUMA Masao",
          "BARBERA Hector",
          "BRYANS Ralph",
          "FERNANDEZ Raul",
          "GOULD Rodney",
          "HANSFORD Greg",
          "QUARTARARO Fabio",
          "HAAS Werner",
          "KATAYAMA Takazumi",
          "MARTIN Jorge",
          "MORBIDELLI Franco",
          "SAKATA Kazuto",
          "SIMMONDS Dave",
          "UI Youichi",
          "ANDERSON Fergus",
          "MARQUEZ Alex",
          "MIR Joan",
          "PASINI Mattia",
          "POGGIALI Manuel",
          "FENATI Romano",
          "IANNONE Andrea",
          "KOCINSKI John",
          "MAMOLA Randy",
          "RABAT Tito",
          "UEDA Noboru",
          "ANSCHEIDT Hans-Georg",
          "BAGNAIA Francesco",
          "BRAUN Dieter",
          "CECOTTO Johnny",
          "DE VRIES Jan",
          "RAUDIES Dirk",
          "SIMONCELLI Marco",
          "DEGNER Ernst",
          "ESPARGARO Pol",
          "PONS Sito",
          "RINS Alex",
          "SAARINEN Jarno",
          "BAUTISTA Alvaro",
          "KALLIO Mika",
          "OLIVEIRA Miguel",
          "TEROL Nicolas",
          "ZARCO Johann",
          "BINDER Brad",
          "ELIAS Toni",
          "HARADA Tetsuya",
          "KATO Daijiro",
          "LUTHI Thomas",
          "ANDERSSON Kent",
          "DÖRFLINGER Stefan",
          "GARDNER Wayne",
          "HOCKING Gary",
          "LAVADO Carlos",
          "TORMO Ricardo",
          "CRIVILLE Alex",
          "PROVINI Tarquinio",
          "WALDMANN Ralf",
          "GRESINI Fausto",
          "IVY Bill",
          "MELANDRI Marco",
          "SHEENE Barry",
          "DOVIZIOSO Andrea",
          "RAINEY Wayne",
          "ROBERTS Kenny",
          "VILLA Walter",
          "ANDERSON Hugh",
          "SCHWANTZ Kevin",
          "VIÑALES Maverick",
          "BIANCHI Pierpaolo",
          "LAZZARINI Eugenio",
          "SPENCER Freddie",
          "CAPIROSSI Loris",
          "TAVERI Luigi",
          "BALLINGTON Kork",
          "LAWSON Eddie",
          "DUKE Geoff",
          "CADALORA Luca",
          "MARTINEZ Jorge",
          "SURTEES John",
          "UBBIALI Carlo",
          "BIAGGI Max",
          "MANG Anton",
          "REDMAN Jim",
          "STONER Casey",
          "READ Phil",
          "DOOHAN Mick",
          "PEDROSA Dani",
          "LORENZO Jorge",
          "HAILWOOD Mike",
          "MARQUEZ Marc",
          "NIETO Angel",
          "ROSSI Valentino",
          "AGOSTINI Giacomo",
          "",
          "",
          "",
          "",
          "",
          "",
          "",
          "",
          "",
          "",
          "",
          "",
          "",
          "",
          "",
          "",
          "",
          "",
          "",
          "",
          "",
          "",
          "",
          "",
          "",
          "",
          "",
          "",
          "",
          "",
          "",
          "",
          "",
          "",
          "",
          "",
          "",
          "",
          "",
          "",
          "",
          "",
          "",
          "",
          "",
          "",
          "",
          "",
          "",
          "",
          "",
          "",
          "",
          "",
          "",
          "",
          "",
          "",
          "",
          "",
          "",
          "",
          "",
          "",
          "",
          "",
          "",
          "",
          "",
          "",
          "",
          "",
          "",
          "",
          "",
          "",
          "",
          "",
          "",
          "",
          "",
          "",
          "",
          "",
          "",
          "",
          "",
          "",
          "",
          "",
          "",
          "",
          "",
          "",
          "",
          "",
          "",
          "",
          "",
          "",
          "",
          "",
          "",
          "",
          "",
          "",
          "",
          "",
          "",
          "",
          "",
          "",
          "",
          "",
          "",
          "",
          "",
          "",
          "",
          "",
          "",
          "",
          "",
          "",
          "",
          "",
          "",
          "",
          "",
          "",
          "",
          "",
          "",
          "",
          "",
          "",
          "",
          "",
          "",
          "",
          "",
          "",
          "",
          "",
          "",
          "",
          "",
          "",
          "",
          "",
          "",
          "",
          "",
          "",
          "",
          "",
          "",
          "",
          "",
          "",
          "",
          "",
          "",
          "",
          "",
          "",
          "",
          "",
          "",
          "",
          "",
          "",
          "",
          "",
          "",
          "",
          "",
          "",
          "",
          "",
          "",
          "",
          "",
          "",
          "",
          "",
          "",
          "",
          "",
          "",
          "",
          "",
          "",
          "",
          "",
          "",
          "",
          "",
          "",
          "",
          "",
          "",
          "",
          "",
          "",
          "",
          "",
          "",
          "",
          "",
          "",
          "",
          "",
          "",
          "",
          "",
          "",
          "",
          "",
          "",
          "",
          "",
          "",
          "",
          "",
          "",
          "",
          "",
          "",
          "",
          "",
          "",
          "",
          "",
          "",
          "",
          "",
          "",
          "",
          "",
          "",
          "",
          "",
          "",
          "",
          "",
          "",
          "",
          "",
          "",
          "",
          "",
          "",
          "",
          "",
          "",
          "",
          "",
          "",
          "",
          "",
          "",
          "",
          "",
          "",
          "",
          "",
          "",
          "",
          "",
          "",
          "",
          "",
          "",
          "",
          "",
          "",
          "",
          "",
          "",
          "",
          "",
          "",
          "",
          "",
          "",
          "",
          "",
          "",
          "",
          "",
          "",
          "",
          "",
          "",
          "",
          "",
          "",
          "",
          "",
          "",
          "",
          "",
          "",
          "",
          "",
          "",
          "",
          "",
          "",
          "",
          "",
          "",
          "",
          "",
          "",
          "",
          "",
          "",
          "",
          "",
          "",
          "",
          "",
          "",
          "",
          "",
          "",
          "",
          "",
          "",
          "",
          "",
          "",
          "",
          "",
          "",
          "",
          "",
          "",
          "",
          "",
          "",
          "",
          "",
          "",
          "",
          "",
          "",
          "",
          "",
          "",
          "",
          "",
          "",
          "",
          "",
          "",
          "",
          "",
          "",
          "",
          "",
          "",
          "",
          "",
          "",
          ""
         ],
         "root": {
          "color": "cyan"
         },
         "type": "treemap",
         "values": [
          1,
          1,
          1,
          1,
          1,
          1,
          1,
          1,
          1,
          1,
          1,
          1,
          1,
          1,
          1,
          1,
          2,
          2,
          5,
          1,
          1,
          1,
          1,
          1,
          1,
          1,
          1,
          1,
          1,
          1,
          1,
          1,
          1,
          1,
          1,
          1,
          1,
          1,
          1,
          1,
          1,
          1,
          3,
          3,
          1,
          1,
          6,
          11,
          2,
          4,
          1,
          1,
          1,
          1,
          1,
          1,
          1,
          1,
          1,
          2,
          2,
          2,
          2,
          4,
          6,
          1,
          1,
          1,
          2,
          1,
          2,
          4,
          6,
          10,
          1,
          2,
          1,
          1,
          1,
          1,
          1,
          1,
          2,
          2,
          2,
          2,
          1,
          1,
          1,
          1,
          2,
          3,
          6,
          1,
          2,
          3,
          5,
          2,
          5,
          1,
          4,
          5,
          14,
          27,
          19,
          122,
          1,
          1,
          1,
          2,
          1,
          2,
          3,
          3,
          3,
          5,
          10,
          2,
          4,
          38,
          1,
          2,
          4,
          4,
          5,
          1,
          6,
          14,
          4,
          6,
          1,
          1,
          1,
          1,
          1,
          2,
          1,
          1,
          1,
          1,
          1,
          2,
          2,
          2,
          4,
          5,
          1,
          1,
          2,
          3,
          4,
          9,
          1,
          1,
          1,
          1,
          2,
          3,
          6,
          3,
          4,
          6,
          3,
          3,
          7,
          7,
          14,
          1,
          1,
          1,
          1,
          4,
          4,
          5,
          4,
          3,
          2,
          17,
          9,
          11,
          11,
          2,
          7,
          7,
          10,
          13,
          6,
          1,
          1,
          6,
          2,
          3,
          1,
          1,
          1,
          3,
          10,
          7,
          3,
          3,
          7,
          24,
          2,
          6,
          5,
          1,
          6,
          7,
          31,
          4,
          9,
          19,
          5,
          24,
          21,
          16,
          1,
          3,
          1,
          4,
          9,
          12,
          3,
          5,
          3,
          7,
          3,
          8,
          14,
          1,
          9,
          11,
          2,
          2,
          2,
          4,
          5,
          2,
          6,
          6,
          5,
          6,
          5,
          2,
          9,
          17,
          2,
          19,
          10,
          5,
          1,
          3,
          4,
          7,
          3,
          5,
          3,
          9,
          2,
          6,
          9,
          2,
          6,
          7,
          3,
          8,
          20,
          5,
          39,
          16,
          3,
          9,
          3,
          6,
          11,
          15,
          33,
          9,
          12,
          13,
          37,
          15,
          54,
          5,
          4,
          14,
          3,
          3,
          8,
          5,
          14,
          5,
          12,
          25,
          16,
          21,
          76,
          4,
          5,
          5,
          3,
          3,
          7,
          11,
          15,
          12,
          6,
          17,
          9,
          4,
          3,
          7,
          10,
          12,
          13,
          11,
          4,
          17,
          25,
          7,
          18,
          13,
          7,
          13,
          6,
          18,
          90,
          5,
          10,
          20,
          7,
          23,
          16,
          34,
          31,
          3,
          8,
          7,
          5,
          27,
          4,
          15,
          42,
          85,
          3,
          16,
          14,
          3,
          8,
          24,
          13,
          27,
          18,
          22,
          25,
          45,
          15,
          20,
          17,
          52,
          30,
          45,
          42,
          68,
          29,
          24,
          54,
          115,
          1,
          1,
          1,
          1,
          1,
          1,
          1,
          1,
          1,
          1,
          1,
          1,
          1,
          1,
          1,
          1,
          1,
          1,
          1,
          1,
          1,
          2,
          2,
          2,
          2,
          2,
          4,
          5,
          6,
          1,
          1,
          1,
          1,
          1,
          1,
          1,
          1,
          1,
          1,
          1,
          1,
          1,
          1,
          1,
          1,
          1,
          1,
          1,
          1,
          1,
          1,
          1,
          1,
          1,
          1,
          1,
          1,
          1,
          1,
          1,
          1,
          1,
          1,
          1,
          1,
          1,
          1,
          1,
          1,
          1,
          1,
          1,
          1,
          1,
          2,
          2,
          2,
          2,
          2,
          2,
          2,
          2,
          3,
          4,
          6,
          6,
          1,
          1,
          1,
          1,
          1,
          1,
          1,
          1,
          1,
          1,
          1,
          1,
          1,
          1,
          1,
          1,
          1,
          2,
          2,
          2,
          2,
          2,
          2,
          3,
          3,
          3,
          4,
          4,
          4,
          5,
          5,
          6,
          1,
          1,
          1,
          1,
          1,
          1,
          2,
          2,
          2,
          2,
          2,
          2,
          3,
          3,
          3,
          3,
          3,
          4,
          4,
          4,
          5,
          9,
          10,
          1,
          1,
          1,
          1,
          1,
          1,
          1,
          2,
          2,
          2,
          2,
          3,
          3,
          3,
          3,
          3,
          4,
          4,
          4,
          5,
          6,
          9,
          10,
          38,
          1,
          2,
          2,
          3,
          3,
          4,
          4,
          4,
          4,
          4,
          5,
          5,
          5,
          5,
          6,
          7,
          7,
          9,
          9,
          12,
          17,
          1,
          1,
          2,
          2,
          3,
          3,
          3,
          3,
          3,
          3,
          3,
          4,
          5,
          5,
          5,
          6,
          6,
          6,
          6,
          7,
          9,
          11,
          11,
          11,
          14,
          14,
          24,
          2,
          2,
          3,
          3,
          3,
          3,
          3,
          3,
          5,
          6,
          6,
          6,
          7,
          7,
          7,
          8,
          9,
          11,
          15,
          33,
          1,
          2,
          3,
          3,
          4,
          4,
          4,
          5,
          5,
          5,
          6,
          6,
          7,
          7,
          9,
          9,
          12,
          13,
          14,
          1,
          1,
          2,
          3,
          3,
          5,
          6,
          6,
          7,
          7,
          7,
          10,
          14,
          31,
          3,
          3,
          4,
          5,
          6,
          7,
          8,
          9,
          11,
          12,
          12,
          13,
          14,
          20,
          27,
          5,
          7,
          8,
          8,
          10,
          11,
          13,
          15,
          19,
          2,
          5,
          13,
          13,
          19,
          25,
          4,
          5,
          7,
          9,
          14,
          16,
          17,
          17,
          23,
          25,
          1,
          2,
          5,
          8,
          9,
          10,
          24,
          37,
          7,
          10,
          15,
          16,
          18,
          19,
          20,
          21,
          21,
          6,
          10,
          12,
          15,
          5,
          6,
          7,
          14,
          16,
          27,
          45,
          4,
          18,
          22,
          39,
          5,
          20,
          16,
          24,
          34,
          11,
          15,
          17,
          25,
          16,
          13,
          42,
          76,
          17,
          18,
          31,
          54,
          30,
          45,
          29,
          27,
          90,
          122,
          85,
          24,
          42,
          52,
          68,
          54,
          115,
          1,
          1,
          1,
          1,
          1,
          1,
          1,
          1,
          1,
          1,
          1,
          1,
          1,
          1,
          1,
          1,
          1,
          1,
          1,
          1,
          1,
          1,
          1,
          1,
          1,
          1,
          1,
          1,
          1,
          1,
          1,
          1,
          1,
          1,
          1,
          1,
          1,
          1,
          1,
          1,
          1,
          1,
          1,
          1,
          1,
          1,
          1,
          1,
          1,
          1,
          1,
          1,
          1,
          1,
          1,
          1,
          1,
          1,
          1,
          1,
          1,
          1,
          1,
          1,
          1,
          1,
          1,
          1,
          1,
          1,
          1,
          1,
          1,
          1,
          1,
          1,
          1,
          1,
          1,
          1,
          1,
          1,
          1,
          1,
          1,
          1,
          1,
          1,
          1,
          1,
          1,
          1,
          1,
          1,
          1,
          1,
          1,
          1,
          1,
          1,
          1,
          1,
          1,
          2,
          2,
          2,
          2,
          2,
          2,
          2,
          2,
          2,
          2,
          2,
          2,
          2,
          2,
          2,
          2,
          2,
          2,
          2,
          2,
          2,
          2,
          2,
          2,
          2,
          2,
          2,
          2,
          2,
          2,
          2,
          2,
          2,
          2,
          2,
          2,
          2,
          2,
          2,
          3,
          3,
          3,
          3,
          3,
          3,
          3,
          3,
          3,
          3,
          3,
          3,
          3,
          3,
          3,
          3,
          3,
          3,
          3,
          3,
          3,
          3,
          3,
          3,
          3,
          3,
          3,
          3,
          3,
          3,
          3,
          3,
          3,
          3,
          3,
          4,
          4,
          4,
          4,
          4,
          4,
          4,
          4,
          4,
          4,
          4,
          4,
          4,
          4,
          4,
          4,
          4,
          4,
          4,
          4,
          4,
          4,
          4,
          5,
          5,
          5,
          5,
          5,
          5,
          5,
          5,
          5,
          5,
          5,
          5,
          5,
          5,
          5,
          5,
          5,
          5,
          5,
          5,
          5,
          5,
          5,
          5,
          6,
          6,
          6,
          6,
          6,
          6,
          6,
          6,
          6,
          6,
          6,
          6,
          6,
          6,
          6,
          6,
          6,
          6,
          6,
          6,
          7,
          7,
          7,
          7,
          7,
          7,
          7,
          7,
          7,
          7,
          7,
          7,
          7,
          7,
          7,
          7,
          8,
          8,
          8,
          8,
          8,
          9,
          9,
          9,
          9,
          9,
          9,
          9,
          9,
          9,
          9,
          9,
          10,
          10,
          10,
          10,
          10,
          10,
          10,
          11,
          11,
          11,
          11,
          11,
          11,
          11,
          12,
          12,
          12,
          12,
          12,
          13,
          13,
          13,
          13,
          13,
          13,
          14,
          14,
          14,
          14,
          14,
          14,
          14,
          15,
          15,
          15,
          15,
          15,
          16,
          16,
          16,
          16,
          16,
          17,
          17,
          17,
          17,
          17,
          18,
          18,
          18,
          19,
          19,
          19,
          20,
          20,
          20,
          21,
          21,
          22,
          23,
          24,
          24,
          24,
          24,
          25,
          25,
          25,
          27,
          27,
          27,
          29,
          30,
          31,
          31,
          33,
          34,
          37,
          38,
          39,
          42,
          42,
          45,
          45,
          52,
          54,
          54,
          68,
          76,
          85,
          90,
          115,
          122,
          3,
          1,
          6,
          1,
          1,
          122,
          1,
          4,
          6,
          12,
          25,
          18,
          14,
          4,
          9,
          1,
          9,
          4,
          6,
          7,
          1,
          5,
          1,
          10,
          14,
          5,
          5,
          1,
          31,
          10,
          1,
          7,
          8,
          16,
          1,
          3,
          1,
          2,
          6,
          6,
          42,
          27,
          17,
          1,
          1,
          2,
          5,
          7,
          14,
          1,
          1,
          1,
          10,
          3,
          34,
          1,
          6,
          3,
          29,
          5,
          1,
          7,
          1,
          1,
          1,
          2,
          7,
          14,
          1,
          1,
          2,
          1,
          5,
          1,
          1,
          1,
          1,
          1,
          3,
          5,
          7,
          1,
          1,
          20,
          3,
          1,
          2,
          5,
          1,
          4,
          5,
          4,
          14,
          2,
          15,
          3,
          5,
          4,
          54,
          2,
          24,
          4,
          3,
          33,
          18,
          7,
          17,
          1,
          1,
          15,
          8,
          1,
          13,
          3,
          3,
          10,
          2,
          1,
          1,
          3,
          7,
          5,
          1,
          5,
          1,
          3,
          2,
          6,
          6,
          18,
          3,
          9,
          9,
          1,
          10,
          1,
          2,
          3,
          3,
          3,
          21,
          1,
          1,
          1,
          11,
          76,
          10,
          17,
          5,
          5,
          1,
          3,
          3,
          4,
          2,
          2,
          6,
          19,
          2,
          13,
          1,
          1,
          2,
          21,
          7,
          4,
          1,
          1,
          16,
          3,
          2,
          11,
          4,
          17,
          5,
          1,
          5,
          1,
          13,
          1,
          1,
          1,
          8,
          19,
          31,
          27,
          1,
          1,
          6,
          9,
          4,
          1,
          9,
          7,
          68,
          9,
          1,
          6,
          17,
          13,
          6,
          42,
          6,
          12,
          85,
          1,
          11,
          37,
          2,
          6,
          5,
          2,
          1,
          1,
          5,
          3,
          1,
          22,
          3,
          2,
          2,
          3,
          9,
          1,
          12,
          1,
          1,
          2,
          11,
          7,
          1,
          1,
          2,
          6,
          1,
          2,
          1,
          1,
          90,
          5,
          1,
          1,
          5,
          1,
          6,
          16,
          3,
          4,
          2,
          4,
          12,
          6,
          2,
          54,
          3,
          5,
          2,
          2,
          6,
          1,
          12,
          15,
          7,
          1,
          20,
          1,
          10,
          13,
          24,
          2,
          14,
          52,
          4,
          45,
          8,
          1,
          1,
          15,
          4,
          3,
          1,
          24,
          4,
          6,
          3,
          1,
          115,
          3,
          3,
          4,
          3,
          2,
          15,
          11,
          1,
          9,
          5,
          3,
          7,
          4,
          2,
          2,
          1,
          1,
          25,
          1,
          23,
          2,
          1,
          11,
          8,
          14,
          4,
          3,
          9,
          1,
          27,
          1,
          4,
          1,
          45,
          38,
          2,
          1,
          4,
          3,
          9,
          2,
          1,
          30,
          16,
          3,
          1,
          6,
          5,
          1,
          19,
          1,
          2,
          1,
          39,
          13,
          11,
          5,
          7,
          1,
          1,
          7,
          2,
          1,
          1,
          4,
          24,
          7,
          2,
          25,
          4,
          20,
          2,
          2,
          3,
          1,
          1,
          3,
          2,
          16,
          1,
          1
         ]
        }
       ],
       "layout": {
        "coloraxis": {
         "cmid": 3.366311834690044,
         "colorbar": {
          "title": {
           "text": "World Championships"
          }
         },
         "colorscale": [
          [
           0,
           "rgb(103,0,31)"
          ],
          [
           0.1,
           "rgb(178,24,43)"
          ],
          [
           0.2,
           "rgb(214,96,77)"
          ],
          [
           0.3,
           "rgb(244,165,130)"
          ],
          [
           0.4,
           "rgb(253,219,199)"
          ],
          [
           0.5,
           "rgb(247,247,247)"
          ],
          [
           0.6,
           "rgb(209,229,240)"
          ],
          [
           0.7,
           "rgb(146,197,222)"
          ],
          [
           0.8,
           "rgb(67,147,195)"
          ],
          [
           0.9,
           "rgb(33,102,172)"
          ],
          [
           1,
           "rgb(5,48,97)"
          ]
         ]
        },
        "legend": {
         "tracegroupgap": 0
        },
        "margin": {
         "b": 25,
         "l": 25,
         "r": 25,
         "t": 50
        },
        "template": {
         "data": {
          "bar": [
           {
            "error_x": {
             "color": "#2a3f5f"
            },
            "error_y": {
             "color": "#2a3f5f"
            },
            "marker": {
             "line": {
              "color": "#E5ECF6",
              "width": 0.5
             },
             "pattern": {
              "fillmode": "overlay",
              "size": 10,
              "solidity": 0.2
             }
            },
            "type": "bar"
           }
          ],
          "barpolar": [
           {
            "marker": {
             "line": {
              "color": "#E5ECF6",
              "width": 0.5
             },
             "pattern": {
              "fillmode": "overlay",
              "size": 10,
              "solidity": 0.2
             }
            },
            "type": "barpolar"
           }
          ],
          "carpet": [
           {
            "aaxis": {
             "endlinecolor": "#2a3f5f",
             "gridcolor": "white",
             "linecolor": "white",
             "minorgridcolor": "white",
             "startlinecolor": "#2a3f5f"
            },
            "baxis": {
             "endlinecolor": "#2a3f5f",
             "gridcolor": "white",
             "linecolor": "white",
             "minorgridcolor": "white",
             "startlinecolor": "#2a3f5f"
            },
            "type": "carpet"
           }
          ],
          "choropleth": [
           {
            "colorbar": {
             "outlinewidth": 0,
             "ticks": ""
            },
            "type": "choropleth"
           }
          ],
          "contour": [
           {
            "colorbar": {
             "outlinewidth": 0,
             "ticks": ""
            },
            "colorscale": [
             [
              0,
              "#0d0887"
             ],
             [
              0.1111111111111111,
              "#46039f"
             ],
             [
              0.2222222222222222,
              "#7201a8"
             ],
             [
              0.3333333333333333,
              "#9c179e"
             ],
             [
              0.4444444444444444,
              "#bd3786"
             ],
             [
              0.5555555555555556,
              "#d8576b"
             ],
             [
              0.6666666666666666,
              "#ed7953"
             ],
             [
              0.7777777777777778,
              "#fb9f3a"
             ],
             [
              0.8888888888888888,
              "#fdca26"
             ],
             [
              1,
              "#f0f921"
             ]
            ],
            "type": "contour"
           }
          ],
          "contourcarpet": [
           {
            "colorbar": {
             "outlinewidth": 0,
             "ticks": ""
            },
            "type": "contourcarpet"
           }
          ],
          "heatmap": [
           {
            "colorbar": {
             "outlinewidth": 0,
             "ticks": ""
            },
            "colorscale": [
             [
              0,
              "#0d0887"
             ],
             [
              0.1111111111111111,
              "#46039f"
             ],
             [
              0.2222222222222222,
              "#7201a8"
             ],
             [
              0.3333333333333333,
              "#9c179e"
             ],
             [
              0.4444444444444444,
              "#bd3786"
             ],
             [
              0.5555555555555556,
              "#d8576b"
             ],
             [
              0.6666666666666666,
              "#ed7953"
             ],
             [
              0.7777777777777778,
              "#fb9f3a"
             ],
             [
              0.8888888888888888,
              "#fdca26"
             ],
             [
              1,
              "#f0f921"
             ]
            ],
            "type": "heatmap"
           }
          ],
          "heatmapgl": [
           {
            "colorbar": {
             "outlinewidth": 0,
             "ticks": ""
            },
            "colorscale": [
             [
              0,
              "#0d0887"
             ],
             [
              0.1111111111111111,
              "#46039f"
             ],
             [
              0.2222222222222222,
              "#7201a8"
             ],
             [
              0.3333333333333333,
              "#9c179e"
             ],
             [
              0.4444444444444444,
              "#bd3786"
             ],
             [
              0.5555555555555556,
              "#d8576b"
             ],
             [
              0.6666666666666666,
              "#ed7953"
             ],
             [
              0.7777777777777778,
              "#fb9f3a"
             ],
             [
              0.8888888888888888,
              "#fdca26"
             ],
             [
              1,
              "#f0f921"
             ]
            ],
            "type": "heatmapgl"
           }
          ],
          "histogram": [
           {
            "marker": {
             "pattern": {
              "fillmode": "overlay",
              "size": 10,
              "solidity": 0.2
             }
            },
            "type": "histogram"
           }
          ],
          "histogram2d": [
           {
            "colorbar": {
             "outlinewidth": 0,
             "ticks": ""
            },
            "colorscale": [
             [
              0,
              "#0d0887"
             ],
             [
              0.1111111111111111,
              "#46039f"
             ],
             [
              0.2222222222222222,
              "#7201a8"
             ],
             [
              0.3333333333333333,
              "#9c179e"
             ],
             [
              0.4444444444444444,
              "#bd3786"
             ],
             [
              0.5555555555555556,
              "#d8576b"
             ],
             [
              0.6666666666666666,
              "#ed7953"
             ],
             [
              0.7777777777777778,
              "#fb9f3a"
             ],
             [
              0.8888888888888888,
              "#fdca26"
             ],
             [
              1,
              "#f0f921"
             ]
            ],
            "type": "histogram2d"
           }
          ],
          "histogram2dcontour": [
           {
            "colorbar": {
             "outlinewidth": 0,
             "ticks": ""
            },
            "colorscale": [
             [
              0,
              "#0d0887"
             ],
             [
              0.1111111111111111,
              "#46039f"
             ],
             [
              0.2222222222222222,
              "#7201a8"
             ],
             [
              0.3333333333333333,
              "#9c179e"
             ],
             [
              0.4444444444444444,
              "#bd3786"
             ],
             [
              0.5555555555555556,
              "#d8576b"
             ],
             [
              0.6666666666666666,
              "#ed7953"
             ],
             [
              0.7777777777777778,
              "#fb9f3a"
             ],
             [
              0.8888888888888888,
              "#fdca26"
             ],
             [
              1,
              "#f0f921"
             ]
            ],
            "type": "histogram2dcontour"
           }
          ],
          "mesh3d": [
           {
            "colorbar": {
             "outlinewidth": 0,
             "ticks": ""
            },
            "type": "mesh3d"
           }
          ],
          "parcoords": [
           {
            "line": {
             "colorbar": {
              "outlinewidth": 0,
              "ticks": ""
             }
            },
            "type": "parcoords"
           }
          ],
          "pie": [
           {
            "automargin": true,
            "type": "pie"
           }
          ],
          "scatter": [
           {
            "fillpattern": {
             "fillmode": "overlay",
             "size": 10,
             "solidity": 0.2
            },
            "type": "scatter"
           }
          ],
          "scatter3d": [
           {
            "line": {
             "colorbar": {
              "outlinewidth": 0,
              "ticks": ""
             }
            },
            "marker": {
             "colorbar": {
              "outlinewidth": 0,
              "ticks": ""
             }
            },
            "type": "scatter3d"
           }
          ],
          "scattercarpet": [
           {
            "marker": {
             "colorbar": {
              "outlinewidth": 0,
              "ticks": ""
             }
            },
            "type": "scattercarpet"
           }
          ],
          "scattergeo": [
           {
            "marker": {
             "colorbar": {
              "outlinewidth": 0,
              "ticks": ""
             }
            },
            "type": "scattergeo"
           }
          ],
          "scattergl": [
           {
            "marker": {
             "colorbar": {
              "outlinewidth": 0,
              "ticks": ""
             }
            },
            "type": "scattergl"
           }
          ],
          "scattermapbox": [
           {
            "marker": {
             "colorbar": {
              "outlinewidth": 0,
              "ticks": ""
             }
            },
            "type": "scattermapbox"
           }
          ],
          "scatterpolar": [
           {
            "marker": {
             "colorbar": {
              "outlinewidth": 0,
              "ticks": ""
             }
            },
            "type": "scatterpolar"
           }
          ],
          "scatterpolargl": [
           {
            "marker": {
             "colorbar": {
              "outlinewidth": 0,
              "ticks": ""
             }
            },
            "type": "scatterpolargl"
           }
          ],
          "scatterternary": [
           {
            "marker": {
             "colorbar": {
              "outlinewidth": 0,
              "ticks": ""
             }
            },
            "type": "scatterternary"
           }
          ],
          "surface": [
           {
            "colorbar": {
             "outlinewidth": 0,
             "ticks": ""
            },
            "colorscale": [
             [
              0,
              "#0d0887"
             ],
             [
              0.1111111111111111,
              "#46039f"
             ],
             [
              0.2222222222222222,
              "#7201a8"
             ],
             [
              0.3333333333333333,
              "#9c179e"
             ],
             [
              0.4444444444444444,
              "#bd3786"
             ],
             [
              0.5555555555555556,
              "#d8576b"
             ],
             [
              0.6666666666666666,
              "#ed7953"
             ],
             [
              0.7777777777777778,
              "#fb9f3a"
             ],
             [
              0.8888888888888888,
              "#fdca26"
             ],
             [
              1,
              "#f0f921"
             ]
            ],
            "type": "surface"
           }
          ],
          "table": [
           {
            "cells": {
             "fill": {
              "color": "#EBF0F8"
             },
             "line": {
              "color": "white"
             }
            },
            "header": {
             "fill": {
              "color": "#C8D4E3"
             },
             "line": {
              "color": "white"
             }
            },
            "type": "table"
           }
          ]
         },
         "layout": {
          "annotationdefaults": {
           "arrowcolor": "#2a3f5f",
           "arrowhead": 0,
           "arrowwidth": 1
          },
          "autotypenumbers": "strict",
          "coloraxis": {
           "colorbar": {
            "outlinewidth": 0,
            "ticks": ""
           }
          },
          "colorscale": {
           "diverging": [
            [
             0,
             "#8e0152"
            ],
            [
             0.1,
             "#c51b7d"
            ],
            [
             0.2,
             "#de77ae"
            ],
            [
             0.3,
             "#f1b6da"
            ],
            [
             0.4,
             "#fde0ef"
            ],
            [
             0.5,
             "#f7f7f7"
            ],
            [
             0.6,
             "#e6f5d0"
            ],
            [
             0.7,
             "#b8e186"
            ],
            [
             0.8,
             "#7fbc41"
            ],
            [
             0.9,
             "#4d9221"
            ],
            [
             1,
             "#276419"
            ]
           ],
           "sequential": [
            [
             0,
             "#0d0887"
            ],
            [
             0.1111111111111111,
             "#46039f"
            ],
            [
             0.2222222222222222,
             "#7201a8"
            ],
            [
             0.3333333333333333,
             "#9c179e"
            ],
            [
             0.4444444444444444,
             "#bd3786"
            ],
            [
             0.5555555555555556,
             "#d8576b"
            ],
            [
             0.6666666666666666,
             "#ed7953"
            ],
            [
             0.7777777777777778,
             "#fb9f3a"
            ],
            [
             0.8888888888888888,
             "#fdca26"
            ],
            [
             1,
             "#f0f921"
            ]
           ],
           "sequentialminus": [
            [
             0,
             "#0d0887"
            ],
            [
             0.1111111111111111,
             "#46039f"
            ],
            [
             0.2222222222222222,
             "#7201a8"
            ],
            [
             0.3333333333333333,
             "#9c179e"
            ],
            [
             0.4444444444444444,
             "#bd3786"
            ],
            [
             0.5555555555555556,
             "#d8576b"
            ],
            [
             0.6666666666666666,
             "#ed7953"
            ],
            [
             0.7777777777777778,
             "#fb9f3a"
            ],
            [
             0.8888888888888888,
             "#fdca26"
            ],
            [
             1,
             "#f0f921"
            ]
           ]
          },
          "colorway": [
           "#636efa",
           "#EF553B",
           "#00cc96",
           "#ab63fa",
           "#FFA15A",
           "#19d3f3",
           "#FF6692",
           "#B6E880",
           "#FF97FF",
           "#FECB52"
          ],
          "font": {
           "color": "#2a3f5f"
          },
          "geo": {
           "bgcolor": "white",
           "lakecolor": "white",
           "landcolor": "#E5ECF6",
           "showlakes": true,
           "showland": true,
           "subunitcolor": "white"
          },
          "hoverlabel": {
           "align": "left"
          },
          "hovermode": "closest",
          "mapbox": {
           "style": "light"
          },
          "paper_bgcolor": "white",
          "plot_bgcolor": "#E5ECF6",
          "polar": {
           "angularaxis": {
            "gridcolor": "white",
            "linecolor": "white",
            "ticks": ""
           },
           "bgcolor": "#E5ECF6",
           "radialaxis": {
            "gridcolor": "white",
            "linecolor": "white",
            "ticks": ""
           }
          },
          "scene": {
           "xaxis": {
            "backgroundcolor": "#E5ECF6",
            "gridcolor": "white",
            "gridwidth": 2,
            "linecolor": "white",
            "showbackground": true,
            "ticks": "",
            "zerolinecolor": "white"
           },
           "yaxis": {
            "backgroundcolor": "#E5ECF6",
            "gridcolor": "white",
            "gridwidth": 2,
            "linecolor": "white",
            "showbackground": true,
            "ticks": "",
            "zerolinecolor": "white"
           },
           "zaxis": {
            "backgroundcolor": "#E5ECF6",
            "gridcolor": "white",
            "gridwidth": 2,
            "linecolor": "white",
            "showbackground": true,
            "ticks": "",
            "zerolinecolor": "white"
           }
          },
          "shapedefaults": {
           "line": {
            "color": "#2a3f5f"
           }
          },
          "ternary": {
           "aaxis": {
            "gridcolor": "white",
            "linecolor": "white",
            "ticks": ""
           },
           "baxis": {
            "gridcolor": "white",
            "linecolor": "white",
            "ticks": ""
           },
           "bgcolor": "#E5ECF6",
           "caxis": {
            "gridcolor": "white",
            "linecolor": "white",
            "ticks": ""
           }
          },
          "title": {
           "x": 0.05
          },
          "xaxis": {
           "automargin": true,
           "gridcolor": "white",
           "linecolor": "white",
           "ticks": "",
           "title": {
            "standoff": 15
           },
           "zerolinecolor": "white",
           "zerolinewidth": 2
          },
          "yaxis": {
           "automargin": true,
           "gridcolor": "white",
           "linecolor": "white",
           "ticks": "",
           "title": {
            "standoff": 15
           },
           "zerolinecolor": "white",
           "zerolinewidth": 2
          }
         }
        }
       }
      }
     },
     "metadata": {},
     "output_type": "display_data"
    }
   ],
   "source": [
    "fig2= px.treemap(data_frame=gp1, path=[\"Noms\",\"Victories\",\"2nd places\",\"3rd places\"],\n",
    "                values='Victories',color='World Championships', hover_data=[\"Race fastest lap to 2022\"],color_continuous_scale='RdBu',\n",
    "                color_continuous_midpoint=np.average(gp1[\"World Championships\"], weights=gp1['Victories']))\n",
    "fig2.update_traces(root_color=\"cyan\")\n",
    "fig2.update_layout(margin = dict(t=50, l=25, r=25, b=25))\n",
    "fig2.show()"
   ]
  },
  {
   "cell_type": "code",
   "execution_count": 92,
   "metadata": {},
   "outputs": [
    {
     "data": {
      "text/html": [
       "<div>\n",
       "<style scoped>\n",
       "    .dataframe tbody tr th:only-of-type {\n",
       "        vertical-align: middle;\n",
       "    }\n",
       "\n",
       "    .dataframe tbody tr th {\n",
       "        vertical-align: top;\n",
       "    }\n",
       "\n",
       "    .dataframe thead th {\n",
       "        text-align: right;\n",
       "    }\n",
       "</style>\n",
       "<table border=\"1\" class=\"dataframe\">\n",
       "  <thead>\n",
       "    <tr style=\"text-align: right;\">\n",
       "      <th></th>\n",
       "      <th>Victories</th>\n",
       "      <th>Pole positions from '74 to 2022</th>\n",
       "      <th>World Championships</th>\n",
       "      <th>Won Championship or not?</th>\n",
       "    </tr>\n",
       "  </thead>\n",
       "  <tbody>\n",
       "    <tr>\n",
       "      <th>0</th>\n",
       "      <td>122</td>\n",
       "      <td>9.0</td>\n",
       "      <td>15.0</td>\n",
       "      <td>True</td>\n",
       "    </tr>\n",
       "    <tr>\n",
       "      <th>1</th>\n",
       "      <td>115</td>\n",
       "      <td>65.0</td>\n",
       "      <td>9.0</td>\n",
       "      <td>True</td>\n",
       "    </tr>\n",
       "    <tr>\n",
       "      <th>2</th>\n",
       "      <td>90</td>\n",
       "      <td>34.0</td>\n",
       "      <td>13.0</td>\n",
       "      <td>True</td>\n",
       "    </tr>\n",
       "    <tr>\n",
       "      <th>3</th>\n",
       "      <td>85</td>\n",
       "      <td>90.0</td>\n",
       "      <td>8.0</td>\n",
       "      <td>True</td>\n",
       "    </tr>\n",
       "    <tr>\n",
       "      <th>4</th>\n",
       "      <td>76</td>\n",
       "      <td>0.0</td>\n",
       "      <td>9.0</td>\n",
       "      <td>True</td>\n",
       "    </tr>\n",
       "    <tr>\n",
       "      <th>...</th>\n",
       "      <td>...</td>\n",
       "      <td>...</td>\n",
       "      <td>...</td>\n",
       "      <td>...</td>\n",
       "    </tr>\n",
       "    <tr>\n",
       "      <th>363</th>\n",
       "      <td>1</td>\n",
       "      <td>0.0</td>\n",
       "      <td>0.0</td>\n",
       "      <td>False</td>\n",
       "    </tr>\n",
       "    <tr>\n",
       "      <th>364</th>\n",
       "      <td>1</td>\n",
       "      <td>0.0</td>\n",
       "      <td>0.0</td>\n",
       "      <td>False</td>\n",
       "    </tr>\n",
       "    <tr>\n",
       "      <th>365</th>\n",
       "      <td>1</td>\n",
       "      <td>0.0</td>\n",
       "      <td>0.0</td>\n",
       "      <td>False</td>\n",
       "    </tr>\n",
       "    <tr>\n",
       "      <th>366</th>\n",
       "      <td>1</td>\n",
       "      <td>0.0</td>\n",
       "      <td>0.0</td>\n",
       "      <td>False</td>\n",
       "    </tr>\n",
       "    <tr>\n",
       "      <th>367</th>\n",
       "      <td>1</td>\n",
       "      <td>0.0</td>\n",
       "      <td>0.0</td>\n",
       "      <td>False</td>\n",
       "    </tr>\n",
       "  </tbody>\n",
       "</table>\n",
       "<p>368 rows × 4 columns</p>\n",
       "</div>"
      ],
      "text/plain": [
       "     Victories  Pole positions from '74 to 2022  World Championships  \\\n",
       "0          122                              9.0                 15.0   \n",
       "1          115                             65.0                  9.0   \n",
       "2           90                             34.0                 13.0   \n",
       "3           85                             90.0                  8.0   \n",
       "4           76                              0.0                  9.0   \n",
       "..         ...                              ...                  ...   \n",
       "363          1                              0.0                  0.0   \n",
       "364          1                              0.0                  0.0   \n",
       "365          1                              0.0                  0.0   \n",
       "366          1                              0.0                  0.0   \n",
       "367          1                              0.0                  0.0   \n",
       "\n",
       "    Won Championship or not?  \n",
       "0                       True  \n",
       "1                       True  \n",
       "2                       True  \n",
       "3                       True  \n",
       "4                       True  \n",
       "..                       ...  \n",
       "363                    False  \n",
       "364                    False  \n",
       "365                    False  \n",
       "366                    False  \n",
       "367                    False  \n",
       "\n",
       "[368 rows x 4 columns]"
      ]
     },
     "execution_count": 92,
     "metadata": {},
     "output_type": "execute_result"
    }
   ],
   "source": [
    "won=gp1.drop(columns=[\"2nd places\",\"3rd places\",\"Race fastest lap to 2022\",\"Noms\"])  \n",
    "won.loc[won['World Championships'] <= 0, 'Won Championship or not?'] = 'False' \n",
    "won.loc[won['World Championships'] > 0, 'Won Championship or not?'] = 'True' \n",
    "won"
   ]
  },
  {
   "cell_type": "markdown",
   "metadata": {},
   "source": [
    "# Analyse et Conclusion\n"
   ]
  },
  {
   "cell_type": "markdown",
   "metadata": {},
   "source": [
    "*  Giacomo Agostini est devenu le pilote le plus titré en MotoGP, Valentino Rossi le deuxième pilote le plus titré en MotoGP.\n",
    "*  Cependant, Valentino Rossi est devenu le pilote avec le plus grand nombre de victoires (Podium)\n",
    "*  Marc Márquez est le pilote MotoGP le plus titré qui est toujours actif.\n",
    "*  Environ 40% des championnats sont remportés par ces Pilotes les mieux classés.\n",
    "*  Plus de 50% des victoires sont repartis entre les 10 meilleurs pilotes.\n",
    "*  Gagner le championnat est beaucoup plus difficile que d’obtenir la victoire, la 2ème ou la 3ème place.\n",
    "*  Parce que le nombre de pole positions augmente les chances de gagner le championnat du monde et d’obtenir une victoire augmente également.\n",
    "*  Le championnat du monde dépend du nombre de pole positions et de victoires."
   ]
  },
  {
   "cell_type": "markdown",
   "metadata": {},
   "source": [
    "### On peut donc conclure que Valentino Rossi n'est pas le pilote le plus titré du monde mais le deuxième pilote le plus titré du mode de la moto GP"
   ]
  },
  {
   "cell_type": "markdown",
   "metadata": {},
   "source": []
  }
 ],
 "metadata": {
  "kernelspec": {
   "display_name": "Python 3.9.13 ('base')",
   "language": "python",
   "name": "python3"
  },
  "language_info": {
   "codemirror_mode": {
    "name": "ipython",
    "version": 3
   },
   "file_extension": ".py",
   "mimetype": "text/x-python",
   "name": "python",
   "nbconvert_exporter": "python",
   "pygments_lexer": "ipython3",
   "version": "3.9.13"
  },
  "orig_nbformat": 4,
  "vscode": {
   "interpreter": {
    "hash": "5fe6362a1247230475cca48cc89318fafefc73176a1be7d5298e3f3afcd70902"
   }
  }
 },
 "nbformat": 4,
 "nbformat_minor": 2
}
