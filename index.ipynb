{
 "cells": [
  {
   "cell_type": "markdown",
   "metadata": {},
   "source": [
    "![img](image.png)\n",
    "<H1>Projet Analyse de Données<H1>"
   ]
  },
  {
   "cell_type": "markdown",
   "metadata": {},
   "source": [
    "## Contexte\n",
    "\n",
    "Le moto GP est une compétition de moto devenu de nos jours très célèbre et de plus en plus regardeé dans le monde. De grand cnom ont marqué l'histoire de ce sport et plusieurs personnes pensent que Valentino Rossi est le meilleur pilote de l'histoire de ce sport. \n",
    "\n",
    "![img](rossi.jpg)\n",
    "\n",
    "La question qui prévaut est donc celle de savoir : \n",
    "### Rossi est il le pilote le plus victorieux de l'histoire du moto GP?"
   ]
  },
  {
   "cell_type": "code",
   "execution_count": 2,
   "metadata": {},
   "outputs": [],
   "source": [
    "import pandas as pd\n",
    "import numpy as np\n",
    "import plotly as plot\n",
    "import matplotlib.pyplot as plt\n",
    "import seaborn as sn\n",
    "import plotly.express as px"
   ]
  },
  {
   "cell_type": "markdown",
   "metadata": {},
   "source": [
    "### Chargement de données \n",
    "Les données sont dans un tableau au format CSV(Comma Separeted Values) :"
   ]
  },
  {
   "cell_type": "code",
   "execution_count": 3,
   "metadata": {},
   "outputs": [],
   "source": [
    "gp = pd.read_csv('data/riders-info.csv')"
   ]
  },
  {
   "cell_type": "markdown",
   "metadata": {},
   "source": [
    "*Observons les résultats que l'on obtient*"
   ]
  },
  {
   "cell_type": "code",
   "execution_count": null,
   "metadata": {},
   "outputs": [],
   "source": [
    "gp.tail()"
   ]
  },
  {
   "cell_type": "code",
   "execution_count": null,
   "metadata": {},
   "outputs": [],
   "source": [
    "gp.shape"
   ]
  },
  {
   "cell_type": "code",
   "execution_count": null,
   "metadata": {},
   "outputs": [],
   "source": [
    "gp.info()"
   ]
  },
  {
   "cell_type": "markdown",
   "metadata": {},
   "source": [
    "Les colonnes sont:\n",
    "*   Riders All Time in All Classes : Pilotes de tous les temps dans toutes les catégories\n",
    "*   Victories : nombre de victoire\n",
    "*   2nd places : deuxième places\n",
    "*   3rd places : troisièmes places\n",
    "*   Pole position from '74 to 2022' : Pole position de '74 à 2022'\n",
    "*   Race fastest lap to 2022 : Tour le plus rapide de la course jusqu’en 2022\n",
    "*   World Championships : Championts du monde"
   ]
  },
  {
   "cell_type": "markdown",
   "metadata": {},
   "source": [
    "### Nombre de valeurs NaN du tableau"
   ]
  },
  {
   "cell_type": "code",
   "execution_count": null,
   "metadata": {},
   "outputs": [],
   "source": [
    "gp.isnull().sum()"
   ]
  },
  {
   "cell_type": "code",
   "execution_count": null,
   "metadata": {},
   "outputs": [],
   "source": [
    "gp.rename(columns={\"Riders All Time in All Classes\":\"Noms\"}, inplace=True)\n",
    "gp.info()"
   ]
  },
  {
   "cell_type": "markdown",
   "metadata": {},
   "source": [
    "Plusieurs champs ont des valeurs manquantes;\n",
    "### nous allons les remplacer par 0 étant donné que ce sont des valeurs numériques"
   ]
  },
  {
   "cell_type": "code",
   "execution_count": 49,
   "metadata": {},
   "outputs": [],
   "source": [
    "gp1 = gp.fillna(0)"
   ]
  },
  {
   "cell_type": "code",
   "execution_count": null,
   "metadata": {},
   "outputs": [],
   "source": [
    "gp1.describe().transpose()"
   ]
  },
  {
   "cell_type": "markdown",
   "metadata": {},
   "source": [
    "Affichons le graphe qui represente les pilotes et leurs victoire:\n",
    "Nous remarquons que le pilote  Valentino Rossi qui aura le code 1 a moins de victoire que le pilote au code 0"
   ]
  },
  {
   "cell_type": "code",
   "execution_count": null,
   "metadata": {},
   "outputs": [],
   "source": [
    "gp1.head(25).plot.barh(x=\"Noms\",y=\"Victories\",color=\"red\",alpha=0.80);plt.xlabel(\"victories\");plt.ylabel(\"Name of Players\");\n",
    "plt.title(\"Victories by Players\");plt.show()"
   ]
  },
  {
   "cell_type": "code",
   "execution_count": null,
   "metadata": {},
   "outputs": [],
   "source": [
    "gp1.plot.box()"
   ]
  },
  {
   "cell_type": "markdown",
   "metadata": {},
   "source": [
    "### graphe qui montre le nombre de championat du monde remporté"
   ]
  },
  {
   "cell_type": "markdown",
   "metadata": {},
   "source": [
    "Pilotes avec plus de 5 victoires: Giacomo Agostini reste toujours le plus de victoires"
   ]
  },
  {
   "cell_type": "code",
   "execution_count": null,
   "metadata": {},
   "outputs": [],
   "source": [
    "gp1[gp1[\"World Championships\"]>5].plot(x=\"Noms\",y=\"World Championships\",kind=\"bar\",color=\"green\")\n",
    "plt.xlabel(\"Nom des pilotes\")\n",
    "plt.ylabel(\"No . of world campionships\")\n",
    "plt.title(\"No. of world title won by players\",fontsize=10,pad=5)\n",
    "plt.show()"
   ]
  },
  {
   "cell_type": "markdown",
   "metadata": {},
   "source": [
    "Les coureurs qui ont plusieurs podiums tels que champion, deuxième et troisième place. Valentino Rossi est le pilote avec le plus grand nombre de podiums par rapport à Giacomo Agostini."
   ]
  },
  {
   "cell_type": "code",
   "execution_count": null,
   "metadata": {},
   "outputs": [],
   "source": [
    "df_mt=gp1.drop(columns=[\"Pole positions from '74 to 2022\",\"Race fastest lap to 2022\",\"World Championships\"])\n",
    "\n",
    "df_mt.head(10).plot(x='Noms', kind='bar', stacked=True,\n",
    "        title='Stacked Bar Graph by dataframe')\n",
    "plt.show()"
   ]
  },
  {
   "cell_type": "code",
   "execution_count": null,
   "metadata": {},
   "outputs": [],
   "source": [
    "total = sum(gp1[\"Victories\"])\n",
    "data = [sum(gp1[\"Victories\"].head(10)),sum(gp1[\"Victories\"])-sum(gp1[\"Victories\"].head(10))]\n",
    "\n",
    "sizes = data\n",
    "labels = ['top 10 riders victories', 'Other riders victories']\n",
    "colors = ['blue', 'red']\n",
    "\n",
    "explode = (0.05, 0.05)\n",
    "\n",
    "# Pie Chart\n",
    "plt.pie(sizes, colors=colors, labels=labels,autopct='%1.1f%%', pctdistance=0.85,explode=explode)\n",
    "\n",
    "# draw circle\n",
    "centre_circle = plt.Circle((0, 0), 0.60, fc='white')\n",
    "fig = plt.gcf()\n",
    "\n",
    "fig.gca().add_artist(centre_circle)\n",
    "\n",
    "plt.title('Victories of top 10 players vs other Riders')\n",
    "\n",
    "plt.legend(labels, loc=\"upper left\", title=\"Comparision of top players vs others\")\n",
    "\n",
    "plt.show()"
   ]
  },
  {
   "cell_type": "markdown",
   "metadata": {},
   "source": [
    "## Correlation"
   ]
  },
  {
   "cell_type": "code",
   "execution_count": null,
   "metadata": {},
   "outputs": [],
   "source": [
    "corr=gp1.corr()\n",
    "corr.style.highlight_max(color=\"green\",axis=1)"
   ]
  },
  {
   "cell_type": "markdown",
   "metadata": {},
   "source": [
    "### Heatmap"
   ]
  },
  {
   "cell_type": "code",
   "execution_count": null,
   "metadata": {},
   "outputs": [],
   "source": [
    "sn.heatmap(corr)"
   ]
  },
  {
   "cell_type": "code",
   "execution_count": null,
   "metadata": {},
   "outputs": [],
   "source": [
    "plt.figure(facecolor=\"olive\",edgecolor=\"green\")\n",
    "sn.set_palette( 'inferno_r')\n",
    "sn.set_style(\"darkgrid\")\n",
    "df2=gp1.sort_values(by=\"Victories\",ascending=False).head(10)\n",
    "df3=gp1.sort_values(by=\"2nd places\",ascending=False).head(10)\n",
    "df4=gp1.sort_values(by=\"3rd places\",ascending=False).head(10)\n",
    "df5=gp1.sort_values(by=\"World Championships\",ascending=False).head(10)\n",
    "fig, axes = plt.subplots(4,1)\n",
    "fig.suptitle('Players top in their positions')\n",
    "\n",
    "\n",
    "sn.barplot(ax=axes[0], x=df2.Noms, y=df2.Victories)\n",
    "axes[0].set_title(\"players with highest victories\")\n",
    "\n",
    "\n",
    "sn.barplot(ax=axes[1], x=df3.Noms, y=df3[\"2nd places\"])\n",
    "axes[1].set_title(\"Players with most no. of 2 nd positions\")\n",
    "\n",
    "\n",
    "sn.barplot(ax=axes[2], x=df4.Noms, y=df4[\"3rd places\"])\n",
    "axes[2].set_title(\"Players with most no. of 3rd positions\")\n",
    "\n",
    "sn.barplot(ax=axes[3], x=df5.Noms, y=df5[\"World Championships\"])\n",
    "axes[3].set_title(\"Players with most no. of World Campionships\")\n",
    "\n",
    "plt.xticks(rotation=90)\n",
    "plt.show()"
   ]
  },
  {
   "cell_type": "code",
   "execution_count": null,
   "metadata": {},
   "outputs": [],
   "source": [
    "\n",
    "sn.pairplot(gp1,palette=\"rainbow\",corner=True,plot_kws=dict(marker=\"+\", linewidth=1),\n",
    "diag_kws=dict(fill=False));plt.show()\n"
   ]
  },
  {
   "cell_type": "code",
   "execution_count": null,
   "metadata": {},
   "outputs": [],
   "source": [
    "fig = px.box(gp1, y=\"Race fastest lap to 2022\", points=\"all\",notched=True)\n",
    "fig.show()"
   ]
  },
  {
   "cell_type": "code",
   "execution_count": null,
   "metadata": {},
   "outputs": [],
   "source": [
    "sn.lmplot(data=gp1, x=\"Pole positions from '74 to 2022\", y=\"World Championships\",markers=[\"*\"],palette=\"Set1\")"
   ]
  },
  {
   "cell_type": "code",
   "execution_count": null,
   "metadata": {},
   "outputs": [],
   "source": [
    "fig2= px.treemap(data_frame=gp1, path=[\"Noms\",\"Victories\",\"2nd places\",\"3rd places\"],\n",
    "                values='Victories',color='World Championships', hover_data=[\"Race fastest lap to 2022\"],color_continuous_scale='RdBu',\n",
    "                color_continuous_midpoint=np.average(gp1[\"World Championships\"], weights=gp1['Victories']))\n",
    "fig2.update_traces(root_color=\"cyan\")\n",
    "fig2.update_layout(margin = dict(t=50, l=25, r=25, b=25))\n",
    "fig2.show()"
   ]
  },
  {
   "cell_type": "code",
   "execution_count": null,
   "metadata": {},
   "outputs": [],
   "source": [
    "won=gp1.drop(columns=[\"2nd places\",\"3rd places\",\"Race fastest lap to 2022\",\"Noms\"])  \n",
    "won.loc[won['World Championships'] <= 0, 'Won Championship or not?'] = 'False' \n",
    "won.loc[won['World Championships'] > 0, 'Won Championship or not?'] = 'True' \n",
    "won"
   ]
  },
  {
   "cell_type": "markdown",
   "metadata": {},
   "source": [
    "# Analyse et Conclusion\n"
   ]
  },
  {
   "cell_type": "markdown",
   "metadata": {},
   "source": [
    "*  Giacomo Agostini est devenu le pilote le plus titré en MotoGP, Valentino Rossi le deuxième pilote le plus titré en MotoGP.\n",
    "*  Cependant, Valentino Rossi est devenu le pilote avec le plus grand nombre de victoires (Podium)\n",
    "*  Marc Márquez est le pilote MotoGP le plus titré qui est toujours actif.\n",
    "*  Environ 40% des championnats sont remportés par ces Pilotes les mieux classés.\n",
    "*  Plus de 50% des victoires sont repartis entre les 10 meilleurs pilotes.\n",
    "*  Gagner le championnat est beaucoup plus difficile que d’obtenir la victoire, la 2ème ou la 3ème place.\n",
    "*  Parce que le nombre de pole positions augmente les chances de gagner le championnat du monde et d’obtenir une victoire augmente également.\n",
    "*  Le championnat du monde dépend du nombre de pole positions et de victoires."
   ]
  },
  {
   "cell_type": "markdown",
   "metadata": {},
   "source": [
    "### On peut donc conclure que Valentino Rossi n'est pas le pilote le plus titré du monde mais le deuxième pilote le plus titré du mode de la moto GP"
   ]
  },
  {
   "cell_type": "markdown",
   "metadata": {},
   "source": []
  }
 ],
 "metadata": {
  "kernelspec": {
   "display_name": "Python 3.9.13 ('base')",
   "language": "python",
   "name": "python3"
  },
  "language_info": {
   "codemirror_mode": {
    "name": "ipython",
    "version": 3
   },
   "file_extension": ".py",
   "mimetype": "text/x-python",
   "name": "python",
   "nbconvert_exporter": "python",
   "pygments_lexer": "ipython3",
   "version": "3.9.13"
  },
  "orig_nbformat": 4,
  "vscode": {
   "interpreter": {
    "hash": "5fe6362a1247230475cca48cc89318fafefc73176a1be7d5298e3f3afcd70902"
   }
  }
 },
 "nbformat": 4,
 "nbformat_minor": 2
}
